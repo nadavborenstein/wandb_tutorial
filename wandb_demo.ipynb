{
  "nbformat": 4,
  "nbformat_minor": 0,
  "metadata": {
    "colab": {
      "name": "wandb-demo.ipynb",
      "provenance": [],
      "collapsed_sections": [],
      "toc_visible": true
    },
    "kernelspec": {
      "display_name": "Python 3",
      "name": "python3"
    },
    "accelerator": "GPU",
    "widgets": {
      "application/vnd.jupyter.widget-state+json": {
        "ddefcddf44154951ade2c6814d54d8b4": {
          "model_module": "@jupyter-widgets/controls",
          "model_name": "VBoxModel",
          "state": {
            "_view_name": "VBoxView",
            "_dom_classes": [],
            "_model_name": "VBoxModel",
            "_view_module": "@jupyter-widgets/controls",
            "_model_module_version": "1.5.0",
            "_view_count": null,
            "_view_module_version": "1.5.0",
            "box_style": "",
            "layout": "IPY_MODEL_863d8e1e0dc146298815f0665e4cd142",
            "_model_module": "@jupyter-widgets/controls",
            "children": [
              "IPY_MODEL_b91d2cdae65641c39db455c5c4114a5e",
              "IPY_MODEL_d053961b7ec445ff9369129c9ac4e872"
            ]
          }
        },
        "863d8e1e0dc146298815f0665e4cd142": {
          "model_module": "@jupyter-widgets/base",
          "model_name": "LayoutModel",
          "state": {
            "_view_name": "LayoutView",
            "grid_template_rows": null,
            "right": null,
            "justify_content": null,
            "_view_module": "@jupyter-widgets/base",
            "overflow": null,
            "_model_module_version": "1.2.0",
            "_view_count": null,
            "flex_flow": null,
            "width": null,
            "min_width": null,
            "border": null,
            "align_items": null,
            "bottom": null,
            "_model_module": "@jupyter-widgets/base",
            "top": null,
            "grid_column": null,
            "overflow_y": null,
            "overflow_x": null,
            "grid_auto_flow": null,
            "grid_area": null,
            "grid_template_columns": null,
            "flex": null,
            "_model_name": "LayoutModel",
            "justify_items": null,
            "grid_row": null,
            "max_height": null,
            "align_content": null,
            "visibility": null,
            "align_self": null,
            "height": null,
            "min_height": null,
            "padding": null,
            "grid_auto_rows": null,
            "grid_gap": null,
            "max_width": null,
            "order": null,
            "_view_module_version": "1.2.0",
            "grid_template_areas": null,
            "object_position": null,
            "object_fit": null,
            "grid_auto_columns": null,
            "margin": null,
            "display": null,
            "left": null
          }
        },
        "b91d2cdae65641c39db455c5c4114a5e": {
          "model_module": "@jupyter-widgets/controls",
          "model_name": "LabelModel",
          "state": {
            "_view_name": "LabelView",
            "style": "IPY_MODEL_64a6fdf38abe4320b34c06a75fc76ad9",
            "_dom_classes": [],
            "description": "",
            "_model_name": "LabelModel",
            "placeholder": "​",
            "_view_module": "@jupyter-widgets/controls",
            "_model_module_version": "1.5.0",
            "value": " 0.71MB of 0.71MB uploaded (0.00MB deduped)\r",
            "_view_count": null,
            "_view_module_version": "1.5.0",
            "description_tooltip": null,
            "_model_module": "@jupyter-widgets/controls",
            "layout": "IPY_MODEL_93381744cecd4209bb16ec04ae9bf352"
          }
        },
        "d053961b7ec445ff9369129c9ac4e872": {
          "model_module": "@jupyter-widgets/controls",
          "model_name": "FloatProgressModel",
          "state": {
            "_view_name": "ProgressView",
            "style": "IPY_MODEL_09e92569d4964bf092df74b2247eab89",
            "_dom_classes": [],
            "description": "",
            "_model_name": "FloatProgressModel",
            "bar_style": "",
            "max": 1,
            "_view_module": "@jupyter-widgets/controls",
            "_model_module_version": "1.5.0",
            "value": 1,
            "_view_count": null,
            "_view_module_version": "1.5.0",
            "orientation": "horizontal",
            "min": 0,
            "description_tooltip": null,
            "_model_module": "@jupyter-widgets/controls",
            "layout": "IPY_MODEL_a5d98ad26315491cb5fbb8fc26627c83"
          }
        },
        "64a6fdf38abe4320b34c06a75fc76ad9": {
          "model_module": "@jupyter-widgets/controls",
          "model_name": "DescriptionStyleModel",
          "state": {
            "_view_name": "StyleView",
            "_model_name": "DescriptionStyleModel",
            "description_width": "",
            "_view_module": "@jupyter-widgets/base",
            "_model_module_version": "1.5.0",
            "_view_count": null,
            "_view_module_version": "1.2.0",
            "_model_module": "@jupyter-widgets/controls"
          }
        },
        "93381744cecd4209bb16ec04ae9bf352": {
          "model_module": "@jupyter-widgets/base",
          "model_name": "LayoutModel",
          "state": {
            "_view_name": "LayoutView",
            "grid_template_rows": null,
            "right": null,
            "justify_content": null,
            "_view_module": "@jupyter-widgets/base",
            "overflow": null,
            "_model_module_version": "1.2.0",
            "_view_count": null,
            "flex_flow": null,
            "width": null,
            "min_width": null,
            "border": null,
            "align_items": null,
            "bottom": null,
            "_model_module": "@jupyter-widgets/base",
            "top": null,
            "grid_column": null,
            "overflow_y": null,
            "overflow_x": null,
            "grid_auto_flow": null,
            "grid_area": null,
            "grid_template_columns": null,
            "flex": null,
            "_model_name": "LayoutModel",
            "justify_items": null,
            "grid_row": null,
            "max_height": null,
            "align_content": null,
            "visibility": null,
            "align_self": null,
            "height": null,
            "min_height": null,
            "padding": null,
            "grid_auto_rows": null,
            "grid_gap": null,
            "max_width": null,
            "order": null,
            "_view_module_version": "1.2.0",
            "grid_template_areas": null,
            "object_position": null,
            "object_fit": null,
            "grid_auto_columns": null,
            "margin": null,
            "display": null,
            "left": null
          }
        },
        "09e92569d4964bf092df74b2247eab89": {
          "model_module": "@jupyter-widgets/controls",
          "model_name": "ProgressStyleModel",
          "state": {
            "_view_name": "StyleView",
            "_model_name": "ProgressStyleModel",
            "description_width": "",
            "_view_module": "@jupyter-widgets/base",
            "_model_module_version": "1.5.0",
            "_view_count": null,
            "_view_module_version": "1.2.0",
            "bar_color": null,
            "_model_module": "@jupyter-widgets/controls"
          }
        },
        "a5d98ad26315491cb5fbb8fc26627c83": {
          "model_module": "@jupyter-widgets/base",
          "model_name": "LayoutModel",
          "state": {
            "_view_name": "LayoutView",
            "grid_template_rows": null,
            "right": null,
            "justify_content": null,
            "_view_module": "@jupyter-widgets/base",
            "overflow": null,
            "_model_module_version": "1.2.0",
            "_view_count": null,
            "flex_flow": null,
            "width": null,
            "min_width": null,
            "border": null,
            "align_items": null,
            "bottom": null,
            "_model_module": "@jupyter-widgets/base",
            "top": null,
            "grid_column": null,
            "overflow_y": null,
            "overflow_x": null,
            "grid_auto_flow": null,
            "grid_area": null,
            "grid_template_columns": null,
            "flex": null,
            "_model_name": "LayoutModel",
            "justify_items": null,
            "grid_row": null,
            "max_height": null,
            "align_content": null,
            "visibility": null,
            "align_self": null,
            "height": null,
            "min_height": null,
            "padding": null,
            "grid_auto_rows": null,
            "grid_gap": null,
            "max_width": null,
            "order": null,
            "_view_module_version": "1.2.0",
            "grid_template_areas": null,
            "object_position": null,
            "object_fit": null,
            "grid_auto_columns": null,
            "margin": null,
            "display": null,
            "left": null
          }
        },
        "5875969fb7da48819cf9b8421f4f5e98": {
          "model_module": "@jupyter-widgets/controls",
          "model_name": "VBoxModel",
          "state": {
            "_view_name": "VBoxView",
            "_dom_classes": [],
            "_model_name": "VBoxModel",
            "_view_module": "@jupyter-widgets/controls",
            "_model_module_version": "1.5.0",
            "_view_count": null,
            "_view_module_version": "1.5.0",
            "box_style": "",
            "layout": "IPY_MODEL_0c2552f50aef4b13ac0ac78498099858",
            "_model_module": "@jupyter-widgets/controls",
            "children": [
              "IPY_MODEL_acebe20f7b554420a55bdd7133ef5480",
              "IPY_MODEL_ebe265c2b87c40e0b62198ec5e79d1dc"
            ]
          }
        },
        "0c2552f50aef4b13ac0ac78498099858": {
          "model_module": "@jupyter-widgets/base",
          "model_name": "LayoutModel",
          "state": {
            "_view_name": "LayoutView",
            "grid_template_rows": null,
            "right": null,
            "justify_content": null,
            "_view_module": "@jupyter-widgets/base",
            "overflow": null,
            "_model_module_version": "1.2.0",
            "_view_count": null,
            "flex_flow": null,
            "width": null,
            "min_width": null,
            "border": null,
            "align_items": null,
            "bottom": null,
            "_model_module": "@jupyter-widgets/base",
            "top": null,
            "grid_column": null,
            "overflow_y": null,
            "overflow_x": null,
            "grid_auto_flow": null,
            "grid_area": null,
            "grid_template_columns": null,
            "flex": null,
            "_model_name": "LayoutModel",
            "justify_items": null,
            "grid_row": null,
            "max_height": null,
            "align_content": null,
            "visibility": null,
            "align_self": null,
            "height": null,
            "min_height": null,
            "padding": null,
            "grid_auto_rows": null,
            "grid_gap": null,
            "max_width": null,
            "order": null,
            "_view_module_version": "1.2.0",
            "grid_template_areas": null,
            "object_position": null,
            "object_fit": null,
            "grid_auto_columns": null,
            "margin": null,
            "display": null,
            "left": null
          }
        },
        "acebe20f7b554420a55bdd7133ef5480": {
          "model_module": "@jupyter-widgets/controls",
          "model_name": "LabelModel",
          "state": {
            "_view_name": "LabelView",
            "style": "IPY_MODEL_d253a7cdc4c64596906c680590e6c3d9",
            "_dom_classes": [],
            "description": "",
            "_model_name": "LabelModel",
            "placeholder": "​",
            "_view_module": "@jupyter-widgets/controls",
            "_model_module_version": "1.5.0",
            "value": " 0.13MB of 0.13MB uploaded (0.00MB deduped)\r",
            "_view_count": null,
            "_view_module_version": "1.5.0",
            "description_tooltip": null,
            "_model_module": "@jupyter-widgets/controls",
            "layout": "IPY_MODEL_bebe21d2a14b479d991b9d73fd903255"
          }
        },
        "ebe265c2b87c40e0b62198ec5e79d1dc": {
          "model_module": "@jupyter-widgets/controls",
          "model_name": "FloatProgressModel",
          "state": {
            "_view_name": "ProgressView",
            "style": "IPY_MODEL_98d0f1fa227343ba9f9c2d06d06cb83f",
            "_dom_classes": [],
            "description": "",
            "_model_name": "FloatProgressModel",
            "bar_style": "",
            "max": 1,
            "_view_module": "@jupyter-widgets/controls",
            "_model_module_version": "1.5.0",
            "value": 1,
            "_view_count": null,
            "_view_module_version": "1.5.0",
            "orientation": "horizontal",
            "min": 0,
            "description_tooltip": null,
            "_model_module": "@jupyter-widgets/controls",
            "layout": "IPY_MODEL_ef873b28cb764d57911465ad14e002d2"
          }
        },
        "d253a7cdc4c64596906c680590e6c3d9": {
          "model_module": "@jupyter-widgets/controls",
          "model_name": "DescriptionStyleModel",
          "state": {
            "_view_name": "StyleView",
            "_model_name": "DescriptionStyleModel",
            "description_width": "",
            "_view_module": "@jupyter-widgets/base",
            "_model_module_version": "1.5.0",
            "_view_count": null,
            "_view_module_version": "1.2.0",
            "_model_module": "@jupyter-widgets/controls"
          }
        },
        "bebe21d2a14b479d991b9d73fd903255": {
          "model_module": "@jupyter-widgets/base",
          "model_name": "LayoutModel",
          "state": {
            "_view_name": "LayoutView",
            "grid_template_rows": null,
            "right": null,
            "justify_content": null,
            "_view_module": "@jupyter-widgets/base",
            "overflow": null,
            "_model_module_version": "1.2.0",
            "_view_count": null,
            "flex_flow": null,
            "width": null,
            "min_width": null,
            "border": null,
            "align_items": null,
            "bottom": null,
            "_model_module": "@jupyter-widgets/base",
            "top": null,
            "grid_column": null,
            "overflow_y": null,
            "overflow_x": null,
            "grid_auto_flow": null,
            "grid_area": null,
            "grid_template_columns": null,
            "flex": null,
            "_model_name": "LayoutModel",
            "justify_items": null,
            "grid_row": null,
            "max_height": null,
            "align_content": null,
            "visibility": null,
            "align_self": null,
            "height": null,
            "min_height": null,
            "padding": null,
            "grid_auto_rows": null,
            "grid_gap": null,
            "max_width": null,
            "order": null,
            "_view_module_version": "1.2.0",
            "grid_template_areas": null,
            "object_position": null,
            "object_fit": null,
            "grid_auto_columns": null,
            "margin": null,
            "display": null,
            "left": null
          }
        },
        "98d0f1fa227343ba9f9c2d06d06cb83f": {
          "model_module": "@jupyter-widgets/controls",
          "model_name": "ProgressStyleModel",
          "state": {
            "_view_name": "StyleView",
            "_model_name": "ProgressStyleModel",
            "description_width": "",
            "_view_module": "@jupyter-widgets/base",
            "_model_module_version": "1.5.0",
            "_view_count": null,
            "_view_module_version": "1.2.0",
            "bar_color": null,
            "_model_module": "@jupyter-widgets/controls"
          }
        },
        "ef873b28cb764d57911465ad14e002d2": {
          "model_module": "@jupyter-widgets/base",
          "model_name": "LayoutModel",
          "state": {
            "_view_name": "LayoutView",
            "grid_template_rows": null,
            "right": null,
            "justify_content": null,
            "_view_module": "@jupyter-widgets/base",
            "overflow": null,
            "_model_module_version": "1.2.0",
            "_view_count": null,
            "flex_flow": null,
            "width": null,
            "min_width": null,
            "border": null,
            "align_items": null,
            "bottom": null,
            "_model_module": "@jupyter-widgets/base",
            "top": null,
            "grid_column": null,
            "overflow_y": null,
            "overflow_x": null,
            "grid_auto_flow": null,
            "grid_area": null,
            "grid_template_columns": null,
            "flex": null,
            "_model_name": "LayoutModel",
            "justify_items": null,
            "grid_row": null,
            "max_height": null,
            "align_content": null,
            "visibility": null,
            "align_self": null,
            "height": null,
            "min_height": null,
            "padding": null,
            "grid_auto_rows": null,
            "grid_gap": null,
            "max_width": null,
            "order": null,
            "_view_module_version": "1.2.0",
            "grid_template_areas": null,
            "object_position": null,
            "object_fit": null,
            "grid_auto_columns": null,
            "margin": null,
            "display": null,
            "left": null
          }
        },
        "149589b6b24e416d9c4531f7a765790d": {
          "model_module": "@jupyter-widgets/controls",
          "model_name": "VBoxModel",
          "state": {
            "_view_name": "VBoxView",
            "_dom_classes": [],
            "_model_name": "VBoxModel",
            "_view_module": "@jupyter-widgets/controls",
            "_model_module_version": "1.5.0",
            "_view_count": null,
            "_view_module_version": "1.5.0",
            "box_style": "",
            "layout": "IPY_MODEL_0342d54403c74749a51fffcd9c919e82",
            "_model_module": "@jupyter-widgets/controls",
            "children": [
              "IPY_MODEL_0a3023186af34e9d914824e02c1e3d35",
              "IPY_MODEL_0f342803cea44aafacfe8e6cb3006acc"
            ]
          }
        },
        "0342d54403c74749a51fffcd9c919e82": {
          "model_module": "@jupyter-widgets/base",
          "model_name": "LayoutModel",
          "state": {
            "_view_name": "LayoutView",
            "grid_template_rows": null,
            "right": null,
            "justify_content": null,
            "_view_module": "@jupyter-widgets/base",
            "overflow": null,
            "_model_module_version": "1.2.0",
            "_view_count": null,
            "flex_flow": null,
            "width": null,
            "min_width": null,
            "border": null,
            "align_items": null,
            "bottom": null,
            "_model_module": "@jupyter-widgets/base",
            "top": null,
            "grid_column": null,
            "overflow_y": null,
            "overflow_x": null,
            "grid_auto_flow": null,
            "grid_area": null,
            "grid_template_columns": null,
            "flex": null,
            "_model_name": "LayoutModel",
            "justify_items": null,
            "grid_row": null,
            "max_height": null,
            "align_content": null,
            "visibility": null,
            "align_self": null,
            "height": null,
            "min_height": null,
            "padding": null,
            "grid_auto_rows": null,
            "grid_gap": null,
            "max_width": null,
            "order": null,
            "_view_module_version": "1.2.0",
            "grid_template_areas": null,
            "object_position": null,
            "object_fit": null,
            "grid_auto_columns": null,
            "margin": null,
            "display": null,
            "left": null
          }
        },
        "0a3023186af34e9d914824e02c1e3d35": {
          "model_module": "@jupyter-widgets/controls",
          "model_name": "LabelModel",
          "state": {
            "_view_name": "LabelView",
            "style": "IPY_MODEL_ccfeff62a812497dbe436cbcac038d11",
            "_dom_classes": [],
            "description": "",
            "_model_name": "LabelModel",
            "placeholder": "​",
            "_view_module": "@jupyter-widgets/controls",
            "_model_module_version": "1.5.0",
            "value": " 0.13MB of 0.13MB uploaded (0.00MB deduped)\r",
            "_view_count": null,
            "_view_module_version": "1.5.0",
            "description_tooltip": null,
            "_model_module": "@jupyter-widgets/controls",
            "layout": "IPY_MODEL_b63ae754336a4628991e6185d930e1ae"
          }
        },
        "0f342803cea44aafacfe8e6cb3006acc": {
          "model_module": "@jupyter-widgets/controls",
          "model_name": "FloatProgressModel",
          "state": {
            "_view_name": "ProgressView",
            "style": "IPY_MODEL_8ad4b70a535d4485bcb8ac29e9180ac2",
            "_dom_classes": [],
            "description": "",
            "_model_name": "FloatProgressModel",
            "bar_style": "",
            "max": 1,
            "_view_module": "@jupyter-widgets/controls",
            "_model_module_version": "1.5.0",
            "value": 1,
            "_view_count": null,
            "_view_module_version": "1.5.0",
            "orientation": "horizontal",
            "min": 0,
            "description_tooltip": null,
            "_model_module": "@jupyter-widgets/controls",
            "layout": "IPY_MODEL_ebc9c84c81ef42729184246841f3ac73"
          }
        },
        "ccfeff62a812497dbe436cbcac038d11": {
          "model_module": "@jupyter-widgets/controls",
          "model_name": "DescriptionStyleModel",
          "state": {
            "_view_name": "StyleView",
            "_model_name": "DescriptionStyleModel",
            "description_width": "",
            "_view_module": "@jupyter-widgets/base",
            "_model_module_version": "1.5.0",
            "_view_count": null,
            "_view_module_version": "1.2.0",
            "_model_module": "@jupyter-widgets/controls"
          }
        },
        "b63ae754336a4628991e6185d930e1ae": {
          "model_module": "@jupyter-widgets/base",
          "model_name": "LayoutModel",
          "state": {
            "_view_name": "LayoutView",
            "grid_template_rows": null,
            "right": null,
            "justify_content": null,
            "_view_module": "@jupyter-widgets/base",
            "overflow": null,
            "_model_module_version": "1.2.0",
            "_view_count": null,
            "flex_flow": null,
            "width": null,
            "min_width": null,
            "border": null,
            "align_items": null,
            "bottom": null,
            "_model_module": "@jupyter-widgets/base",
            "top": null,
            "grid_column": null,
            "overflow_y": null,
            "overflow_x": null,
            "grid_auto_flow": null,
            "grid_area": null,
            "grid_template_columns": null,
            "flex": null,
            "_model_name": "LayoutModel",
            "justify_items": null,
            "grid_row": null,
            "max_height": null,
            "align_content": null,
            "visibility": null,
            "align_self": null,
            "height": null,
            "min_height": null,
            "padding": null,
            "grid_auto_rows": null,
            "grid_gap": null,
            "max_width": null,
            "order": null,
            "_view_module_version": "1.2.0",
            "grid_template_areas": null,
            "object_position": null,
            "object_fit": null,
            "grid_auto_columns": null,
            "margin": null,
            "display": null,
            "left": null
          }
        },
        "8ad4b70a535d4485bcb8ac29e9180ac2": {
          "model_module": "@jupyter-widgets/controls",
          "model_name": "ProgressStyleModel",
          "state": {
            "_view_name": "StyleView",
            "_model_name": "ProgressStyleModel",
            "description_width": "",
            "_view_module": "@jupyter-widgets/base",
            "_model_module_version": "1.5.0",
            "_view_count": null,
            "_view_module_version": "1.2.0",
            "bar_color": null,
            "_model_module": "@jupyter-widgets/controls"
          }
        },
        "ebc9c84c81ef42729184246841f3ac73": {
          "model_module": "@jupyter-widgets/base",
          "model_name": "LayoutModel",
          "state": {
            "_view_name": "LayoutView",
            "grid_template_rows": null,
            "right": null,
            "justify_content": null,
            "_view_module": "@jupyter-widgets/base",
            "overflow": null,
            "_model_module_version": "1.2.0",
            "_view_count": null,
            "flex_flow": null,
            "width": null,
            "min_width": null,
            "border": null,
            "align_items": null,
            "bottom": null,
            "_model_module": "@jupyter-widgets/base",
            "top": null,
            "grid_column": null,
            "overflow_y": null,
            "overflow_x": null,
            "grid_auto_flow": null,
            "grid_area": null,
            "grid_template_columns": null,
            "flex": null,
            "_model_name": "LayoutModel",
            "justify_items": null,
            "grid_row": null,
            "max_height": null,
            "align_content": null,
            "visibility": null,
            "align_self": null,
            "height": null,
            "min_height": null,
            "padding": null,
            "grid_auto_rows": null,
            "grid_gap": null,
            "max_width": null,
            "order": null,
            "_view_module_version": "1.2.0",
            "grid_template_areas": null,
            "object_position": null,
            "object_fit": null,
            "grid_auto_columns": null,
            "margin": null,
            "display": null,
            "left": null
          }
        },
        "b8e6ce82a94049f0b0d1c4ea2377f58a": {
          "model_module": "@jupyter-widgets/controls",
          "model_name": "VBoxModel",
          "state": {
            "_view_name": "VBoxView",
            "_dom_classes": [],
            "_model_name": "VBoxModel",
            "_view_module": "@jupyter-widgets/controls",
            "_model_module_version": "1.5.0",
            "_view_count": null,
            "_view_module_version": "1.5.0",
            "box_style": "",
            "layout": "IPY_MODEL_8ee85fa6923d4e74814c7ee77a9aa141",
            "_model_module": "@jupyter-widgets/controls",
            "children": [
              "IPY_MODEL_8ba83c37b4fe4fa6a1c51866a19bbb4c",
              "IPY_MODEL_f3948ef034244c018c5f4651f0a0398c"
            ]
          }
        },
        "8ee85fa6923d4e74814c7ee77a9aa141": {
          "model_module": "@jupyter-widgets/base",
          "model_name": "LayoutModel",
          "state": {
            "_view_name": "LayoutView",
            "grid_template_rows": null,
            "right": null,
            "justify_content": null,
            "_view_module": "@jupyter-widgets/base",
            "overflow": null,
            "_model_module_version": "1.2.0",
            "_view_count": null,
            "flex_flow": null,
            "width": null,
            "min_width": null,
            "border": null,
            "align_items": null,
            "bottom": null,
            "_model_module": "@jupyter-widgets/base",
            "top": null,
            "grid_column": null,
            "overflow_y": null,
            "overflow_x": null,
            "grid_auto_flow": null,
            "grid_area": null,
            "grid_template_columns": null,
            "flex": null,
            "_model_name": "LayoutModel",
            "justify_items": null,
            "grid_row": null,
            "max_height": null,
            "align_content": null,
            "visibility": null,
            "align_self": null,
            "height": null,
            "min_height": null,
            "padding": null,
            "grid_auto_rows": null,
            "grid_gap": null,
            "max_width": null,
            "order": null,
            "_view_module_version": "1.2.0",
            "grid_template_areas": null,
            "object_position": null,
            "object_fit": null,
            "grid_auto_columns": null,
            "margin": null,
            "display": null,
            "left": null
          }
        },
        "8ba83c37b4fe4fa6a1c51866a19bbb4c": {
          "model_module": "@jupyter-widgets/controls",
          "model_name": "LabelModel",
          "state": {
            "_view_name": "LabelView",
            "style": "IPY_MODEL_2c48494f840449b4831d3e7ec4baf430",
            "_dom_classes": [],
            "description": "",
            "_model_name": "LabelModel",
            "placeholder": "​",
            "_view_module": "@jupyter-widgets/controls",
            "_model_module_version": "1.5.0",
            "value": " 0.12MB of 0.12MB uploaded (0.00MB deduped)\r",
            "_view_count": null,
            "_view_module_version": "1.5.0",
            "description_tooltip": null,
            "_model_module": "@jupyter-widgets/controls",
            "layout": "IPY_MODEL_00779ce53d944d2caa7b40cc039457e6"
          }
        },
        "f3948ef034244c018c5f4651f0a0398c": {
          "model_module": "@jupyter-widgets/controls",
          "model_name": "FloatProgressModel",
          "state": {
            "_view_name": "ProgressView",
            "style": "IPY_MODEL_d00113cf06c64546abe99a5eb6a3b157",
            "_dom_classes": [],
            "description": "",
            "_model_name": "FloatProgressModel",
            "bar_style": "",
            "max": 1,
            "_view_module": "@jupyter-widgets/controls",
            "_model_module_version": "1.5.0",
            "value": 1,
            "_view_count": null,
            "_view_module_version": "1.5.0",
            "orientation": "horizontal",
            "min": 0,
            "description_tooltip": null,
            "_model_module": "@jupyter-widgets/controls",
            "layout": "IPY_MODEL_ba9b993c62d94ef0a0d79000963b97f1"
          }
        },
        "2c48494f840449b4831d3e7ec4baf430": {
          "model_module": "@jupyter-widgets/controls",
          "model_name": "DescriptionStyleModel",
          "state": {
            "_view_name": "StyleView",
            "_model_name": "DescriptionStyleModel",
            "description_width": "",
            "_view_module": "@jupyter-widgets/base",
            "_model_module_version": "1.5.0",
            "_view_count": null,
            "_view_module_version": "1.2.0",
            "_model_module": "@jupyter-widgets/controls"
          }
        },
        "00779ce53d944d2caa7b40cc039457e6": {
          "model_module": "@jupyter-widgets/base",
          "model_name": "LayoutModel",
          "state": {
            "_view_name": "LayoutView",
            "grid_template_rows": null,
            "right": null,
            "justify_content": null,
            "_view_module": "@jupyter-widgets/base",
            "overflow": null,
            "_model_module_version": "1.2.0",
            "_view_count": null,
            "flex_flow": null,
            "width": null,
            "min_width": null,
            "border": null,
            "align_items": null,
            "bottom": null,
            "_model_module": "@jupyter-widgets/base",
            "top": null,
            "grid_column": null,
            "overflow_y": null,
            "overflow_x": null,
            "grid_auto_flow": null,
            "grid_area": null,
            "grid_template_columns": null,
            "flex": null,
            "_model_name": "LayoutModel",
            "justify_items": null,
            "grid_row": null,
            "max_height": null,
            "align_content": null,
            "visibility": null,
            "align_self": null,
            "height": null,
            "min_height": null,
            "padding": null,
            "grid_auto_rows": null,
            "grid_gap": null,
            "max_width": null,
            "order": null,
            "_view_module_version": "1.2.0",
            "grid_template_areas": null,
            "object_position": null,
            "object_fit": null,
            "grid_auto_columns": null,
            "margin": null,
            "display": null,
            "left": null
          }
        },
        "d00113cf06c64546abe99a5eb6a3b157": {
          "model_module": "@jupyter-widgets/controls",
          "model_name": "ProgressStyleModel",
          "state": {
            "_view_name": "StyleView",
            "_model_name": "ProgressStyleModel",
            "description_width": "",
            "_view_module": "@jupyter-widgets/base",
            "_model_module_version": "1.5.0",
            "_view_count": null,
            "_view_module_version": "1.2.0",
            "bar_color": null,
            "_model_module": "@jupyter-widgets/controls"
          }
        },
        "ba9b993c62d94ef0a0d79000963b97f1": {
          "model_module": "@jupyter-widgets/base",
          "model_name": "LayoutModel",
          "state": {
            "_view_name": "LayoutView",
            "grid_template_rows": null,
            "right": null,
            "justify_content": null,
            "_view_module": "@jupyter-widgets/base",
            "overflow": null,
            "_model_module_version": "1.2.0",
            "_view_count": null,
            "flex_flow": null,
            "width": null,
            "min_width": null,
            "border": null,
            "align_items": null,
            "bottom": null,
            "_model_module": "@jupyter-widgets/base",
            "top": null,
            "grid_column": null,
            "overflow_y": null,
            "overflow_x": null,
            "grid_auto_flow": null,
            "grid_area": null,
            "grid_template_columns": null,
            "flex": null,
            "_model_name": "LayoutModel",
            "justify_items": null,
            "grid_row": null,
            "max_height": null,
            "align_content": null,
            "visibility": null,
            "align_self": null,
            "height": null,
            "min_height": null,
            "padding": null,
            "grid_auto_rows": null,
            "grid_gap": null,
            "max_width": null,
            "order": null,
            "_view_module_version": "1.2.0",
            "grid_template_areas": null,
            "object_position": null,
            "object_fit": null,
            "grid_auto_columns": null,
            "margin": null,
            "display": null,
            "left": null
          }
        },
        "287caae0cb0b4d73b8522099cf83e25d": {
          "model_module": "@jupyter-widgets/controls",
          "model_name": "VBoxModel",
          "state": {
            "_view_name": "VBoxView",
            "_dom_classes": [],
            "_model_name": "VBoxModel",
            "_view_module": "@jupyter-widgets/controls",
            "_model_module_version": "1.5.0",
            "_view_count": null,
            "_view_module_version": "1.5.0",
            "box_style": "",
            "layout": "IPY_MODEL_6ddb7f6801454ad3a79d0500d53f5c65",
            "_model_module": "@jupyter-widgets/controls",
            "children": [
              "IPY_MODEL_6d03ead5339946f1ad6ff67b6bdb7e10",
              "IPY_MODEL_f2d35fa1e9914f408d6a131fe3b5f088"
            ]
          }
        },
        "6ddb7f6801454ad3a79d0500d53f5c65": {
          "model_module": "@jupyter-widgets/base",
          "model_name": "LayoutModel",
          "state": {
            "_view_name": "LayoutView",
            "grid_template_rows": null,
            "right": null,
            "justify_content": null,
            "_view_module": "@jupyter-widgets/base",
            "overflow": null,
            "_model_module_version": "1.2.0",
            "_view_count": null,
            "flex_flow": null,
            "width": null,
            "min_width": null,
            "border": null,
            "align_items": null,
            "bottom": null,
            "_model_module": "@jupyter-widgets/base",
            "top": null,
            "grid_column": null,
            "overflow_y": null,
            "overflow_x": null,
            "grid_auto_flow": null,
            "grid_area": null,
            "grid_template_columns": null,
            "flex": null,
            "_model_name": "LayoutModel",
            "justify_items": null,
            "grid_row": null,
            "max_height": null,
            "align_content": null,
            "visibility": null,
            "align_self": null,
            "height": null,
            "min_height": null,
            "padding": null,
            "grid_auto_rows": null,
            "grid_gap": null,
            "max_width": null,
            "order": null,
            "_view_module_version": "1.2.0",
            "grid_template_areas": null,
            "object_position": null,
            "object_fit": null,
            "grid_auto_columns": null,
            "margin": null,
            "display": null,
            "left": null
          }
        },
        "6d03ead5339946f1ad6ff67b6bdb7e10": {
          "model_module": "@jupyter-widgets/controls",
          "model_name": "LabelModel",
          "state": {
            "_view_name": "LabelView",
            "style": "IPY_MODEL_75d485df35a24588a13d1ea9e9dc4f1b",
            "_dom_classes": [],
            "description": "",
            "_model_name": "LabelModel",
            "placeholder": "​",
            "_view_module": "@jupyter-widgets/controls",
            "_model_module_version": "1.5.0",
            "value": " 0.13MB of 0.13MB uploaded (0.00MB deduped)\r",
            "_view_count": null,
            "_view_module_version": "1.5.0",
            "description_tooltip": null,
            "_model_module": "@jupyter-widgets/controls",
            "layout": "IPY_MODEL_c1694a7ac6244c2dacfe9b0949ab0402"
          }
        },
        "f2d35fa1e9914f408d6a131fe3b5f088": {
          "model_module": "@jupyter-widgets/controls",
          "model_name": "FloatProgressModel",
          "state": {
            "_view_name": "ProgressView",
            "style": "IPY_MODEL_8ba160f2788c47b494b9a1b751488f81",
            "_dom_classes": [],
            "description": "",
            "_model_name": "FloatProgressModel",
            "bar_style": "",
            "max": 1,
            "_view_module": "@jupyter-widgets/controls",
            "_model_module_version": "1.5.0",
            "value": 1,
            "_view_count": null,
            "_view_module_version": "1.5.0",
            "orientation": "horizontal",
            "min": 0,
            "description_tooltip": null,
            "_model_module": "@jupyter-widgets/controls",
            "layout": "IPY_MODEL_0131dac3a9ea4978b6c0d65718f67a12"
          }
        },
        "75d485df35a24588a13d1ea9e9dc4f1b": {
          "model_module": "@jupyter-widgets/controls",
          "model_name": "DescriptionStyleModel",
          "state": {
            "_view_name": "StyleView",
            "_model_name": "DescriptionStyleModel",
            "description_width": "",
            "_view_module": "@jupyter-widgets/base",
            "_model_module_version": "1.5.0",
            "_view_count": null,
            "_view_module_version": "1.2.0",
            "_model_module": "@jupyter-widgets/controls"
          }
        },
        "c1694a7ac6244c2dacfe9b0949ab0402": {
          "model_module": "@jupyter-widgets/base",
          "model_name": "LayoutModel",
          "state": {
            "_view_name": "LayoutView",
            "grid_template_rows": null,
            "right": null,
            "justify_content": null,
            "_view_module": "@jupyter-widgets/base",
            "overflow": null,
            "_model_module_version": "1.2.0",
            "_view_count": null,
            "flex_flow": null,
            "width": null,
            "min_width": null,
            "border": null,
            "align_items": null,
            "bottom": null,
            "_model_module": "@jupyter-widgets/base",
            "top": null,
            "grid_column": null,
            "overflow_y": null,
            "overflow_x": null,
            "grid_auto_flow": null,
            "grid_area": null,
            "grid_template_columns": null,
            "flex": null,
            "_model_name": "LayoutModel",
            "justify_items": null,
            "grid_row": null,
            "max_height": null,
            "align_content": null,
            "visibility": null,
            "align_self": null,
            "height": null,
            "min_height": null,
            "padding": null,
            "grid_auto_rows": null,
            "grid_gap": null,
            "max_width": null,
            "order": null,
            "_view_module_version": "1.2.0",
            "grid_template_areas": null,
            "object_position": null,
            "object_fit": null,
            "grid_auto_columns": null,
            "margin": null,
            "display": null,
            "left": null
          }
        },
        "8ba160f2788c47b494b9a1b751488f81": {
          "model_module": "@jupyter-widgets/controls",
          "model_name": "ProgressStyleModel",
          "state": {
            "_view_name": "StyleView",
            "_model_name": "ProgressStyleModel",
            "description_width": "",
            "_view_module": "@jupyter-widgets/base",
            "_model_module_version": "1.5.0",
            "_view_count": null,
            "_view_module_version": "1.2.0",
            "bar_color": null,
            "_model_module": "@jupyter-widgets/controls"
          }
        },
        "0131dac3a9ea4978b6c0d65718f67a12": {
          "model_module": "@jupyter-widgets/base",
          "model_name": "LayoutModel",
          "state": {
            "_view_name": "LayoutView",
            "grid_template_rows": null,
            "right": null,
            "justify_content": null,
            "_view_module": "@jupyter-widgets/base",
            "overflow": null,
            "_model_module_version": "1.2.0",
            "_view_count": null,
            "flex_flow": null,
            "width": null,
            "min_width": null,
            "border": null,
            "align_items": null,
            "bottom": null,
            "_model_module": "@jupyter-widgets/base",
            "top": null,
            "grid_column": null,
            "overflow_y": null,
            "overflow_x": null,
            "grid_auto_flow": null,
            "grid_area": null,
            "grid_template_columns": null,
            "flex": null,
            "_model_name": "LayoutModel",
            "justify_items": null,
            "grid_row": null,
            "max_height": null,
            "align_content": null,
            "visibility": null,
            "align_self": null,
            "height": null,
            "min_height": null,
            "padding": null,
            "grid_auto_rows": null,
            "grid_gap": null,
            "max_width": null,
            "order": null,
            "_view_module_version": "1.2.0",
            "grid_template_areas": null,
            "object_position": null,
            "object_fit": null,
            "grid_auto_columns": null,
            "margin": null,
            "display": null,
            "left": null
          }
        },
        "5a8a595c3b1c4a6fa0270e1daf6700f7": {
          "model_module": "@jupyter-widgets/controls",
          "model_name": "VBoxModel",
          "state": {
            "_view_name": "VBoxView",
            "_dom_classes": [],
            "_model_name": "VBoxModel",
            "_view_module": "@jupyter-widgets/controls",
            "_model_module_version": "1.5.0",
            "_view_count": null,
            "_view_module_version": "1.5.0",
            "box_style": "",
            "layout": "IPY_MODEL_14891b29361b4ec49f24734254de4990",
            "_model_module": "@jupyter-widgets/controls",
            "children": [
              "IPY_MODEL_dcb83dcb831346cc854f25afcdf3b0bc",
              "IPY_MODEL_9d6ddd4ba4ae4431ade0f77009770e57"
            ]
          }
        },
        "14891b29361b4ec49f24734254de4990": {
          "model_module": "@jupyter-widgets/base",
          "model_name": "LayoutModel",
          "state": {
            "_view_name": "LayoutView",
            "grid_template_rows": null,
            "right": null,
            "justify_content": null,
            "_view_module": "@jupyter-widgets/base",
            "overflow": null,
            "_model_module_version": "1.2.0",
            "_view_count": null,
            "flex_flow": null,
            "width": null,
            "min_width": null,
            "border": null,
            "align_items": null,
            "bottom": null,
            "_model_module": "@jupyter-widgets/base",
            "top": null,
            "grid_column": null,
            "overflow_y": null,
            "overflow_x": null,
            "grid_auto_flow": null,
            "grid_area": null,
            "grid_template_columns": null,
            "flex": null,
            "_model_name": "LayoutModel",
            "justify_items": null,
            "grid_row": null,
            "max_height": null,
            "align_content": null,
            "visibility": null,
            "align_self": null,
            "height": null,
            "min_height": null,
            "padding": null,
            "grid_auto_rows": null,
            "grid_gap": null,
            "max_width": null,
            "order": null,
            "_view_module_version": "1.2.0",
            "grid_template_areas": null,
            "object_position": null,
            "object_fit": null,
            "grid_auto_columns": null,
            "margin": null,
            "display": null,
            "left": null
          }
        },
        "dcb83dcb831346cc854f25afcdf3b0bc": {
          "model_module": "@jupyter-widgets/controls",
          "model_name": "LabelModel",
          "state": {
            "_view_name": "LabelView",
            "style": "IPY_MODEL_661661f451e849b4a9a29d8ab186c027",
            "_dom_classes": [],
            "description": "",
            "_model_name": "LabelModel",
            "placeholder": "​",
            "_view_module": "@jupyter-widgets/controls",
            "_model_module_version": "1.5.0",
            "value": " 0.12MB of 0.12MB uploaded (0.00MB deduped)\r",
            "_view_count": null,
            "_view_module_version": "1.5.0",
            "description_tooltip": null,
            "_model_module": "@jupyter-widgets/controls",
            "layout": "IPY_MODEL_2edae9dd3b9a43f9998be3f093ab7c82"
          }
        },
        "9d6ddd4ba4ae4431ade0f77009770e57": {
          "model_module": "@jupyter-widgets/controls",
          "model_name": "FloatProgressModel",
          "state": {
            "_view_name": "ProgressView",
            "style": "IPY_MODEL_7f6e5225db014a51baa3b9ac7921b837",
            "_dom_classes": [],
            "description": "",
            "_model_name": "FloatProgressModel",
            "bar_style": "",
            "max": 1,
            "_view_module": "@jupyter-widgets/controls",
            "_model_module_version": "1.5.0",
            "value": 1,
            "_view_count": null,
            "_view_module_version": "1.5.0",
            "orientation": "horizontal",
            "min": 0,
            "description_tooltip": null,
            "_model_module": "@jupyter-widgets/controls",
            "layout": "IPY_MODEL_f4ea447bd67c43dba2fc3885b569af27"
          }
        },
        "661661f451e849b4a9a29d8ab186c027": {
          "model_module": "@jupyter-widgets/controls",
          "model_name": "DescriptionStyleModel",
          "state": {
            "_view_name": "StyleView",
            "_model_name": "DescriptionStyleModel",
            "description_width": "",
            "_view_module": "@jupyter-widgets/base",
            "_model_module_version": "1.5.0",
            "_view_count": null,
            "_view_module_version": "1.2.0",
            "_model_module": "@jupyter-widgets/controls"
          }
        },
        "2edae9dd3b9a43f9998be3f093ab7c82": {
          "model_module": "@jupyter-widgets/base",
          "model_name": "LayoutModel",
          "state": {
            "_view_name": "LayoutView",
            "grid_template_rows": null,
            "right": null,
            "justify_content": null,
            "_view_module": "@jupyter-widgets/base",
            "overflow": null,
            "_model_module_version": "1.2.0",
            "_view_count": null,
            "flex_flow": null,
            "width": null,
            "min_width": null,
            "border": null,
            "align_items": null,
            "bottom": null,
            "_model_module": "@jupyter-widgets/base",
            "top": null,
            "grid_column": null,
            "overflow_y": null,
            "overflow_x": null,
            "grid_auto_flow": null,
            "grid_area": null,
            "grid_template_columns": null,
            "flex": null,
            "_model_name": "LayoutModel",
            "justify_items": null,
            "grid_row": null,
            "max_height": null,
            "align_content": null,
            "visibility": null,
            "align_self": null,
            "height": null,
            "min_height": null,
            "padding": null,
            "grid_auto_rows": null,
            "grid_gap": null,
            "max_width": null,
            "order": null,
            "_view_module_version": "1.2.0",
            "grid_template_areas": null,
            "object_position": null,
            "object_fit": null,
            "grid_auto_columns": null,
            "margin": null,
            "display": null,
            "left": null
          }
        },
        "7f6e5225db014a51baa3b9ac7921b837": {
          "model_module": "@jupyter-widgets/controls",
          "model_name": "ProgressStyleModel",
          "state": {
            "_view_name": "StyleView",
            "_model_name": "ProgressStyleModel",
            "description_width": "",
            "_view_module": "@jupyter-widgets/base",
            "_model_module_version": "1.5.0",
            "_view_count": null,
            "_view_module_version": "1.2.0",
            "bar_color": null,
            "_model_module": "@jupyter-widgets/controls"
          }
        },
        "f4ea447bd67c43dba2fc3885b569af27": {
          "model_module": "@jupyter-widgets/base",
          "model_name": "LayoutModel",
          "state": {
            "_view_name": "LayoutView",
            "grid_template_rows": null,
            "right": null,
            "justify_content": null,
            "_view_module": "@jupyter-widgets/base",
            "overflow": null,
            "_model_module_version": "1.2.0",
            "_view_count": null,
            "flex_flow": null,
            "width": null,
            "min_width": null,
            "border": null,
            "align_items": null,
            "bottom": null,
            "_model_module": "@jupyter-widgets/base",
            "top": null,
            "grid_column": null,
            "overflow_y": null,
            "overflow_x": null,
            "grid_auto_flow": null,
            "grid_area": null,
            "grid_template_columns": null,
            "flex": null,
            "_model_name": "LayoutModel",
            "justify_items": null,
            "grid_row": null,
            "max_height": null,
            "align_content": null,
            "visibility": null,
            "align_self": null,
            "height": null,
            "min_height": null,
            "padding": null,
            "grid_auto_rows": null,
            "grid_gap": null,
            "max_width": null,
            "order": null,
            "_view_module_version": "1.2.0",
            "grid_template_areas": null,
            "object_position": null,
            "object_fit": null,
            "grid_auto_columns": null,
            "margin": null,
            "display": null,
            "left": null
          }
        },
        "f6c31311deee47478a9980c90b59fd8a": {
          "model_module": "@jupyter-widgets/controls",
          "model_name": "VBoxModel",
          "state": {
            "_view_name": "VBoxView",
            "_dom_classes": [],
            "_model_name": "VBoxModel",
            "_view_module": "@jupyter-widgets/controls",
            "_model_module_version": "1.5.0",
            "_view_count": null,
            "_view_module_version": "1.5.0",
            "box_style": "",
            "layout": "IPY_MODEL_33f3d51a19804000a81043f020021618",
            "_model_module": "@jupyter-widgets/controls",
            "children": [
              "IPY_MODEL_f990375b001149c1ba261263260bbffa",
              "IPY_MODEL_e6a547ea511b4cd7a99e6bfaff3cf9d9"
            ]
          }
        },
        "33f3d51a19804000a81043f020021618": {
          "model_module": "@jupyter-widgets/base",
          "model_name": "LayoutModel",
          "state": {
            "_view_name": "LayoutView",
            "grid_template_rows": null,
            "right": null,
            "justify_content": null,
            "_view_module": "@jupyter-widgets/base",
            "overflow": null,
            "_model_module_version": "1.2.0",
            "_view_count": null,
            "flex_flow": null,
            "width": null,
            "min_width": null,
            "border": null,
            "align_items": null,
            "bottom": null,
            "_model_module": "@jupyter-widgets/base",
            "top": null,
            "grid_column": null,
            "overflow_y": null,
            "overflow_x": null,
            "grid_auto_flow": null,
            "grid_area": null,
            "grid_template_columns": null,
            "flex": null,
            "_model_name": "LayoutModel",
            "justify_items": null,
            "grid_row": null,
            "max_height": null,
            "align_content": null,
            "visibility": null,
            "align_self": null,
            "height": null,
            "min_height": null,
            "padding": null,
            "grid_auto_rows": null,
            "grid_gap": null,
            "max_width": null,
            "order": null,
            "_view_module_version": "1.2.0",
            "grid_template_areas": null,
            "object_position": null,
            "object_fit": null,
            "grid_auto_columns": null,
            "margin": null,
            "display": null,
            "left": null
          }
        },
        "f990375b001149c1ba261263260bbffa": {
          "model_module": "@jupyter-widgets/controls",
          "model_name": "LabelModel",
          "state": {
            "_view_name": "LabelView",
            "style": "IPY_MODEL_a8115b6b11cb4798868ea9332783a846",
            "_dom_classes": [],
            "description": "",
            "_model_name": "LabelModel",
            "placeholder": "​",
            "_view_module": "@jupyter-widgets/controls",
            "_model_module_version": "1.5.0",
            "value": " 52.88MB of 52.88MB uploaded (0.00MB deduped)\r",
            "_view_count": null,
            "_view_module_version": "1.5.0",
            "description_tooltip": null,
            "_model_module": "@jupyter-widgets/controls",
            "layout": "IPY_MODEL_31c67b481d924d2a9f5ed4fe30856c45"
          }
        },
        "e6a547ea511b4cd7a99e6bfaff3cf9d9": {
          "model_module": "@jupyter-widgets/controls",
          "model_name": "FloatProgressModel",
          "state": {
            "_view_name": "ProgressView",
            "style": "IPY_MODEL_fa5720bba8004fe184e78fa992b1c4a3",
            "_dom_classes": [],
            "description": "",
            "_model_name": "FloatProgressModel",
            "bar_style": "",
            "max": 1,
            "_view_module": "@jupyter-widgets/controls",
            "_model_module_version": "1.5.0",
            "value": 1,
            "_view_count": null,
            "_view_module_version": "1.5.0",
            "orientation": "horizontal",
            "min": 0,
            "description_tooltip": null,
            "_model_module": "@jupyter-widgets/controls",
            "layout": "IPY_MODEL_b57b4ab0e75c4613871876605c896d5c"
          }
        },
        "a8115b6b11cb4798868ea9332783a846": {
          "model_module": "@jupyter-widgets/controls",
          "model_name": "DescriptionStyleModel",
          "state": {
            "_view_name": "StyleView",
            "_model_name": "DescriptionStyleModel",
            "description_width": "",
            "_view_module": "@jupyter-widgets/base",
            "_model_module_version": "1.5.0",
            "_view_count": null,
            "_view_module_version": "1.2.0",
            "_model_module": "@jupyter-widgets/controls"
          }
        },
        "31c67b481d924d2a9f5ed4fe30856c45": {
          "model_module": "@jupyter-widgets/base",
          "model_name": "LayoutModel",
          "state": {
            "_view_name": "LayoutView",
            "grid_template_rows": null,
            "right": null,
            "justify_content": null,
            "_view_module": "@jupyter-widgets/base",
            "overflow": null,
            "_model_module_version": "1.2.0",
            "_view_count": null,
            "flex_flow": null,
            "width": null,
            "min_width": null,
            "border": null,
            "align_items": null,
            "bottom": null,
            "_model_module": "@jupyter-widgets/base",
            "top": null,
            "grid_column": null,
            "overflow_y": null,
            "overflow_x": null,
            "grid_auto_flow": null,
            "grid_area": null,
            "grid_template_columns": null,
            "flex": null,
            "_model_name": "LayoutModel",
            "justify_items": null,
            "grid_row": null,
            "max_height": null,
            "align_content": null,
            "visibility": null,
            "align_self": null,
            "height": null,
            "min_height": null,
            "padding": null,
            "grid_auto_rows": null,
            "grid_gap": null,
            "max_width": null,
            "order": null,
            "_view_module_version": "1.2.0",
            "grid_template_areas": null,
            "object_position": null,
            "object_fit": null,
            "grid_auto_columns": null,
            "margin": null,
            "display": null,
            "left": null
          }
        },
        "fa5720bba8004fe184e78fa992b1c4a3": {
          "model_module": "@jupyter-widgets/controls",
          "model_name": "ProgressStyleModel",
          "state": {
            "_view_name": "StyleView",
            "_model_name": "ProgressStyleModel",
            "description_width": "",
            "_view_module": "@jupyter-widgets/base",
            "_model_module_version": "1.5.0",
            "_view_count": null,
            "_view_module_version": "1.2.0",
            "bar_color": null,
            "_model_module": "@jupyter-widgets/controls"
          }
        },
        "b57b4ab0e75c4613871876605c896d5c": {
          "model_module": "@jupyter-widgets/base",
          "model_name": "LayoutModel",
          "state": {
            "_view_name": "LayoutView",
            "grid_template_rows": null,
            "right": null,
            "justify_content": null,
            "_view_module": "@jupyter-widgets/base",
            "overflow": null,
            "_model_module_version": "1.2.0",
            "_view_count": null,
            "flex_flow": null,
            "width": null,
            "min_width": null,
            "border": null,
            "align_items": null,
            "bottom": null,
            "_model_module": "@jupyter-widgets/base",
            "top": null,
            "grid_column": null,
            "overflow_y": null,
            "overflow_x": null,
            "grid_auto_flow": null,
            "grid_area": null,
            "grid_template_columns": null,
            "flex": null,
            "_model_name": "LayoutModel",
            "justify_items": null,
            "grid_row": null,
            "max_height": null,
            "align_content": null,
            "visibility": null,
            "align_self": null,
            "height": null,
            "min_height": null,
            "padding": null,
            "grid_auto_rows": null,
            "grid_gap": null,
            "max_width": null,
            "order": null,
            "_view_module_version": "1.2.0",
            "grid_template_areas": null,
            "object_position": null,
            "object_fit": null,
            "grid_auto_columns": null,
            "margin": null,
            "display": null,
            "left": null
          }
        },
        "c75272f8deb64b8aa733f8444da0afeb": {
          "model_module": "@jupyter-widgets/controls",
          "model_name": "VBoxModel",
          "state": {
            "_view_name": "VBoxView",
            "_dom_classes": [],
            "_model_name": "VBoxModel",
            "_view_module": "@jupyter-widgets/controls",
            "_model_module_version": "1.5.0",
            "_view_count": null,
            "_view_module_version": "1.5.0",
            "box_style": "",
            "layout": "IPY_MODEL_9aafa303cf2f4f57802b06439de372ea",
            "_model_module": "@jupyter-widgets/controls",
            "children": [
              "IPY_MODEL_09d0e5fdb5d94505886da7c63448c0c4",
              "IPY_MODEL_7f0207f762a74f9da018a98a2ecd2347"
            ]
          }
        },
        "9aafa303cf2f4f57802b06439de372ea": {
          "model_module": "@jupyter-widgets/base",
          "model_name": "LayoutModel",
          "state": {
            "_view_name": "LayoutView",
            "grid_template_rows": null,
            "right": null,
            "justify_content": null,
            "_view_module": "@jupyter-widgets/base",
            "overflow": null,
            "_model_module_version": "1.2.0",
            "_view_count": null,
            "flex_flow": null,
            "width": null,
            "min_width": null,
            "border": null,
            "align_items": null,
            "bottom": null,
            "_model_module": "@jupyter-widgets/base",
            "top": null,
            "grid_column": null,
            "overflow_y": null,
            "overflow_x": null,
            "grid_auto_flow": null,
            "grid_area": null,
            "grid_template_columns": null,
            "flex": null,
            "_model_name": "LayoutModel",
            "justify_items": null,
            "grid_row": null,
            "max_height": null,
            "align_content": null,
            "visibility": null,
            "align_self": null,
            "height": null,
            "min_height": null,
            "padding": null,
            "grid_auto_rows": null,
            "grid_gap": null,
            "max_width": null,
            "order": null,
            "_view_module_version": "1.2.0",
            "grid_template_areas": null,
            "object_position": null,
            "object_fit": null,
            "grid_auto_columns": null,
            "margin": null,
            "display": null,
            "left": null
          }
        },
        "09d0e5fdb5d94505886da7c63448c0c4": {
          "model_module": "@jupyter-widgets/controls",
          "model_name": "LabelModel",
          "state": {
            "_view_name": "LabelView",
            "style": "IPY_MODEL_76e2db736e244a4fb98d8f8a04163d53",
            "_dom_classes": [],
            "description": "",
            "_model_name": "LabelModel",
            "placeholder": "​",
            "_view_module": "@jupyter-widgets/controls",
            "_model_module_version": "1.5.0",
            "value": " 7.56MB of 7.56MB uploaded (0.00MB deduped)\r",
            "_view_count": null,
            "_view_module_version": "1.5.0",
            "description_tooltip": null,
            "_model_module": "@jupyter-widgets/controls",
            "layout": "IPY_MODEL_16af0f6f272c4290846486305c43941d"
          }
        },
        "7f0207f762a74f9da018a98a2ecd2347": {
          "model_module": "@jupyter-widgets/controls",
          "model_name": "FloatProgressModel",
          "state": {
            "_view_name": "ProgressView",
            "style": "IPY_MODEL_09d06dc3848b47dcab893edcabf88604",
            "_dom_classes": [],
            "description": "",
            "_model_name": "FloatProgressModel",
            "bar_style": "",
            "max": 1,
            "_view_module": "@jupyter-widgets/controls",
            "_model_module_version": "1.5.0",
            "value": 1,
            "_view_count": null,
            "_view_module_version": "1.5.0",
            "orientation": "horizontal",
            "min": 0,
            "description_tooltip": null,
            "_model_module": "@jupyter-widgets/controls",
            "layout": "IPY_MODEL_d6358b246c2747119ff76dd1bdb71257"
          }
        },
        "76e2db736e244a4fb98d8f8a04163d53": {
          "model_module": "@jupyter-widgets/controls",
          "model_name": "DescriptionStyleModel",
          "state": {
            "_view_name": "StyleView",
            "_model_name": "DescriptionStyleModel",
            "description_width": "",
            "_view_module": "@jupyter-widgets/base",
            "_model_module_version": "1.5.0",
            "_view_count": null,
            "_view_module_version": "1.2.0",
            "_model_module": "@jupyter-widgets/controls"
          }
        },
        "16af0f6f272c4290846486305c43941d": {
          "model_module": "@jupyter-widgets/base",
          "model_name": "LayoutModel",
          "state": {
            "_view_name": "LayoutView",
            "grid_template_rows": null,
            "right": null,
            "justify_content": null,
            "_view_module": "@jupyter-widgets/base",
            "overflow": null,
            "_model_module_version": "1.2.0",
            "_view_count": null,
            "flex_flow": null,
            "width": null,
            "min_width": null,
            "border": null,
            "align_items": null,
            "bottom": null,
            "_model_module": "@jupyter-widgets/base",
            "top": null,
            "grid_column": null,
            "overflow_y": null,
            "overflow_x": null,
            "grid_auto_flow": null,
            "grid_area": null,
            "grid_template_columns": null,
            "flex": null,
            "_model_name": "LayoutModel",
            "justify_items": null,
            "grid_row": null,
            "max_height": null,
            "align_content": null,
            "visibility": null,
            "align_self": null,
            "height": null,
            "min_height": null,
            "padding": null,
            "grid_auto_rows": null,
            "grid_gap": null,
            "max_width": null,
            "order": null,
            "_view_module_version": "1.2.0",
            "grid_template_areas": null,
            "object_position": null,
            "object_fit": null,
            "grid_auto_columns": null,
            "margin": null,
            "display": null,
            "left": null
          }
        },
        "09d06dc3848b47dcab893edcabf88604": {
          "model_module": "@jupyter-widgets/controls",
          "model_name": "ProgressStyleModel",
          "state": {
            "_view_name": "StyleView",
            "_model_name": "ProgressStyleModel",
            "description_width": "",
            "_view_module": "@jupyter-widgets/base",
            "_model_module_version": "1.5.0",
            "_view_count": null,
            "_view_module_version": "1.2.0",
            "bar_color": null,
            "_model_module": "@jupyter-widgets/controls"
          }
        },
        "d6358b246c2747119ff76dd1bdb71257": {
          "model_module": "@jupyter-widgets/base",
          "model_name": "LayoutModel",
          "state": {
            "_view_name": "LayoutView",
            "grid_template_rows": null,
            "right": null,
            "justify_content": null,
            "_view_module": "@jupyter-widgets/base",
            "overflow": null,
            "_model_module_version": "1.2.0",
            "_view_count": null,
            "flex_flow": null,
            "width": null,
            "min_width": null,
            "border": null,
            "align_items": null,
            "bottom": null,
            "_model_module": "@jupyter-widgets/base",
            "top": null,
            "grid_column": null,
            "overflow_y": null,
            "overflow_x": null,
            "grid_auto_flow": null,
            "grid_area": null,
            "grid_template_columns": null,
            "flex": null,
            "_model_name": "LayoutModel",
            "justify_items": null,
            "grid_row": null,
            "max_height": null,
            "align_content": null,
            "visibility": null,
            "align_self": null,
            "height": null,
            "min_height": null,
            "padding": null,
            "grid_auto_rows": null,
            "grid_gap": null,
            "max_width": null,
            "order": null,
            "_view_module_version": "1.2.0",
            "grid_template_areas": null,
            "object_position": null,
            "object_fit": null,
            "grid_auto_columns": null,
            "margin": null,
            "display": null,
            "left": null
          }
        },
        "d0ea9dc62f4f41e2b6c809a7cebf081e": {
          "model_module": "@jupyter-widgets/controls",
          "model_name": "VBoxModel",
          "state": {
            "_view_name": "VBoxView",
            "_dom_classes": [],
            "_model_name": "VBoxModel",
            "_view_module": "@jupyter-widgets/controls",
            "_model_module_version": "1.5.0",
            "_view_count": null,
            "_view_module_version": "1.5.0",
            "box_style": "",
            "layout": "IPY_MODEL_4298347b8616426aa580727516835c49",
            "_model_module": "@jupyter-widgets/controls",
            "children": [
              "IPY_MODEL_04f21dc23fb54971a3958e1eb54c5bcc",
              "IPY_MODEL_6a9a973e9b9e4be6812572441f20876b"
            ]
          }
        },
        "4298347b8616426aa580727516835c49": {
          "model_module": "@jupyter-widgets/base",
          "model_name": "LayoutModel",
          "state": {
            "_view_name": "LayoutView",
            "grid_template_rows": null,
            "right": null,
            "justify_content": null,
            "_view_module": "@jupyter-widgets/base",
            "overflow": null,
            "_model_module_version": "1.2.0",
            "_view_count": null,
            "flex_flow": null,
            "width": null,
            "min_width": null,
            "border": null,
            "align_items": null,
            "bottom": null,
            "_model_module": "@jupyter-widgets/base",
            "top": null,
            "grid_column": null,
            "overflow_y": null,
            "overflow_x": null,
            "grid_auto_flow": null,
            "grid_area": null,
            "grid_template_columns": null,
            "flex": null,
            "_model_name": "LayoutModel",
            "justify_items": null,
            "grid_row": null,
            "max_height": null,
            "align_content": null,
            "visibility": null,
            "align_self": null,
            "height": null,
            "min_height": null,
            "padding": null,
            "grid_auto_rows": null,
            "grid_gap": null,
            "max_width": null,
            "order": null,
            "_view_module_version": "1.2.0",
            "grid_template_areas": null,
            "object_position": null,
            "object_fit": null,
            "grid_auto_columns": null,
            "margin": null,
            "display": null,
            "left": null
          }
        },
        "04f21dc23fb54971a3958e1eb54c5bcc": {
          "model_module": "@jupyter-widgets/controls",
          "model_name": "LabelModel",
          "state": {
            "_view_name": "LabelView",
            "style": "IPY_MODEL_9265ffe8a70f468f9efb66bcbc50deac",
            "_dom_classes": [],
            "description": "",
            "_model_name": "LabelModel",
            "placeholder": "​",
            "_view_module": "@jupyter-widgets/controls",
            "_model_module_version": "1.5.0",
            "value": " 0.48MB of 0.48MB uploaded (0.00MB deduped)\r",
            "_view_count": null,
            "_view_module_version": "1.5.0",
            "description_tooltip": null,
            "_model_module": "@jupyter-widgets/controls",
            "layout": "IPY_MODEL_b2b6bf8a7b3d4ccab2cf77292051045d"
          }
        },
        "6a9a973e9b9e4be6812572441f20876b": {
          "model_module": "@jupyter-widgets/controls",
          "model_name": "FloatProgressModel",
          "state": {
            "_view_name": "ProgressView",
            "style": "IPY_MODEL_323fc120080a45c18bfdc527f963dcf4",
            "_dom_classes": [],
            "description": "",
            "_model_name": "FloatProgressModel",
            "bar_style": "",
            "max": 1,
            "_view_module": "@jupyter-widgets/controls",
            "_model_module_version": "1.5.0",
            "value": 1,
            "_view_count": null,
            "_view_module_version": "1.5.0",
            "orientation": "horizontal",
            "min": 0,
            "description_tooltip": null,
            "_model_module": "@jupyter-widgets/controls",
            "layout": "IPY_MODEL_ee6a6ef2939a45d2b3a463ab9c03aec3"
          }
        },
        "9265ffe8a70f468f9efb66bcbc50deac": {
          "model_module": "@jupyter-widgets/controls",
          "model_name": "DescriptionStyleModel",
          "state": {
            "_view_name": "StyleView",
            "_model_name": "DescriptionStyleModel",
            "description_width": "",
            "_view_module": "@jupyter-widgets/base",
            "_model_module_version": "1.5.0",
            "_view_count": null,
            "_view_module_version": "1.2.0",
            "_model_module": "@jupyter-widgets/controls"
          }
        },
        "b2b6bf8a7b3d4ccab2cf77292051045d": {
          "model_module": "@jupyter-widgets/base",
          "model_name": "LayoutModel",
          "state": {
            "_view_name": "LayoutView",
            "grid_template_rows": null,
            "right": null,
            "justify_content": null,
            "_view_module": "@jupyter-widgets/base",
            "overflow": null,
            "_model_module_version": "1.2.0",
            "_view_count": null,
            "flex_flow": null,
            "width": null,
            "min_width": null,
            "border": null,
            "align_items": null,
            "bottom": null,
            "_model_module": "@jupyter-widgets/base",
            "top": null,
            "grid_column": null,
            "overflow_y": null,
            "overflow_x": null,
            "grid_auto_flow": null,
            "grid_area": null,
            "grid_template_columns": null,
            "flex": null,
            "_model_name": "LayoutModel",
            "justify_items": null,
            "grid_row": null,
            "max_height": null,
            "align_content": null,
            "visibility": null,
            "align_self": null,
            "height": null,
            "min_height": null,
            "padding": null,
            "grid_auto_rows": null,
            "grid_gap": null,
            "max_width": null,
            "order": null,
            "_view_module_version": "1.2.0",
            "grid_template_areas": null,
            "object_position": null,
            "object_fit": null,
            "grid_auto_columns": null,
            "margin": null,
            "display": null,
            "left": null
          }
        },
        "323fc120080a45c18bfdc527f963dcf4": {
          "model_module": "@jupyter-widgets/controls",
          "model_name": "ProgressStyleModel",
          "state": {
            "_view_name": "StyleView",
            "_model_name": "ProgressStyleModel",
            "description_width": "",
            "_view_module": "@jupyter-widgets/base",
            "_model_module_version": "1.5.0",
            "_view_count": null,
            "_view_module_version": "1.2.0",
            "bar_color": null,
            "_model_module": "@jupyter-widgets/controls"
          }
        },
        "ee6a6ef2939a45d2b3a463ab9c03aec3": {
          "model_module": "@jupyter-widgets/base",
          "model_name": "LayoutModel",
          "state": {
            "_view_name": "LayoutView",
            "grid_template_rows": null,
            "right": null,
            "justify_content": null,
            "_view_module": "@jupyter-widgets/base",
            "overflow": null,
            "_model_module_version": "1.2.0",
            "_view_count": null,
            "flex_flow": null,
            "width": null,
            "min_width": null,
            "border": null,
            "align_items": null,
            "bottom": null,
            "_model_module": "@jupyter-widgets/base",
            "top": null,
            "grid_column": null,
            "overflow_y": null,
            "overflow_x": null,
            "grid_auto_flow": null,
            "grid_area": null,
            "grid_template_columns": null,
            "flex": null,
            "_model_name": "LayoutModel",
            "justify_items": null,
            "grid_row": null,
            "max_height": null,
            "align_content": null,
            "visibility": null,
            "align_self": null,
            "height": null,
            "min_height": null,
            "padding": null,
            "grid_auto_rows": null,
            "grid_gap": null,
            "max_width": null,
            "order": null,
            "_view_module_version": "1.2.0",
            "grid_template_areas": null,
            "object_position": null,
            "object_fit": null,
            "grid_auto_columns": null,
            "margin": null,
            "display": null,
            "left": null
          }
        },
        "458641f1e82f4b65a82e15a4c03cd078": {
          "model_module": "@jupyter-widgets/controls",
          "model_name": "VBoxModel",
          "state": {
            "_view_name": "VBoxView",
            "_dom_classes": [],
            "_model_name": "VBoxModel",
            "_view_module": "@jupyter-widgets/controls",
            "_model_module_version": "1.5.0",
            "_view_count": null,
            "_view_module_version": "1.5.0",
            "box_style": "",
            "layout": "IPY_MODEL_0e02cea021ab4935a0d96eb092174b82",
            "_model_module": "@jupyter-widgets/controls",
            "children": [
              "IPY_MODEL_26d2bfe2af2d4b4cb4952f53e89eae29",
              "IPY_MODEL_ac4046ca47234f1b87f2cce0b55fff30"
            ]
          }
        },
        "0e02cea021ab4935a0d96eb092174b82": {
          "model_module": "@jupyter-widgets/base",
          "model_name": "LayoutModel",
          "state": {
            "_view_name": "LayoutView",
            "grid_template_rows": null,
            "right": null,
            "justify_content": null,
            "_view_module": "@jupyter-widgets/base",
            "overflow": null,
            "_model_module_version": "1.2.0",
            "_view_count": null,
            "flex_flow": null,
            "width": null,
            "min_width": null,
            "border": null,
            "align_items": null,
            "bottom": null,
            "_model_module": "@jupyter-widgets/base",
            "top": null,
            "grid_column": null,
            "overflow_y": null,
            "overflow_x": null,
            "grid_auto_flow": null,
            "grid_area": null,
            "grid_template_columns": null,
            "flex": null,
            "_model_name": "LayoutModel",
            "justify_items": null,
            "grid_row": null,
            "max_height": null,
            "align_content": null,
            "visibility": null,
            "align_self": null,
            "height": null,
            "min_height": null,
            "padding": null,
            "grid_auto_rows": null,
            "grid_gap": null,
            "max_width": null,
            "order": null,
            "_view_module_version": "1.2.0",
            "grid_template_areas": null,
            "object_position": null,
            "object_fit": null,
            "grid_auto_columns": null,
            "margin": null,
            "display": null,
            "left": null
          }
        },
        "26d2bfe2af2d4b4cb4952f53e89eae29": {
          "model_module": "@jupyter-widgets/controls",
          "model_name": "LabelModel",
          "state": {
            "_view_name": "LabelView",
            "style": "IPY_MODEL_37785d4a79fd42c69829589fb6244b88",
            "_dom_classes": [],
            "description": "",
            "_model_name": "LabelModel",
            "placeholder": "​",
            "_view_module": "@jupyter-widgets/controls",
            "_model_module_version": "1.5.0",
            "value": " 0.55MB of 0.55MB uploaded (0.00MB deduped)\r",
            "_view_count": null,
            "_view_module_version": "1.5.0",
            "description_tooltip": null,
            "_model_module": "@jupyter-widgets/controls",
            "layout": "IPY_MODEL_db18966e70cb4e7fb186a66a07b689a6"
          }
        },
        "ac4046ca47234f1b87f2cce0b55fff30": {
          "model_module": "@jupyter-widgets/controls",
          "model_name": "FloatProgressModel",
          "state": {
            "_view_name": "ProgressView",
            "style": "IPY_MODEL_e5a4c3665c2e4cc18d3c287c456a42a4",
            "_dom_classes": [],
            "description": "",
            "_model_name": "FloatProgressModel",
            "bar_style": "",
            "max": 1,
            "_view_module": "@jupyter-widgets/controls",
            "_model_module_version": "1.5.0",
            "value": 1,
            "_view_count": null,
            "_view_module_version": "1.5.0",
            "orientation": "horizontal",
            "min": 0,
            "description_tooltip": null,
            "_model_module": "@jupyter-widgets/controls",
            "layout": "IPY_MODEL_c10a1dc155274f7682ac3a91bb474ad5"
          }
        },
        "37785d4a79fd42c69829589fb6244b88": {
          "model_module": "@jupyter-widgets/controls",
          "model_name": "DescriptionStyleModel",
          "state": {
            "_view_name": "StyleView",
            "_model_name": "DescriptionStyleModel",
            "description_width": "",
            "_view_module": "@jupyter-widgets/base",
            "_model_module_version": "1.5.0",
            "_view_count": null,
            "_view_module_version": "1.2.0",
            "_model_module": "@jupyter-widgets/controls"
          }
        },
        "db18966e70cb4e7fb186a66a07b689a6": {
          "model_module": "@jupyter-widgets/base",
          "model_name": "LayoutModel",
          "state": {
            "_view_name": "LayoutView",
            "grid_template_rows": null,
            "right": null,
            "justify_content": null,
            "_view_module": "@jupyter-widgets/base",
            "overflow": null,
            "_model_module_version": "1.2.0",
            "_view_count": null,
            "flex_flow": null,
            "width": null,
            "min_width": null,
            "border": null,
            "align_items": null,
            "bottom": null,
            "_model_module": "@jupyter-widgets/base",
            "top": null,
            "grid_column": null,
            "overflow_y": null,
            "overflow_x": null,
            "grid_auto_flow": null,
            "grid_area": null,
            "grid_template_columns": null,
            "flex": null,
            "_model_name": "LayoutModel",
            "justify_items": null,
            "grid_row": null,
            "max_height": null,
            "align_content": null,
            "visibility": null,
            "align_self": null,
            "height": null,
            "min_height": null,
            "padding": null,
            "grid_auto_rows": null,
            "grid_gap": null,
            "max_width": null,
            "order": null,
            "_view_module_version": "1.2.0",
            "grid_template_areas": null,
            "object_position": null,
            "object_fit": null,
            "grid_auto_columns": null,
            "margin": null,
            "display": null,
            "left": null
          }
        },
        "e5a4c3665c2e4cc18d3c287c456a42a4": {
          "model_module": "@jupyter-widgets/controls",
          "model_name": "ProgressStyleModel",
          "state": {
            "_view_name": "StyleView",
            "_model_name": "ProgressStyleModel",
            "description_width": "",
            "_view_module": "@jupyter-widgets/base",
            "_model_module_version": "1.5.0",
            "_view_count": null,
            "_view_module_version": "1.2.0",
            "bar_color": null,
            "_model_module": "@jupyter-widgets/controls"
          }
        },
        "c10a1dc155274f7682ac3a91bb474ad5": {
          "model_module": "@jupyter-widgets/base",
          "model_name": "LayoutModel",
          "state": {
            "_view_name": "LayoutView",
            "grid_template_rows": null,
            "right": null,
            "justify_content": null,
            "_view_module": "@jupyter-widgets/base",
            "overflow": null,
            "_model_module_version": "1.2.0",
            "_view_count": null,
            "flex_flow": null,
            "width": null,
            "min_width": null,
            "border": null,
            "align_items": null,
            "bottom": null,
            "_model_module": "@jupyter-widgets/base",
            "top": null,
            "grid_column": null,
            "overflow_y": null,
            "overflow_x": null,
            "grid_auto_flow": null,
            "grid_area": null,
            "grid_template_columns": null,
            "flex": null,
            "_model_name": "LayoutModel",
            "justify_items": null,
            "grid_row": null,
            "max_height": null,
            "align_content": null,
            "visibility": null,
            "align_self": null,
            "height": null,
            "min_height": null,
            "padding": null,
            "grid_auto_rows": null,
            "grid_gap": null,
            "max_width": null,
            "order": null,
            "_view_module_version": "1.2.0",
            "grid_template_areas": null,
            "object_position": null,
            "object_fit": null,
            "grid_auto_columns": null,
            "margin": null,
            "display": null,
            "left": null
          }
        }
      }
    }
  },
  "cells": [
    {
      "cell_type": "markdown",
      "metadata": {
        "id": "NzUxlYMNraY8"
      },
      "source": [
        "#Training a Smart AutoEncoder\r\n",
        "Let us train a \"smart\" AutoEncoder over MNIST. In addition to the standard reconstruction loss, this AE is also trained to predict the correct label of the input from the latent code. The idea is that this additional loss term might aid in the task of anomaly detection, as the latent space will be highly ordered. \r\n",
        "\r\n",
        "Anyway, this is not the focus of this notebook. We will start by training the model without using any wandb functionality and later see how incorporating wandb might improve the interpretability and reproducability of the results."
      ]
    },
    {
      "cell_type": "code",
      "metadata": {
        "id": "vjuTFX7_WG0K",
        "colab": {
          "base_uri": "https://localhost:8080/"
        },
        "outputId": "c443286b-1a40-49ae-a24a-c906fd3b564a"
      },
      "source": [
        "# importing the necessary packages\n",
        "!pip install -U torchvision\n",
        "import torch\n",
        "from torch import nn\n",
        "import torch.nn.functional as F\n",
        "from torch.utils.data import DataLoader\n",
        "import numpy as np\n",
        "from torchvision import datasets, transforms\n",
        "from torchvision.utils import make_grid \n",
        "import matplotlib.pyplot as plt\n",
        "from sklearn.manifold import TSNE\n",
        "from sklearn.decomposition import PCA\n",
        "from PIL import Image\n",
        "import pickle\n",
        "import os\n",
        "\n",
        "# It's colab so we have a GPU if we set it up in \"runtime\"\n",
        "device = torch.device(\"cuda\" if torch.cuda.is_available() else \"cpu\")"
      ],
      "execution_count": null,
      "outputs": [
        {
          "output_type": "stream",
          "text": [
            "Requirement already up-to-date: torchvision in /usr/local/lib/python3.7/dist-packages (0.9.0+cu101)\n",
            "Requirement already satisfied, skipping upgrade: torch==1.8.0 in /usr/local/lib/python3.7/dist-packages (from torchvision) (1.8.0+cu101)\n",
            "Requirement already satisfied, skipping upgrade: pillow>=4.1.1 in /usr/local/lib/python3.7/dist-packages (from torchvision) (7.0.0)\n",
            "Requirement already satisfied, skipping upgrade: numpy in /usr/local/lib/python3.7/dist-packages (from torchvision) (1.19.5)\n",
            "Requirement already satisfied, skipping upgrade: typing-extensions in /usr/local/lib/python3.7/dist-packages (from torch==1.8.0->torchvision) (3.7.4.3)\n"
          ],
          "name": "stdout"
        }
      ]
    },
    {
      "cell_type": "code",
      "metadata": {
        "id": "FtH0SAio-PGb"
      },
      "source": [
        "# Hyperparameters\n",
        "batch_size = 128\n",
        "epochs = 5\n",
        "hidden_size = 32"
      ],
      "execution_count": null,
      "outputs": []
    },
    {
      "cell_type": "code",
      "metadata": {
        "id": "XO6YtCNsZ3AM",
        "colab": {
          "base_uri": "https://localhost:8080/",
          "height": 282
        },
        "outputId": "7a4e3584-ef4b-4156-de05-8d8cf89c372a"
      },
      "source": [
        "# Used to fix an internet problem, can be ignored. Still, sometimes the cell\n",
        "# gives an 503HTTP error. If that happens just rerun this cell (over and over)\n",
        "from six.moves import urllib \n",
        "opener = urllib.request.build_opener()\n",
        "opener.addheaders = [('User-agent', 'Mozilla/5.0')]\n",
        "urllib.request.install_opener(opener)\n",
        "\n",
        "# defining a transfrom that will convert MNIST to tensor\n",
        "random_flips = transforms.Compose([\n",
        "         transforms.ToTensor()                             \n",
        "])\n",
        "\n",
        "# defining datasets and dataloaders\n",
        "mnist_train = datasets.MNIST('data', train=True, download=True, transform=random_flips)\n",
        "mnist_val = datasets.MNIST('data', train=False, download=True, transform=random_flips)\n",
        "\n",
        "\n",
        "train_loader = DataLoader(dataset=mnist_train, batch_size=batch_size, shuffle=True)\n",
        "test_loader = DataLoader(dataset=mnist_val, batch_size=batch_size, shuffle=False)\n",
        "\n",
        "plt.imshow(mnist_train[9][0][0].numpy(), cmap=\"gray\")"
      ],
      "execution_count": null,
      "outputs": [
        {
          "output_type": "execute_result",
          "data": {
            "text/plain": [
              "<matplotlib.image.AxesImage at 0x7f60abd8bb10>"
            ]
          },
          "metadata": {
            "tags": []
          },
          "execution_count": 6
        },
        {
          "output_type": "display_data",
          "data": {
            "image/png": "[encoded data removed]",
            "text/plain": [
              "<Figure size 432x288 with 1 Axes>"
            ]
          },
          "metadata": {
            "tags": [],
            "needs_background": "light"
          }
        }
      ]
    },
    {
      "cell_type": "code",
      "metadata": {
        "id": "qlnHlSXob3GJ"
      },
      "source": [
        " def plot_tsne(model, batches=10):\n",
        "    \"\"\"\n",
        "    Visualization of the separation quality of the model, to see how\n",
        "    ordered the latent space is.\n",
        "    \"\"\"\n",
        "    codes = None\n",
        "    y = None\n",
        "    i = 0\n",
        "    for data in test_loader:\n",
        "      X, targets = data\n",
        "      X = X.to(device)\n",
        "\n",
        "      batch_codes = model.encode(X).detach().to(\"cpu\")\n",
        "      if codes is None:\n",
        "        codes = np.asarray(batch_codes)\n",
        "        y = targets\n",
        "      else:\n",
        "        codes = np.concatenate([codes, batch_codes], 0)\n",
        "        y = np.concatenate([y, targets], 0)\n",
        "      i +=1\n",
        "      if i == batches:\n",
        "        break\n",
        "\n",
        "    codes_pca = TSNE(n_components=2).fit_transform(codes)\n",
        "    fig, ax = plt.subplots()\n",
        "    for i in range(10):\n",
        "      locs = y == i\n",
        "      ax.scatter(codes_pca[locs, 0], codes_pca[locs, 1], label=str(i))\n",
        "    return ax\n",
        "\n",
        "\n",
        "def reconstruct_sample(model, n: int = 10):\n",
        "  \"\"\"\n",
        "  Reconstruction of a sample of images using the model\n",
        "  \"\"\"\n",
        "  X, _ = next(test_loader.__iter__())\n",
        "  X = X[:n].to(device)\n",
        "  recons, _ = model(X)\n",
        "  im = torch.cat([X, recons], 2)\n",
        "  im = im.detach().to(\"cpu\").numpy()\n",
        "  im = np.concatenate(im, 2)\n",
        "  return im\n",
        "\n"
      ],
      "execution_count": null,
      "outputs": []
    },
    {
      "cell_type": "code",
      "metadata": {
        "id": "M1vEJ5aeW2Rw"
      },
      "source": [
        "class SmartAutoEncoder(nn.Module):\n",
        "  \"\"\"\n",
        "  Smart AE network, which uses a prediction task as a regularization\n",
        "  \"\"\"\n",
        "  def __init__(self, hidden_size=2, n_classes=10):\n",
        "    super(SmartAutoEncoder, self).__init__()\n",
        "\n",
        "    self.hidden_size = hidden_size\n",
        "    self.encoder = nn.Sequential(\n",
        "          nn.Conv2d(1, 16, 3, stride=2, padding=1),\n",
        "          nn.ReLU(),\n",
        "          nn.Conv2d(16, 32, 3, stride=2, padding=1),\n",
        "          nn.ReLU(),\n",
        "          nn.Conv2d(32, hidden_size, 7),  # out shape: [bs, hidden_size, 1, 1]\n",
        "          nn.Flatten(), # out shape: [bs, hidden_size]\n",
        "      )\n",
        "    self.decoder = nn.Sequential(\n",
        "          nn.ConvTranspose2d(hidden_size, 32, 7),\n",
        "          nn.ReLU(),\n",
        "          nn.ConvTranspose2d(32, 16, 3, stride=2, padding=1, output_padding=1),\n",
        "          nn.ReLU(),\n",
        "          nn.ConvTranspose2d(16, 1, 3, stride=2, padding=1, output_padding=1),\n",
        "          nn.Sigmoid()\n",
        "      )\n",
        "    self.classification_head = nn.Linear(hidden_size, n_classes)\n",
        "    \n",
        "  def encode(self, x):\n",
        "    code = self.encoder(x)\n",
        "    return code\n",
        "\n",
        "  def decode(self, code):\n",
        "    code = code.view((-1, self.hidden_size, 1, 1))\n",
        "    return self.decoder(code)\n",
        "\n",
        "  def forward(self, x):\n",
        "    code = self.encode(x)\n",
        "    reconstructed = self.decode(code)\n",
        "    prediction = self.classification_head(code)\n",
        "    return reconstructed, prediction\n",
        "\n",
        "\n",
        "class SmartAELoss(nn.Module):\n",
        "  \"\"\"\n",
        "  A class to calculate the losses and accuracy metrics of the AE\n",
        "  \"\"\"\n",
        "  def __init__(self, classification_weight: float = 0.5):\n",
        "    super(SmartAELoss, self).__init__()\n",
        "    self.cls_weight = classification_weight\n",
        "    self.recon_criterion = nn.L1Loss()\n",
        "    self.prediction_criterion = nn.CrossEntropyLoss()\n",
        "\n",
        "  def forward(self, recon_x, x, pred_y, y):\n",
        "    recon_loss = self.recon_criterion(recon_x, x,)\n",
        "    pred_loss = self.prediction_criterion(pred_y, y)\n",
        "    total_loss = (1 - self.cls_weight) * recon_loss + self.cls_weight * pred_loss\n",
        "\n",
        "    # to calc the accuracy\n",
        "    pred_class = pred_y.data.max(1, keepdim=True)[1]\n",
        "    correct = pred_class.eq(y.data.view_as(pred_class)).sum()\n",
        "    accuracy = 100. * correct / batch_size\n",
        "\n",
        "    metrics = {\"recon_loss\": float(recon_loss.detach()),\n",
        "               \"pred_loss\": float(pred_loss.detach()),\n",
        "               \"pred_acc\": float(accuracy.detach()),\n",
        "               \"total_loss\": float(total_loss.detach())}\n",
        "    return total_loss, metrics\n"
      ],
      "execution_count": null,
      "outputs": []
    },
    {
      "cell_type": "code",
      "metadata": {
        "id": "ZdsxxrbeZskL"
      },
      "source": [
        "\n",
        "def validate(epoch: int, model: nn.Module, val_dl: DataLoader, crit: nn.Module):\n",
        "  \"\"\"\n",
        "  The validation step\n",
        "  \"\"\"\n",
        "  model.eval()\n",
        "  metrics = {\"recon_loss\": [],\n",
        "              \"pred_loss\": [],\n",
        "              \"pred_acc\": [],\n",
        "              \"total_loss\": []\n",
        "             }\n",
        "\n",
        "  for data in val_dl:\n",
        "    img, target = data\n",
        "    img, target = img.to(device), target.to(device)\n",
        "    recon_img, pred = model(img)\n",
        "    _, batch_metrics = crit(recon_img, img, pred, target)\n",
        "    for key in metrics.keys():\n",
        "      metrics[key].append(batch_metrics[key])\n",
        "\n",
        "  # calc the mean of the metrics over entire val set\n",
        "  for key in metrics.keys():\n",
        "      metrics[key] = np.mean(metrics[key])\n",
        "  return metrics\n",
        "\n",
        "\n",
        "def train(epoch: int, model: nn.Module, train_dl: DataLoader, crit: nn.Module, optim: torch.optim.Optimizer):\n",
        "  \"\"\"\n",
        "  The training step\n",
        "  \"\"\"\n",
        "  model.train()\n",
        "  metrics = {\"recon_loss\": [],\n",
        "              \"pred_loss\": [],\n",
        "              \"pred_acc\": [],\n",
        "              \"total_loss\": []\n",
        "             }\n",
        "  for data in train_dl:\n",
        "    img, target = data\n",
        "    img, target = img.to(device), target.to(device)\n",
        "    recon_img, pred = model(img)\n",
        "    loss, batch_metrics = crit(recon_img, img, pred, target)\n",
        "    loss.backward()\n",
        "    optim.step()\n",
        "    optim.zero_grad()\n",
        "    for key in metrics.keys():\n",
        "      metrics[key].append(batch_metrics[key])\n",
        "\n",
        "  for key in metrics.keys():\n",
        "    metrics[key] = np.mean(metrics[key])\n",
        "  return metrics    \n",
        "\n",
        "def fit_model(model, num_epochs=5, learning_rate=1e-3, pred_loss_weight=1):\n",
        "    \n",
        "    torch.manual_seed(42)\n",
        "    criterion = SmartAELoss(pred_loss_weight).to(device)\n",
        "    optimizer = torch.optim.Adam(model.parameters(),\n",
        "                                 lr=learning_rate, \n",
        "                                 weight_decay=1e-5)\n",
        "    \n",
        "    for epoch in range(num_epochs):\n",
        "        train_metrics = train(epoch, model, train_loader, criterion, optimizer)\n",
        "        val_metrics = validate(epoch, model, test_loader, criterion)\n",
        "\n",
        "        print('Epoch:{}, Train Loss:{:.4f}, Train Accuracy:{:.4f}'.format(epoch+1, train_metrics[\"total_loss\"], train_metrics[\"pred_acc\"]), end=\" \")\n",
        "        print('Epoch:{}, Val Loss:{:.4f}, Val Accuracy:{:.4f}'.format(epoch+1, val_metrics[\"total_loss\"], val_metrics[\"pred_acc\"]))\n",
        "    return model"
      ],
      "execution_count": null,
      "outputs": []
    },
    {
      "cell_type": "code",
      "metadata": {
        "colab": {
          "base_uri": "https://localhost:8080/"
        },
        "id": "YkmJ8KAm3tHA",
        "outputId": "f072dfd5-e7cb-438b-c3d0-35531ed39375"
      },
      "source": [
        "# let us define and train the model\n",
        "model = SmartAutoEncoder(hidden_size).to(device)\n",
        "model = fit_model(model, epochs, pred_loss_weight=0.5)"
      ],
      "execution_count": null,
      "outputs": [
        {
          "output_type": "stream",
          "text": [
            "Epoch:1, Train Loss:0.7178, Train Accuracy:51.0261 Epoch:1, Val Loss:0.4737, Val Accuracy:66.1195\n",
            "Epoch:2, Train Loss:0.4172, Train Accuracy:76.7641 Epoch:2, Val Loss:0.3527, Val Accuracy:82.3081\n",
            "Epoch:3, Train Loss:0.3469, Train Accuracy:83.3339 Epoch:3, Val Loss:0.3181, Val Accuracy:83.8904\n",
            "Epoch:4, Train Loss:0.3148, Train Accuracy:85.3778 Epoch:4, Val Loss:0.2919, Val Accuracy:85.5914\n",
            "Epoch:5, Train Loss:0.2947, Train Accuracy:86.4755 Epoch:5, Val Loss:0.2745, Val Accuracy:87.0550\n"
          ],
          "name": "stdout"
        }
      ]
    },
    {
      "cell_type": "code",
      "metadata": {
        "colab": {
          "base_uri": "https://localhost:8080/",
          "height": 135
        },
        "id": "4jE9L74EtcHW",
        "outputId": "9aebe2fd-8019-4be2-afed-27be75146ae1"
      },
      "source": [
        "# visualization of the results\n",
        "res = reconstruct_sample(model)\n",
        "plt.imshow(res[0], cmap=\"gray\")"
      ],
      "execution_count": null,
      "outputs": [
        {
          "output_type": "execute_result",
          "data": {
            "text/plain": [
              "<matplotlib.image.AxesImage at 0x7ff631b1ddd0>"
            ]
          },
          "metadata": {
            "tags": []
          },
          "execution_count": 25
        },
        {
          "output_type": "display_data",
          "data": {
            "image/png": "[encoded data removed]",
            "text/plain": [
              "<Figure size 432x288 with 1 Axes>"
            ]
          },
          "metadata": {
            "tags": [],
            "needs_background": "light"
          }
        }
      ]
    },
    {
      "cell_type": "code",
      "metadata": {
        "colab": {
          "base_uri": "https://localhost:8080/",
          "height": 265
        },
        "id": "1e4qn-Bntdlb",
        "outputId": "82e3b2da-21fe-46f1-8a84-9faf4b88b9d5"
      },
      "source": [
        "ax = plot_tsne(model, batches=5)\n",
        "plt.show()"
      ],
      "execution_count": null,
      "outputs": [
        {
          "output_type": "display_data",
          "data": {
            "image/png": "[encoded data removed]",
            "text/plain": [
              "<Figure size 432x288 with 1 Axes>"
            ]
          },
          "metadata": {
            "tags": [],
            "needs_background": "light"
          }
        }
      ]
    },
    {
      "cell_type": "markdown",
      "metadata": {
        "id": "ZH75f5k5rXrC"
      },
      "source": [
        "# Basic logging with wandb\n",
        "The code above works beautifully, but it is far from being easily reproducible, and there are bearly any insights into the training process of the model. We can fix that by using wandb!\n",
        "\n",
        "\n",
        "We will talk about:\n",
        "\n",
        "*   What is wandb\n",
        "*   wandb web interface\n",
        "*   Projects\n",
        "*   Runs\n",
        "*   Configs\n",
        "*   Logging metrics\n",
        "*   Analyzing a run \n",
        "*   Reproducability\n",
        "\n"
      ]
    },
    {
      "cell_type": "code",
      "metadata": {
        "colab": {
          "base_uri": "https://localhost:8080/"
        },
        "id": "XmbI-avENVOH",
        "outputId": "e8a03ffb-cb42-4523-96f5-1d1c76b0382c"
      },
      "source": [
        "!pip install wandb\n",
        "import wandb\n"
      ],
      "execution_count": null,
      "outputs": [
        {
          "output_type": "stream",
          "text": [
            "Requirement already satisfied: wandb in /usr/local/lib/python3.7/dist-packages (0.10.22)\n",
            "Requirement already satisfied: psutil>=5.0.0 in /usr/local/lib/python3.7/dist-packages (from wandb) (5.4.8)\n",
            "Requirement already satisfied: promise<3,>=2.0 in /usr/local/lib/python3.7/dist-packages (from wandb) (2.3)\n",
            "Requirement already satisfied: python-dateutil>=2.6.1 in /usr/local/lib/python3.7/dist-packages (from wandb) (2.8.1)\n",
            "Requirement already satisfied: subprocess32>=3.5.3 in /usr/local/lib/python3.7/dist-packages (from wandb) (3.5.4)\n",
            "Requirement already satisfied: protobuf>=3.12.0 in /usr/local/lib/python3.7/dist-packages (from wandb) (3.12.4)\n",
            "Requirement already satisfied: requests<3,>=2.0.0 in /usr/local/lib/python3.7/dist-packages (from wandb) (2.23.0)\n",
            "Requirement already satisfied: GitPython>=1.0.0 in /usr/local/lib/python3.7/dist-packages (from wandb) (3.1.14)\n",
            "Requirement already satisfied: pathtools in /usr/local/lib/python3.7/dist-packages (from wandb) (0.1.2)\n",
            "Requirement already satisfied: sentry-sdk>=0.4.0 in /usr/local/lib/python3.7/dist-packages (from wandb) (1.0.0)\n",
            "Requirement already satisfied: shortuuid>=0.5.0 in /usr/local/lib/python3.7/dist-packages (from wandb) (1.0.1)\n",
            "Requirement already satisfied: Click>=7.0 in /usr/local/lib/python3.7/dist-packages (from wandb) (7.1.2)\n",
            "Requirement already satisfied: configparser>=3.8.1 in /usr/local/lib/python3.7/dist-packages (from wandb) (5.0.2)\n",
            "Requirement already satisfied: six>=1.13.0 in /usr/local/lib/python3.7/dist-packages (from wandb) (1.15.0)\n",
            "Requirement already satisfied: PyYAML in /usr/local/lib/python3.7/dist-packages (from wandb) (3.13)\n",
            "Requirement already satisfied: docker-pycreds>=0.4.0 in /usr/local/lib/python3.7/dist-packages (from wandb) (0.4.0)\n",
            "Requirement already satisfied: setuptools in /usr/local/lib/python3.7/dist-packages (from protobuf>=3.12.0->wandb) (54.0.0)\n",
            "Requirement already satisfied: certifi>=2017.4.17 in /usr/local/lib/python3.7/dist-packages (from requests<3,>=2.0.0->wandb) (2020.12.5)\n",
            "Requirement already satisfied: idna<3,>=2.5 in /usr/local/lib/python3.7/dist-packages (from requests<3,>=2.0.0->wandb) (2.10)\n",
            "Requirement already satisfied: urllib3!=1.25.0,!=1.25.1,<1.26,>=1.21.1 in /usr/local/lib/python3.7/dist-packages (from requests<3,>=2.0.0->wandb) (1.24.3)\n",
            "Requirement already satisfied: chardet<4,>=3.0.2 in /usr/local/lib/python3.7/dist-packages (from requests<3,>=2.0.0->wandb) (3.0.4)\n",
            "Requirement already satisfied: gitdb<5,>=4.0.1 in /usr/local/lib/python3.7/dist-packages (from GitPython>=1.0.0->wandb) (4.0.5)\n",
            "Requirement already satisfied: smmap<4,>=3.0.1 in /usr/local/lib/python3.7/dist-packages (from gitdb<5,>=4.0.1->GitPython>=1.0.0->wandb) (3.0.5)\n"
          ],
          "name": "stdout"
        }
      ]
    },
    {
      "cell_type": "code",
      "metadata": {
        "colab": {
          "base_uri": "https://localhost:8080/",
          "height": 153
        },
        "id": "7cq46qJi2xR8",
        "outputId": "a6e5f3fa-f72e-4205-bcee-1b1f036dc3c5"
      },
      "source": [
        "wandb.init(project=\"SmartAE\",  # mandatory\n",
        "           tags=[\"metrics\"],  # optional, for easy navigation and such\n",
        "           job_type=\"training_demo\", # optional, but recommended. for grouping *runs*.\n",
        "           name=\"simple_logging_example\",  # optional, but recommended. The name of the run (random name if None)\n",
        "           save_code=True,\n",
        "           config={\n",
        "    \"learning_rate\": 1e-3,\n",
        "    \"batch_size\": 128,\n",
        "    \"epochs\": 5,\n",
        "    \"hidden_size\": 32,\n",
        "    \"pred_loss_weight\": 0.5,\n",
        "    \"seed\": 42\n",
        "})\n",
        "config = wandb.config"
      ],
      "execution_count": null,
      "outputs": [
        {
          "output_type": "display_data",
          "data": {
            "application/javascript": [
              "\n",
              "        window._wandbApiKey = new Promise((resolve, reject) => {\n",
              "            function loadScript(url) {\n",
              "            return new Promise(function(resolve, reject) {\n",
              "                let newScript = document.createElement(\"script\");\n",
              "                newScript.onerror = reject;\n",
              "                newScript.onload = resolve;\n",
              "                document.body.appendChild(newScript);\n",
              "                newScript.src = url;\n",
              "            });\n",
              "            }\n",
              "            loadScript(\"https://cdn.jsdelivr.net/npm/postmate/build/postmate.min.js\").then(() => {\n",
              "            const iframe = document.createElement('iframe')\n",
              "            iframe.style.cssText = \"width:0;height:0;border:none\"\n",
              "            document.body.appendChild(iframe)\n",
              "            const handshake = new Postmate({\n",
              "                container: iframe,\n",
              "                url: 'https://wandb.ai/authorize'\n",
              "            });\n",
              "            const timeout = setTimeout(() => reject(\"Couldn't auto authenticate\"), 5000)\n",
              "            handshake.then(function(child) {\n",
              "                child.on('authorize', data => {\n",
              "                    clearTimeout(timeout)\n",
              "                    resolve(data)\n",
              "                });\n",
              "            });\n",
              "            })\n",
              "        });\n",
              "    "
            ],
            "text/plain": [
              "<IPython.core.display.Javascript object>"
            ]
          },
          "metadata": {
            "tags": []
          }
        },
        {
          "output_type": "stream",
          "text": [
            "\u001b[34m\u001b[1mwandb\u001b[0m: Appending key for api.wandb.ai to your netrc file: /root/.netrc\n"
          ],
          "name": "stderr"
        },
        {
          "output_type": "display_data",
          "data": {
            "text/html": [
              "\n",
              "                Tracking run with wandb version 0.10.22<br/>\n",
              "                Syncing run <strong style=\"color:#cdcd00\">simple_logging_example</strong> to <a href=\"https://wandb.ai\" target=\"_blank\">Weights & Biases</a> <a href=\"https://docs.wandb.com/integrations/jupyter.html\" target=\"_blank\">(Documentation)</a>.<br/>\n",
              "                Project page: <a href=\"https://wandb.ai/nadav_bor/SmartAE\" target=\"_blank\">https://wandb.ai/nadav_bor/SmartAE</a><br/>\n",
              "                Run page: <a href=\"https://wandb.ai/nadav_bor/SmartAE/runs/3i4ptc2v\" target=\"_blank\">https://wandb.ai/nadav_bor/SmartAE/runs/3i4ptc2v</a><br/>\n",
              "                Run data is saved locally in <code>/content/wandb/run-20210316_114508-3i4ptc2v</code><br/><br/>\n",
              "            "
            ],
            "text/plain": [
              "<IPython.core.display.HTML object>"
            ]
          },
          "metadata": {
            "tags": []
          }
        }
      ]
    },
    {
      "cell_type": "code",
      "metadata": {
        "id": "V6Zy3tv_2nwd"
      },
      "source": [
        "def validate(epoch: int, model: nn.Module, val_dl: DataLoader, crit: nn.Module):\n",
        "  model.eval()\n",
        "  metrics = {\"recon_loss\": [],\n",
        "              \"pred_loss\": [],\n",
        "              \"pred_acc\": [],\n",
        "              \"total_loss\": []\n",
        "             }\n",
        "\n",
        "  for data in val_dl:\n",
        "    img, target = data\n",
        "    img, target = img.to(device), target.to(device)\n",
        "    recon_img, pred = model(img)\n",
        "    _, batch_metrics = crit(recon_img, img, pred, target)\n",
        "    for key in metrics.keys():\n",
        "      metrics[key].append(batch_metrics[key])\n",
        "\n",
        "  for key in metrics.keys():\n",
        "    metrics[key] = np.mean(metrics[key])\n",
        "\n",
        "  # This is new - logging metrics (with a dict).\n",
        "  wandb.log({\"val_accuracy\": metrics[\"pred_acc\"],\n",
        "             \"val_recon_loss\": metrics[\"recon_loss\"],\n",
        "             \"val_prediction_loss\": metrics[\"pred_loss\"],\n",
        "             \"val_total_loss\": metrics[\"total_loss\"]})\n",
        "  \n",
        "  return metrics\n",
        "\n",
        "\n",
        "def train(epoch: int, model: nn.Module, train_dl: DataLoader, crit: nn.Module, optim: torch.optim.Optimizer):\n",
        "  model.train()\n",
        "  metrics = {\"recon_loss\": [],\n",
        "              \"pred_loss\": [],\n",
        "              \"pred_acc\": [],\n",
        "              \"total_loss\": []\n",
        "             }\n",
        "  for i, data in enumerate(train_dl):\n",
        "    img, target = data\n",
        "    img, target = img.to(device), target.to(device)\n",
        "    recon_img, pred = model(img)\n",
        "    loss, batch_metrics = crit(recon_img, img, pred, target)\n",
        "    loss.backward()\n",
        "    optim.step()\n",
        "    optim.zero_grad()\n",
        "\n",
        "    # This is also new. We can be split into several logging steps,\n",
        "    # but then need to use the \"commit=False\" flag in all but the last step,\n",
        "    # otherwise wandb won't be able to tell that we logged\n",
        "    # both dicts in the same batch\n",
        "    wandb.log(batch_metrics, commit=False)\n",
        "    wandb.log({\"epoch\": epoch})\n",
        "\n",
        "    for key in metrics.keys():\n",
        "      metrics[key].append(batch_metrics[key])\n",
        "\n",
        "  for key in metrics.keys():\n",
        "    metrics[key] = np.mean(metrics[key])\n",
        "  \n",
        "  return metrics    \n",
        "\n",
        "def fit_model(model, num_epochs=5, learning_rate=1e-3, pred_loss_weight=1):\n",
        "    criterion = SmartAELoss(pred_loss_weight).to(device)\n",
        "    optimizer = torch.optim.Adam(model.parameters(),\n",
        "                                 lr=learning_rate, \n",
        "                                 weight_decay=1e-5)\n",
        "    \n",
        "    for epoch in range(num_epochs):\n",
        "        train_metrics = train(epoch, model, train_loader, criterion, optimizer)\n",
        "        val_metrics = validate(epoch, model, test_loader, criterion)\n",
        "\n",
        "        print('Epoch:{}, Train Loss:{:.4f}, Train Accuracy:{:.4f}'.format(epoch+1, train_metrics[\"total_loss\"], train_metrics[\"pred_acc\"]), end=\" \")\n",
        "        print('Epoch:{}, Val Loss:{:.4f}, Val Accuracy:{:.4f}'.format(epoch+1, val_metrics[\"total_loss\"], val_metrics[\"pred_acc\"]))\n",
        "    return model\n",
        "\n",
        "\n"
      ],
      "execution_count": null,
      "outputs": []
    },
    {
      "cell_type": "code",
      "metadata": {
        "colab": {
          "base_uri": "https://localhost:8080/"
        },
        "id": "zzKt5oihyEfo",
        "outputId": "17e1e9ea-d10f-4110-e20b-732664464c25"
      },
      "source": [
        "torch.manual_seed(config.seed)\n",
        "model = SmartAutoEncoder(config.hidden_size).to(device)\n",
        "model = fit_model(model, config.epochs, pred_loss_weight=config.pred_loss_weight, learning_rate=config.learning_rate)"
      ],
      "execution_count": null,
      "outputs": [
        {
          "output_type": "stream",
          "text": [
            "Epoch:1, Train Loss:0.2778, Train Accuracy:86.9453 Epoch:1, Val Loss:0.1283, Val Accuracy:93.3445\n",
            "Epoch:2, Train Loss:0.1037, Train Accuracy:95.5840 Epoch:2, Val Loss:0.0746, Val Accuracy:95.7377\n",
            "Epoch:3, Train Loss:0.0704, Train Accuracy:97.0482 Epoch:3, Val Loss:0.0580, Val Accuracy:96.4399\n",
            "Epoch:4, Train Loss:0.0575, Train Accuracy:97.6279 Epoch:4, Val Loss:0.0500, Val Accuracy:96.8354\n",
            "Epoch:5, Train Loss:0.0497, Train Accuracy:97.9861 Epoch:5, Val Loss:0.0453, Val Accuracy:97.0332\n"
          ],
          "name": "stdout"
        }
      ]
    },
    {
      "cell_type": "markdown",
      "metadata": {
        "id": "Wki6h2Tn9aov"
      },
      "source": [
        "#Logging **images**, **files** and **histograms**!\n",
        "\n",
        "We will see how simple it is to log any imaginable datatype to wandb.\n",
        "We will also see how to log the model and model stats/parameters/grads, and how to load them."
      ]
    },
    {
      "cell_type": "code",
      "metadata": {
        "colab": {
          "base_uri": "https://localhost:8080/",
          "height": 946,
          "referenced_widgets": [
            "ddefcddf44154951ade2c6814d54d8b4",
            "863d8e1e0dc146298815f0665e4cd142",
            "b91d2cdae65641c39db455c5c4114a5e",
            "d053961b7ec445ff9369129c9ac4e872",
            "64a6fdf38abe4320b34c06a75fc76ad9",
            "93381744cecd4209bb16ec04ae9bf352",
            "09e92569d4964bf092df74b2247eab89",
            "a5d98ad26315491cb5fbb8fc26627c83"
          ]
        },
        "id": "SUgKgwL49hwR",
        "outputId": "7200f0ac-f121-4e64-8568-738d8476e795"
      },
      "source": [
        "wandb.init(project=\"SmartAE\",  # Same as before\n",
        "           tags=[\"metrics\", \"images\", \"files\", \"histograms\"], \n",
        "           job_type=\"training_demo\",\n",
        "           name=\"advanced_logging_example\",\n",
        "           save_code=True,\n",
        "           config={\n",
        "    \"learning_rate\": 1e-3,\n",
        "    \"batch_size\": 128,\n",
        "    \"epochs\": 5,\n",
        "    \"hidden_size\": 32,\n",
        "    \"pred_loss_weight\": 0.5,\n",
        "    \"seed\": 42\n",
        "})\n",
        "config = wandb.config\n"
      ],
      "execution_count": null,
      "outputs": [
        {
          "output_type": "display_data",
          "data": {
            "text/html": [
              "Finishing last run (ID:20v0h5hx) before initializing another..."
            ],
            "text/plain": [
              "<IPython.core.display.HTML object>"
            ]
          },
          "metadata": {
            "tags": []
          }
        },
        {
          "output_type": "display_data",
          "data": {
            "text/html": [
              "<br/>Waiting for W&B process to finish, PID 722<br/>Program ended successfully."
            ],
            "text/plain": [
              "<IPython.core.display.HTML object>"
            ]
          },
          "metadata": {
            "tags": []
          }
        },
        {
          "output_type": "display_data",
          "data": {
            "application/vnd.jupyter.widget-view+json": {
              "model_id": "ddefcddf44154951ade2c6814d54d8b4",
              "version_minor": 0,
              "version_major": 2
            },
            "text/plain": [
              "VBox(children=(Label(value=' 0.66MB of 0.66MB uploaded (0.00MB deduped)\\r'), FloatProgress(value=1.0, max=1.0)…"
            ]
          },
          "metadata": {
            "tags": []
          }
        },
        {
          "output_type": "display_data",
          "data": {
            "text/html": [
              "Find user logs for this run at: <code>/content/wandb/run-20210316_120426-20v0h5hx/logs/debug.log</code>"
            ],
            "text/plain": [
              "<IPython.core.display.HTML object>"
            ]
          },
          "metadata": {
            "tags": []
          }
        },
        {
          "output_type": "display_data",
          "data": {
            "text/html": [
              "Find internal logs for this run at: <code>/content/wandb/run-20210316_120426-20v0h5hx/logs/debug-internal.log</code>"
            ],
            "text/plain": [
              "<IPython.core.display.HTML object>"
            ]
          },
          "metadata": {
            "tags": []
          }
        },
        {
          "output_type": "display_data",
          "data": {
            "text/html": [
              "<h3>Run summary:</h3><br/><style>\n",
              "    table.wandb td:nth-child(1) { padding: 0 10px; text-align: right }\n",
              "    </style><table class=\"wandb\">\n",
              "<tr><td>recon_loss</td><td>0.07363</td></tr><tr><td>pred_loss</td><td>0.09582</td></tr><tr><td>pred_acc</td><td>73.4375</td></tr><tr><td>total_loss</td><td>0.08473</td></tr><tr><td>epoch</td><td>1</td></tr><tr><td>_runtime</td><td>15</td></tr><tr><td>_timestamp</td><td>1615896285</td></tr><tr><td>_step</td><td>939</td></tr><tr><td>val_accuracy</td><td>95.10483</td></tr><tr><td>val_recon_loss</td><td>0.07134</td></tr><tr><td>val_prediction_loss</td><td>0.12939</td></tr><tr><td>val_total_loss</td><td>0.10036</td></tr></table>"
            ],
            "text/plain": [
              "<IPython.core.display.HTML object>"
            ]
          },
          "metadata": {
            "tags": []
          }
        },
        {
          "output_type": "display_data",
          "data": {
            "text/html": [
              "<h3>Run history:</h3><br/><style>\n",
              "    table.wandb td:nth-child(1) { padding: 0 10px; text-align: right }\n",
              "    </style><table class=\"wandb\">\n",
              "<tr><td>recon_loss</td><td>██▆▂▂▂▂▁▁▁▁▁▁▁▁▁▁▁▁▁▁▁▁▁▁▁▁▁▁▁▁▁▁▁▁▁▁▁▁▁</td></tr><tr><td>pred_loss</td><td>█▇▅▄▃▃▃▂▂▂▂▂▂▂▂▂▂▂▂▁▂▂▂▂▂▂▁▁▁▁▁▁▁▁▁▁▁▁▁▁</td></tr><tr><td>pred_acc</td><td>▁▁▅▅▆▆▆▆▇▇▇▇▇▇▇▇▇▇▇▇▇▇▇▇▇▇█▇▇██▇█████▇██</td></tr><tr><td>total_loss</td><td>█▇▅▄▃▃▃▂▂▂▂▂▂▂▂▂▂▂▂▁▂▂▂▁▂▂▁▁▁▁▁▁▁▁▁▁▁▁▁▁</td></tr><tr><td>epoch</td><td>▁▁▁▁▁▁▁▁▁▁▁▁▁▁▁▁▁▁▁▁████████████████████</td></tr><tr><td>_runtime</td><td>▁▁▁▂▂▂▂▂▂▂▃▃▃▃▃▃▄▄▄▄▅▅▅▅▆▆▆▆▆▆▇▇▇▇▇▇▇███</td></tr><tr><td>_timestamp</td><td>▁▁▁▂▂▂▂▂▂▂▃▃▃▃▃▃▄▄▄▄▅▅▅▅▆▆▆▆▆▆▇▇▇▇▇▇▇███</td></tr><tr><td>_step</td><td>▁▁▁▁▂▂▂▂▂▃▃▃▃▃▃▄▄▄▄▄▅▅▅▅▅▅▆▆▆▆▆▇▇▇▇▇▇███</td></tr><tr><td>val_accuracy</td><td>▁█</td></tr><tr><td>val_recon_loss</td><td>█▁</td></tr><tr><td>val_prediction_loss</td><td>█▁</td></tr><tr><td>val_total_loss</td><td>█▁</td></tr></table><br/>"
            ],
            "text/plain": [
              "<IPython.core.display.HTML object>"
            ]
          },
          "metadata": {
            "tags": []
          }
        },
        {
          "output_type": "display_data",
          "data": {
            "text/html": [
              "Synced 5 W&B file(s), 0 media file(s), 3 artifact file(s) and 2 other file(s)"
            ],
            "text/plain": [
              "<IPython.core.display.HTML object>"
            ]
          },
          "metadata": {
            "tags": []
          }
        },
        {
          "output_type": "display_data",
          "data": {
            "text/html": [
              "\n",
              "                    <br/>Synced <strong style=\"color:#cdcd00\">multi_run1</strong>: <a href=\"https://wandb.ai/nadav_bor/SmartAE/runs/20v0h5hx\" target=\"_blank\">https://wandb.ai/nadav_bor/SmartAE/runs/20v0h5hx</a><br/>\n",
              "                "
            ],
            "text/plain": [
              "<IPython.core.display.HTML object>"
            ]
          },
          "metadata": {
            "tags": []
          }
        },
        {
          "output_type": "display_data",
          "data": {
            "text/html": [
              "...Successfully finished last run (ID:20v0h5hx). Initializing new run:<br/><br/>"
            ],
            "text/plain": [
              "<IPython.core.display.HTML object>"
            ]
          },
          "metadata": {
            "tags": []
          }
        },
        {
          "output_type": "display_data",
          "data": {
            "text/html": [
              "\n",
              "                Tracking run with wandb version 0.10.22<br/>\n",
              "                Syncing run <strong style=\"color:#cdcd00\">advanced_logging_example</strong> to <a href=\"https://wandb.ai\" target=\"_blank\">Weights & Biases</a> <a href=\"https://docs.wandb.com/integrations/jupyter.html\" target=\"_blank\">(Documentation)</a>.<br/>\n",
              "                Project page: <a href=\"https://wandb.ai/nadav_bor/SmartAE\" target=\"_blank\">https://wandb.ai/nadav_bor/SmartAE</a><br/>\n",
              "                Run page: <a href=\"https://wandb.ai/nadav_bor/SmartAE/runs/2i5dokva\" target=\"_blank\">https://wandb.ai/nadav_bor/SmartAE/runs/2i5dokva</a><br/>\n",
              "                Run data is saved locally in <code>/content/wandb/run-20210316_120620-2i5dokva</code><br/><br/>\n",
              "            "
            ],
            "text/plain": [
              "<IPython.core.display.HTML object>"
            ]
          },
          "metadata": {
            "tags": []
          }
        }
      ]
    },
    {
      "cell_type": "code",
      "metadata": {
        "id": "ZANJaID_9iwM"
      },
      "source": [
        "def validate(epoch: int, model: nn.Module, val_dl: DataLoader, crit: nn.Module):\n",
        "  model.eval()\n",
        "  metrics = {\"recon_loss\": [],\n",
        "              \"pred_loss\": [],\n",
        "              \"pred_acc\": [],\n",
        "              \"total_loss\": []\n",
        "             }\n",
        "\n",
        "  for data in val_dl:\n",
        "    img, target = data\n",
        "    img, target = img.to(device), target.to(device)\n",
        "    recon_img, pred = model(img)\n",
        "    _, batch_metrics = crit(recon_img, img, pred, target)\n",
        "    for key in metrics.keys():\n",
        "      metrics[key].append(batch_metrics[key])\n",
        "\n",
        "  for key in metrics.keys():\n",
        "    metrics[key] = np.mean(metrics[key])\n",
        "\n",
        "  wandb.log({\"val_accuracy\": metrics[\"pred_acc\"],\n",
        "             \"val_recon_loss\": metrics[\"recon_loss\"],\n",
        "             \"val_prediction_loss\": metrics[\"pred_loss\"],\n",
        "             \"val_total_loss\": metrics[\"total_loss\"]})\n",
        "  \n",
        "  # logging images\n",
        "  sample_image: np.ndarray = reconstruct_sample(model)\n",
        "  wandb.log({\"reconstructed_sample\": wandb.Image(sample_image)})\n",
        "  \n",
        "  return metrics\n",
        "\n",
        "\n",
        "def train(epoch: int, model: nn.Module, train_dl: DataLoader, crit: nn.Module, optim: torch.optim.Optimizer):\n",
        "  model.train()\n",
        "  metrics = {\"recon_loss\": [],\n",
        "              \"pred_loss\": [],\n",
        "              \"pred_acc\": [],\n",
        "              \"total_loss\": []\n",
        "             }\n",
        "  for i, data in enumerate(train_dl):\n",
        "    img, target = data\n",
        "    img, target = img.to(device), target.to(device)\n",
        "    recon_img, pred = model(img)\n",
        "    loss, batch_metrics = crit(recon_img, img, pred, target)\n",
        "    loss.backward()\n",
        "    optim.step()\n",
        "    optim.zero_grad()\n",
        "\n",
        "    wandb.log(batch_metrics, commit=False)\n",
        "    wandb.log({\"epoch\": epoch})\n",
        "\n",
        "    for key in metrics.keys():\n",
        "      metrics[key].append(batch_metrics[key])\n",
        "\n",
        "  for key in metrics.keys():\n",
        "    metrics[key] = np.mean(metrics[key])\n",
        "  \n",
        "\n",
        "  return metrics    \n",
        "\n",
        "def fit_model(model, num_epochs=5, learning_rate=1e-3, pred_loss_weight=1):\n",
        "    \n",
        "    criterion = SmartAELoss(pred_loss_weight).to(device)\n",
        "    optimizer = torch.optim.Adam(model.parameters(),\n",
        "                                 lr=learning_rate, \n",
        "                                 weight_decay=1e-5)\n",
        "    \n",
        "    # a single line to log all the model's statistics!\n",
        "    wandb.watch(model, criterion, log=\"all\", log_freq=10) \n",
        "\n",
        "    for epoch in range(num_epochs):\n",
        "        train_metrics = train(epoch, model, train_loader, criterion, optimizer)\n",
        "        val_metrics = validate(epoch, model, test_loader, criterion)\n",
        "\n",
        "        print('Epoch:{}, Train Loss:{:.4f}, Train Accuracy:{:.4f}'.format(epoch+1, train_metrics[\"total_loss\"], train_metrics[\"pred_acc\"]), end=\" \")\n",
        "        print('Epoch:{}, Val Loss:{:.4f}, Val Accuracy:{:.4f}'.format(epoch+1, val_metrics[\"total_loss\"], val_metrics[\"pred_acc\"]))\n",
        "    \n",
        "    # We can also log matplotlib figures!\n",
        "    scatter_plot = plot_tsne(model)\n",
        "    wandb.log({\"tsne_plot\": scatter_plot}) \n",
        "\n",
        "    return model\n"
      ],
      "execution_count": null,
      "outputs": []
    },
    {
      "cell_type": "code",
      "metadata": {
        "colab": {
          "base_uri": "https://localhost:8080/"
        },
        "id": "51-JJo82-JFI",
        "outputId": "8b6cf690-7d78-4c62-ad79-4263fb968d33"
      },
      "source": [
        "torch.manual_seed(config.seed)\n",
        "model = SmartAutoEncoder(config.hidden_size).to(device)\n",
        "model = fit_model(model, config.epochs, pred_loss_weight=config.pred_loss_weight, learning_rate=config.learning_rate)\n",
        "\n",
        "\n",
        "\n"
      ],
      "execution_count": null,
      "outputs": [
        {
          "output_type": "stream",
          "text": [
            "Epoch:1, Train Loss:0.2778, Train Accuracy:86.9486 Epoch:1, Val Loss:0.1283, Val Accuracy:93.3643\n",
            "Epoch:2, Train Loss:0.1037, Train Accuracy:95.5824 Epoch:2, Val Loss:0.0744, Val Accuracy:95.7377\n",
            "Epoch:3, Train Loss:0.0703, Train Accuracy:97.0532 Epoch:3, Val Loss:0.0579, Val Accuracy:96.4498\n",
            "Epoch:4, Train Loss:0.0574, Train Accuracy:97.6379 Epoch:4, Val Loss:0.0499, Val Accuracy:96.8354\n",
            "Epoch:5, Train Loss:0.0497, Train Accuracy:97.9678 Epoch:5, Val Loss:0.0451, Val Accuracy:97.0431\n"
          ],
          "name": "stdout"
        }
      ]
    },
    {
      "cell_type": "code",
      "metadata": {
        "colab": {
          "base_uri": "https://localhost:8080/"
        },
        "id": "W8l2yeZuHY3m",
        "outputId": "8ba55bf3-3e50-4bbc-97c6-b1c5e680e427"
      },
      "source": [
        "# It is also possible to log general files\n",
        "save_path = \"model.pt\"\n",
        "torch.save(model.state_dict(), save_path)  # here we are saving the model's state dict localy\n",
        "wandb.save(save_path)  # here we are saving the model's state dict on the server"
      ],
      "execution_count": null,
      "outputs": [
        {
          "output_type": "execute_result",
          "data": {
            "text/plain": [
              "['/content/wandb/run-20210316_115322-vbewitq0/files/model.pt']"
            ]
          },
          "metadata": {
            "tags": []
          },
          "execution_count": 33
        }
      ]
    },
    {
      "cell_type": "markdown",
      "metadata": {
        "id": "BjNrwMza4kcv"
      },
      "source": [
        "# Lets log more than one run\n",
        "\n",
        "We will talk about:\n",
        "\n",
        "1.   Comparing runs using the project window\n",
        "2.   Using the table view\n",
        "3.   Filtering and grouping\n",
        "\n",
        "\n"
      ]
    },
    {
      "cell_type": "code",
      "metadata": {
        "id": "nLuGZlUF4pIw"
      },
      "source": [
        "wandb.init(project=\"SmartAE\",  # Same as before\n",
        "           tags=[\"metrics\", \"images\", \"files\", \"histograms\", \"hs8\"], \n",
        "           job_type=\"training_demo\",\n",
        "           name=\"multi_run3\",\n",
        "           save_code=True,\n",
        "           config={\n",
        "    \"learning_rate\": 1e-3,\n",
        "    \"batch_size\": 128,\n",
        "    \"epochs\": 2,\n",
        "    \"hidden_size\": 8,\n",
        "    \"pred_loss_weight\": 0.5,\n",
        "    \"seed\": 42\n",
        "})\n",
        "config = wandb.config\n",
        "\n",
        "torch.manual_seed(config.seed)\n",
        "model = SmartAutoEncoder(config.hidden_size).to(device)\n",
        "model = fit_model(model, config.epochs, pred_loss_weight=config.pred_loss_weight, learning_rate=config.learning_rate)\n",
        "\n",
        "save_path = \"model.pt\"\n",
        "torch.save(model.state_dict(), save_path)\n",
        "wandb.save(save_path)\n"
      ],
      "execution_count": null,
      "outputs": []
    },
    {
      "cell_type": "code",
      "metadata": {
        "id": "hbU80NYB4vmh"
      },
      "source": [
        "wandb.init(project=\"SmartAE\",  # Same as before\n",
        "           tags=[\"metrics\", \"images\", \"files\", \"histograms\", \"hs8\"], \n",
        "           job_type=\"training_demo\",\n",
        "           name=\"multi_run2\",\n",
        "           save_code=True,\n",
        "           config={\n",
        "    \"learning_rate\": 1e-3,\n",
        "    \"batch_size\": 128,\n",
        "    \"epochs\": 2,\n",
        "    \"hidden_size\": 32,\n",
        "    \"pred_loss_weight\": 0.1,\n",
        "    \"seed\": 42\n",
        "})\n",
        "\n",
        "torch.manual_seed(config.seed)\n",
        "model = SmartAutoEncoder(config.hidden_size).to(device)\n",
        "model = fit_model(model, config.epochs, pred_loss_weight=config.pred_loss_weight, learning_rate=config.learning_rate)\n",
        "\n",
        "save_path = \"model.pt\"\n",
        "torch.save(model.state_dict(), save_path)\n",
        "wandb.save(save_path)"
      ],
      "execution_count": null,
      "outputs": []
    },
    {
      "cell_type": "markdown",
      "metadata": {
        "id": "m5yv7VJh5Baw"
      },
      "source": [
        "# Sweeps\n",
        "\n",
        "We will talk about sweeps - how to use them and how to analyze the results\n",
        "\n",
        "We will also learn how to run sweeps from multiple machines, and how to stop a sweep from the interface"
      ]
    },
    {
      "cell_type": "code",
      "metadata": {
        "colab": {
          "base_uri": "https://localhost:8080/"
        },
        "id": "h-hEKJ7r5NpE",
        "outputId": "5967ae35-44a7-4852-c2e9-b32d35d1701b"
      },
      "source": [
        "sweep_config = {\n",
        "  \"name\": \"SmartAE Sweep\",  # the name of the sweep - mandatory\n",
        "  \"method\": \"random\",  # hyperparameter search type [grid, random, bayes]\n",
        "  'metric': {  # which metric to evaluate\n",
        "      'name': 'val_recon_loss',\n",
        "      'goal': 'minimize'   \n",
        "    }, \n",
        "  \"parameters\": {  # defining the parameters of the hyperparameter search.\n",
        "                   # This is good for random search, other search methods will look differently\n",
        "        \"hidden_size\": {\n",
        "            \"values\": [2, 4, 8, 16, 32, 64, 128]\n",
        "        },\n",
        "        \"pred_loss_weight\": {\n",
        "            \"values\": [0.0, 0.05, 0.2, 0.5, 0.8, 0.95, 1.0]\n",
        "        },\n",
        "        \"epochs\": {\n",
        "            \"values\": [2]\n",
        "        },\n",
        "        \"learning_rate\": {\n",
        "            \"values\": [1e-1, 1e-3, 1e-5]\n",
        "        },\n",
        "    }\n",
        "}\n",
        "\n",
        "sweep_id = wandb.sweep(sweep_config, project=\"SmartAE\")"
      ],
      "execution_count": null,
      "outputs": [
        {
          "output_type": "stream",
          "text": [
            "\u001b[34m\u001b[1mwandb\u001b[0m: \u001b[33mWARNING\u001b[0m Calling wandb.login() after wandb.init() has no effect.\n"
          ],
          "name": "stderr"
        },
        {
          "output_type": "stream",
          "text": [
            "Create sweep with ID: rpn1tygf\n",
            "Sweep URL: https://wandb.ai/nadav_bor/SmartAE/sweeps/rpn1tygf\n"
          ],
          "name": "stdout"
        }
      ]
    },
    {
      "cell_type": "code",
      "metadata": {
        "colab": {
          "base_uri": "https://localhost:8080/",
          "height": 1000,
          "referenced_widgets": [
            "5875969fb7da48819cf9b8421f4f5e98",
            "0c2552f50aef4b13ac0ac78498099858",
            "acebe20f7b554420a55bdd7133ef5480",
            "ebe265c2b87c40e0b62198ec5e79d1dc",
            "d253a7cdc4c64596906c680590e6c3d9",
            "bebe21d2a14b479d991b9d73fd903255",
            "98d0f1fa227343ba9f9c2d06d06cb83f",
            "ef873b28cb764d57911465ad14e002d2",
            "149589b6b24e416d9c4531f7a765790d",
            "0342d54403c74749a51fffcd9c919e82",
            "0a3023186af34e9d914824e02c1e3d35",
            "0f342803cea44aafacfe8e6cb3006acc",
            "ccfeff62a812497dbe436cbcac038d11",
            "b63ae754336a4628991e6185d930e1ae",
            "8ad4b70a535d4485bcb8ac29e9180ac2",
            "ebc9c84c81ef42729184246841f3ac73",
            "b8e6ce82a94049f0b0d1c4ea2377f58a",
            "8ee85fa6923d4e74814c7ee77a9aa141",
            "8ba83c37b4fe4fa6a1c51866a19bbb4c",
            "f3948ef034244c018c5f4651f0a0398c",
            "2c48494f840449b4831d3e7ec4baf430",
            "00779ce53d944d2caa7b40cc039457e6",
            "d00113cf06c64546abe99a5eb6a3b157",
            "ba9b993c62d94ef0a0d79000963b97f1",
            "287caae0cb0b4d73b8522099cf83e25d",
            "6ddb7f6801454ad3a79d0500d53f5c65",
            "6d03ead5339946f1ad6ff67b6bdb7e10",
            "f2d35fa1e9914f408d6a131fe3b5f088",
            "75d485df35a24588a13d1ea9e9dc4f1b",
            "c1694a7ac6244c2dacfe9b0949ab0402",
            "8ba160f2788c47b494b9a1b751488f81",
            "0131dac3a9ea4978b6c0d65718f67a12",
            "5a8a595c3b1c4a6fa0270e1daf6700f7",
            "14891b29361b4ec49f24734254de4990",
            "dcb83dcb831346cc854f25afcdf3b0bc",
            "9d6ddd4ba4ae4431ade0f77009770e57",
            "661661f451e849b4a9a29d8ab186c027",
            "2edae9dd3b9a43f9998be3f093ab7c82",
            "7f6e5225db014a51baa3b9ac7921b837",
            "f4ea447bd67c43dba2fc3885b569af27"
          ]
        },
        "id": "ARV2J05dmNEZ",
        "outputId": "93044711-6f70-4489-e6f3-48ae64eed40b"
      },
      "source": [
        "# a utility function, needed if running from notebooks\n",
        "def main():\n",
        "  run = wandb.init()\n",
        "  run.config.seed = 42\n",
        "  config = run.config\n",
        "  print(\"config:\", dict(config))\n",
        "\n",
        "  torch.manual_seed(config.seed)\n",
        "  model = SmartAutoEncoder(config.hidden_size).to(device)\n",
        "  model = fit_model(model, config.epochs, pred_loss_weight=config.pred_loss_weight, learning_rate=config.learning_rate)\n",
        "\n",
        "wandb.agent(sweep_id, function=main, count=5)"
      ],
      "execution_count": null,
      "outputs": [
        {
          "output_type": "stream",
          "text": [
            "\u001b[34m\u001b[1mwandb\u001b[0m: \u001b[33mWARNING\u001b[0m Calling wandb.login() after wandb.init() has no effect.\n",
            "\u001b[34m\u001b[1mwandb\u001b[0m: Agent Starting Run: wqa13t0v with config:\n",
            "\u001b[34m\u001b[1mwandb\u001b[0m: \tepochs: 2\n",
            "\u001b[34m\u001b[1mwandb\u001b[0m: \thidden_size: 2\n",
            "\u001b[34m\u001b[1mwandb\u001b[0m: \tlearning_rate: 1e-05\n",
            "\u001b[34m\u001b[1mwandb\u001b[0m: \tpred_loss_weight: 0.05\n"
          ],
          "name": "stderr"
        },
        {
          "output_type": "display_data",
          "data": {
            "text/html": [
              "\n",
              "                Tracking run with wandb version 0.10.22<br/>\n",
              "                Syncing run <strong style=\"color:#cdcd00\">daily-sweep-1</strong> to <a href=\"https://wandb.ai\" target=\"_blank\">Weights & Biases</a> <a href=\"https://docs.wandb.com/integrations/jupyter.html\" target=\"_blank\">(Documentation)</a>.<br/>\n",
              "                Project page: <a href=\"https://wandb.ai/nadav_bor/SmartAE\" target=\"_blank\">https://wandb.ai/nadav_bor/SmartAE</a><br/>\n",
              "                Sweep page: <a href=\"https://wandb.ai/nadav_bor/SmartAE/sweeps/rpn1tygf\" target=\"_blank\">https://wandb.ai/nadav_bor/SmartAE/sweeps/rpn1tygf</a><br/>\n",
              "Run page: <a href=\"https://wandb.ai/nadav_bor/SmartAE/runs/wqa13t0v\" target=\"_blank\">https://wandb.ai/nadav_bor/SmartAE/runs/wqa13t0v</a><br/>\n",
              "                Run data is saved locally in <code>/content/wandb/run-20210315_213023-wqa13t0v</code><br/><br/>\n",
              "            "
            ],
            "text/plain": [
              "<IPython.core.display.HTML object>"
            ]
          },
          "metadata": {
            "tags": []
          }
        },
        {
          "output_type": "stream",
          "text": [
            "config: {'epochs': 2, 'hidden_size': 2, 'learning_rate': 1e-05, 'pred_loss_weight': 0.05, 'seed': 42}\n"
          ],
          "name": "stdout"
        },
        {
          "output_type": "stream",
          "text": [
            "/usr/local/lib/python3.7/dist-packages/torch/nn/modules/module.py:795: UserWarning:\n",
            "\n",
            "Using a non-full backward hook when the forward contains multiple autograd Nodes is deprecated and will be removed in future versions. This hook will be missing some grad_input. Please use register_full_backward_hook to get the documented behavior.\n",
            "\n"
          ],
          "name": "stderr"
        },
        {
          "output_type": "stream",
          "text": [
            "Epoch:1, Train Loss:0.6013, Train Accuracy:9.8731 Epoch:1, Val Loss:0.5989, Val Accuracy:9.4739\n",
            "Epoch:2, Train Loss:0.5965, Train Accuracy:9.9380 Epoch:2, Val Loss:0.5932, Val Accuracy:10.3639\n"
          ],
          "name": "stdout"
        },
        {
          "output_type": "display_data",
          "data": {
            "text/html": [
              "<br/>Waiting for W&B process to finish, PID 6235<br/>Program ended successfully."
            ],
            "text/plain": [
              "<IPython.core.display.HTML object>"
            ]
          },
          "metadata": {
            "tags": []
          }
        },
        {
          "output_type": "display_data",
          "data": {
            "application/vnd.jupyter.widget-view+json": {
              "model_id": "5875969fb7da48819cf9b8421f4f5e98",
              "version_minor": 0,
              "version_major": 2
            },
            "text/plain": [
              "VBox(children=(Label(value=' 0.01MB of 0.07MB uploaded (0.00MB deduped)\\r'), FloatProgress(value=0.12028823242…"
            ]
          },
          "metadata": {
            "tags": []
          }
        },
        {
          "output_type": "display_data",
          "data": {
            "text/html": [
              "Find user logs for this run at: <code>/content/wandb/run-20210315_213023-wqa13t0v/logs/debug.log</code>"
            ],
            "text/plain": [
              "<IPython.core.display.HTML object>"
            ]
          },
          "metadata": {
            "tags": []
          }
        },
        {
          "output_type": "display_data",
          "data": {
            "text/html": [
              "Find internal logs for this run at: <code>/content/wandb/run-20210315_213023-wqa13t0v/logs/debug-internal.log</code>"
            ],
            "text/plain": [
              "<IPython.core.display.HTML object>"
            ]
          },
          "metadata": {
            "tags": []
          }
        },
        {
          "output_type": "display_data",
          "data": {
            "text/html": [
              "<h3>Run summary:</h3><br/><style>\n",
              "    table.wandb td:nth-child(1) { padding: 0 10px; text-align: right }\n",
              "    </style><table class=\"wandb\">\n",
              "<tr><td>recon_loss</td><td>0.50377</td></tr><tr><td>pred_loss</td><td>2.28519</td></tr><tr><td>pred_acc</td><td>10.9375</td></tr><tr><td>total_loss</td><td>0.59284</td></tr><tr><td>epoch</td><td>1</td></tr><tr><td>_runtime</td><td>30</td></tr><tr><td>_timestamp</td><td>1615843853</td></tr><tr><td>_step</td><td>942</td></tr><tr><td>val_accuracy</td><td>10.36392</td></tr><tr><td>val_recon_loss</td><td>0.50407</td></tr><tr><td>val_prediction_loss</td><td>2.28734</td></tr><tr><td>val_total_loss</td><td>0.59324</td></tr></table>"
            ],
            "text/plain": [
              "<IPython.core.display.HTML object>"
            ]
          },
          "metadata": {
            "tags": []
          }
        },
        {
          "output_type": "display_data",
          "data": {
            "text/html": [
              "<h3>Run history:</h3><br/><style>\n",
              "    table.wandb td:nth-child(1) { padding: 0 10px; text-align: right }\n",
              "    </style><table class=\"wandb\">\n",
              "<tr><td>recon_loss</td><td>█▆█▇▇▇▇▇▇▇▆▆▆▆▆▅▆▅▄▄▆▄▅▃▄▃▄▃▄▅▄▃▁▂▃▂▁▁▂▁</td></tr><tr><td>pred_loss</td><td>▅▅█▅▆▄█▇▃▄▃▇▆▄▅▅▆▅▃▇▄▆▆▃▄▄▅▃▃▇▅▄▃▄▅▂▁▁▃▂</td></tr><tr><td>pred_acc</td><td>▆▆▂▅▄▆▄▃█▇▄▆▄▅▃▄▃▄▅▂▄▅▅█▆▄▅▂▆▁▄▆▆▄▂▆▃▇▃▄</td></tr><tr><td>total_loss</td><td>▇▆█▆▇▅█▇▅▆▅▇▆▅▆▅▆▅▄▆▅▅▅▃▄▃▅▃▄▆▅▃▂▃▄▂▁▁▂▂</td></tr><tr><td>epoch</td><td>▁▁▁▁▁▁▁▁▁▁▁▁▁▁▁▁▁▁▁▁████████████████████</td></tr><tr><td>_runtime</td><td>▁▁▁▁▂▂▂▂▂▂▃▃▃▃▃▄▄▄▄▄▅▅▅▅▅▅▆▆▆▆▆▇▇▇▇▇▇███</td></tr><tr><td>_timestamp</td><td>▁▁▁▁▂▂▂▂▂▂▃▃▃▃▃▄▄▄▄▄▅▅▅▅▅▅▆▆▆▆▆▇▇▇▇▇▇███</td></tr><tr><td>_step</td><td>▁▁▁▁▂▂▂▂▂▃▃▃▃▃▃▄▄▄▄▄▅▅▅▅▅▅▆▆▆▆▆▇▇▇▇▇▇███</td></tr><tr><td>val_accuracy</td><td>▁█</td></tr><tr><td>val_recon_loss</td><td>█▁</td></tr><tr><td>val_prediction_loss</td><td>█▁</td></tr><tr><td>val_total_loss</td><td>█▁</td></tr></table><br/>"
            ],
            "text/plain": [
              "<IPython.core.display.HTML object>"
            ]
          },
          "metadata": {
            "tags": []
          }
        },
        {
          "output_type": "display_data",
          "data": {
            "text/html": [
              "Synced 5 W&B file(s), 4 media file(s), 0 artifact file(s) and 0 other file(s)"
            ],
            "text/plain": [
              "<IPython.core.display.HTML object>"
            ]
          },
          "metadata": {
            "tags": []
          }
        },
        {
          "output_type": "display_data",
          "data": {
            "text/html": [
              "\n",
              "                    <br/>Synced <strong style=\"color:#cdcd00\">daily-sweep-1</strong>: <a href=\"https://wandb.ai/nadav_bor/SmartAE/runs/wqa13t0v\" target=\"_blank\">https://wandb.ai/nadav_bor/SmartAE/runs/wqa13t0v</a><br/>\n",
              "                "
            ],
            "text/plain": [
              "<IPython.core.display.HTML object>"
            ]
          },
          "metadata": {
            "tags": []
          }
        },
        {
          "output_type": "stream",
          "text": [
            "\u001b[34m\u001b[1mwandb\u001b[0m: Agent Starting Run: gbqyxet7 with config:\n",
            "\u001b[34m\u001b[1mwandb\u001b[0m: \tepochs: 2\n",
            "\u001b[34m\u001b[1mwandb\u001b[0m: \thidden_size: 16\n",
            "\u001b[34m\u001b[1mwandb\u001b[0m: \tlearning_rate: 0.001\n",
            "\u001b[34m\u001b[1mwandb\u001b[0m: \tpred_loss_weight: 0.95\n"
          ],
          "name": "stderr"
        },
        {
          "output_type": "display_data",
          "data": {
            "text/html": [
              "\n",
              "                Tracking run with wandb version 0.10.22<br/>\n",
              "                Syncing run <strong style=\"color:#cdcd00\">volcanic-sweep-2</strong> to <a href=\"https://wandb.ai\" target=\"_blank\">Weights & Biases</a> <a href=\"https://docs.wandb.com/integrations/jupyter.html\" target=\"_blank\">(Documentation)</a>.<br/>\n",
              "                Project page: <a href=\"https://wandb.ai/nadav_bor/SmartAE\" target=\"_blank\">https://wandb.ai/nadav_bor/SmartAE</a><br/>\n",
              "                Sweep page: <a href=\"https://wandb.ai/nadav_bor/SmartAE/sweeps/rpn1tygf\" target=\"_blank\">https://wandb.ai/nadav_bor/SmartAE/sweeps/rpn1tygf</a><br/>\n",
              "Run page: <a href=\"https://wandb.ai/nadav_bor/SmartAE/runs/gbqyxet7\" target=\"_blank\">https://wandb.ai/nadav_bor/SmartAE/runs/gbqyxet7</a><br/>\n",
              "                Run data is saved locally in <code>/content/wandb/run-20210315_213058-gbqyxet7</code><br/><br/>\n",
              "            "
            ],
            "text/plain": [
              "<IPython.core.display.HTML object>"
            ]
          },
          "metadata": {
            "tags": []
          }
        },
        {
          "output_type": "stream",
          "text": [
            "config: {'epochs': 2, 'hidden_size': 16, 'learning_rate': 0.001, 'pred_loss_weight': 0.95, 'seed': 42}\n"
          ],
          "name": "stdout"
        },
        {
          "output_type": "stream",
          "text": [
            "/usr/local/lib/python3.7/dist-packages/torch/nn/modules/module.py:795: UserWarning:\n",
            "\n",
            "Using a non-full backward hook when the forward contains multiple autograd Nodes is deprecated and will be removed in future versions. This hook will be missing some grad_input. Please use register_full_backward_hook to get the documented behavior.\n",
            "\n"
          ],
          "name": "stderr"
        },
        {
          "output_type": "stream",
          "text": [
            "Epoch:1, Train Loss:0.4544, Train Accuracy:86.3106 Epoch:1, Val Loss:0.1916, Val Accuracy:93.1566\n",
            "Epoch:2, Train Loss:0.1428, Train Accuracy:95.6690 Epoch:2, Val Loss:0.0933, Val Accuracy:95.8960\n"
          ],
          "name": "stdout"
        },
        {
          "output_type": "display_data",
          "data": {
            "text/html": [
              "<br/>Waiting for W&B process to finish, PID 6269<br/>Program ended successfully."
            ],
            "text/plain": [
              "<IPython.core.display.HTML object>"
            ]
          },
          "metadata": {
            "tags": []
          }
        },
        {
          "output_type": "display_data",
          "data": {
            "application/vnd.jupyter.widget-view+json": {
              "model_id": "149589b6b24e416d9c4531f7a765790d",
              "version_minor": 0,
              "version_major": 2
            },
            "text/plain": [
              "VBox(children=(Label(value=' 0.03MB of 0.07MB uploaded (0.00MB deduped)\\r'), FloatProgress(value=0.39111322808…"
            ]
          },
          "metadata": {
            "tags": []
          }
        },
        {
          "output_type": "display_data",
          "data": {
            "text/html": [
              "Find user logs for this run at: <code>/content/wandb/run-20210315_213058-gbqyxet7/logs/debug.log</code>"
            ],
            "text/plain": [
              "<IPython.core.display.HTML object>"
            ]
          },
          "metadata": {
            "tags": []
          }
        },
        {
          "output_type": "display_data",
          "data": {
            "text/html": [
              "Find internal logs for this run at: <code>/content/wandb/run-20210315_213058-gbqyxet7/logs/debug-internal.log</code>"
            ],
            "text/plain": [
              "<IPython.core.display.HTML object>"
            ]
          },
          "metadata": {
            "tags": []
          }
        },
        {
          "output_type": "display_data",
          "data": {
            "text/html": [
              "<h3>Run summary:</h3><br/><style>\n",
              "    table.wandb td:nth-child(1) { padding: 0 10px; text-align: right }\n",
              "    </style><table class=\"wandb\">\n",
              "<tr><td>recon_loss</td><td>0.06605</td></tr><tr><td>pred_loss</td><td>0.05024</td></tr><tr><td>pred_acc</td><td>73.4375</td></tr><tr><td>total_loss</td><td>0.05103</td></tr><tr><td>epoch</td><td>1</td></tr><tr><td>_runtime</td><td>29</td></tr><tr><td>_timestamp</td><td>1615843887</td></tr><tr><td>_step</td><td>942</td></tr><tr><td>val_accuracy</td><td>95.89597</td></tr><tr><td>val_recon_loss</td><td>0.06842</td></tr><tr><td>val_prediction_loss</td><td>0.09461</td></tr><tr><td>val_total_loss</td><td>0.0933</td></tr></table>"
            ],
            "text/plain": [
              "<IPython.core.display.HTML object>"
            ]
          },
          "metadata": {
            "tags": []
          }
        },
        {
          "output_type": "display_data",
          "data": {
            "text/html": [
              "<h3>Run history:</h3><br/><style>\n",
              "    table.wandb td:nth-child(1) { padding: 0 10px; text-align: right }\n",
              "    </style><table class=\"wandb\">\n",
              "<tr><td>recon_loss</td><td>██▅▂▂▂▁▁▁▁▁▁▁▁▁▁▁▁▁▁▁▁▁▁▁▁▁▁▁▁▁▁▁▁▁▁▁▁▁▁</td></tr><tr><td>pred_loss</td><td>█▇▃▂▃▂▂▂▂▂▂▂▂▁▁▂▂▂▁▂▁▁▂▁▂▁▁▁▁▁▁▁▁▁▁▁▁▁▁▁</td></tr><tr><td>pred_acc</td><td>▁▅▇▇▇▇▇▇▇▇█▇▇███▇██▇████▇███████████████</td></tr><tr><td>total_loss</td><td>█▇▃▂▃▂▂▂▂▂▂▂▂▁▁▂▂▂▁▂▁▁▂▁▂▁▁▁▁▁▁▁▁▁▁▁▁▁▁▁</td></tr><tr><td>epoch</td><td>▁▁▁▁▁▁▁▁▁▁▁▁▁▁▁▁▁▁▁▁████████████████████</td></tr><tr><td>_runtime</td><td>▁▁▁▁▂▂▂▂▃▃▃▃▃▃▃▄▄▄▄▄▅▅▅▅▅▆▆▆▆▆▆▇▇▇▇▇████</td></tr><tr><td>_timestamp</td><td>▁▁▁▁▂▂▂▂▃▃▃▃▃▃▃▄▄▄▄▄▅▅▅▅▅▆▆▆▆▆▆▇▇▇▇▇████</td></tr><tr><td>_step</td><td>▁▁▁▁▂▂▂▂▂▃▃▃▃▃▃▄▄▄▄▄▅▅▅▅▅▅▆▆▆▆▆▇▇▇▇▇▇███</td></tr><tr><td>val_accuracy</td><td>▁█</td></tr><tr><td>val_recon_loss</td><td>█▁</td></tr><tr><td>val_prediction_loss</td><td>█▁</td></tr><tr><td>val_total_loss</td><td>█▁</td></tr></table><br/>"
            ],
            "text/plain": [
              "<IPython.core.display.HTML object>"
            ]
          },
          "metadata": {
            "tags": []
          }
        },
        {
          "output_type": "display_data",
          "data": {
            "text/html": [
              "Synced 5 W&B file(s), 4 media file(s), 0 artifact file(s) and 0 other file(s)"
            ],
            "text/plain": [
              "<IPython.core.display.HTML object>"
            ]
          },
          "metadata": {
            "tags": []
          }
        },
        {
          "output_type": "display_data",
          "data": {
            "text/html": [
              "\n",
              "                    <br/>Synced <strong style=\"color:#cdcd00\">volcanic-sweep-2</strong>: <a href=\"https://wandb.ai/nadav_bor/SmartAE/runs/gbqyxet7\" target=\"_blank\">https://wandb.ai/nadav_bor/SmartAE/runs/gbqyxet7</a><br/>\n",
              "                "
            ],
            "text/plain": [
              "<IPython.core.display.HTML object>"
            ]
          },
          "metadata": {
            "tags": []
          }
        },
        {
          "output_type": "stream",
          "text": [
            "\u001b[34m\u001b[1mwandb\u001b[0m: Agent Starting Run: avck4nnn with config:\n",
            "\u001b[34m\u001b[1mwandb\u001b[0m: \tepochs: 2\n",
            "\u001b[34m\u001b[1mwandb\u001b[0m: \thidden_size: 2\n",
            "\u001b[34m\u001b[1mwandb\u001b[0m: \tlearning_rate: 0.1\n",
            "\u001b[34m\u001b[1mwandb\u001b[0m: \tpred_loss_weight: 0\n"
          ],
          "name": "stderr"
        },
        {
          "output_type": "display_data",
          "data": {
            "text/html": [
              "\n",
              "                Tracking run with wandb version 0.10.22<br/>\n",
              "                Syncing run <strong style=\"color:#cdcd00\">volcanic-sweep-3</strong> to <a href=\"https://wandb.ai\" target=\"_blank\">Weights & Biases</a> <a href=\"https://docs.wandb.com/integrations/jupyter.html\" target=\"_blank\">(Documentation)</a>.<br/>\n",
              "                Project page: <a href=\"https://wandb.ai/nadav_bor/SmartAE\" target=\"_blank\">https://wandb.ai/nadav_bor/SmartAE</a><br/>\n",
              "                Sweep page: <a href=\"https://wandb.ai/nadav_bor/SmartAE/sweeps/rpn1tygf\" target=\"_blank\">https://wandb.ai/nadav_bor/SmartAE/sweeps/rpn1tygf</a><br/>\n",
              "Run page: <a href=\"https://wandb.ai/nadav_bor/SmartAE/runs/avck4nnn\" target=\"_blank\">https://wandb.ai/nadav_bor/SmartAE/runs/avck4nnn</a><br/>\n",
              "                Run data is saved locally in <code>/content/wandb/run-20210315_213133-avck4nnn</code><br/><br/>\n",
              "            "
            ],
            "text/plain": [
              "<IPython.core.display.HTML object>"
            ]
          },
          "metadata": {
            "tags": []
          }
        },
        {
          "output_type": "stream",
          "text": [
            "config: {'epochs': 2, 'hidden_size': 2, 'learning_rate': 0.1, 'pred_loss_weight': 0, 'seed': 42}\n"
          ],
          "name": "stdout"
        },
        {
          "output_type": "stream",
          "text": [
            "/usr/local/lib/python3.7/dist-packages/torch/nn/modules/module.py:795: UserWarning:\n",
            "\n",
            "Using a non-full backward hook when the forward contains multiple autograd Nodes is deprecated and will be removed in future versions. This hook will be missing some grad_input. Please use register_full_backward_hook to get the documented behavior.\n",
            "\n"
          ],
          "name": "stderr"
        },
        {
          "output_type": "stream",
          "text": [
            "Epoch:1, Train Loss:0.1316, Train Accuracy:9.7881 Epoch:1, Val Loss:0.1328, Val Accuracy:9.6321\n",
            "Epoch:2, Train Loss:0.1326, Train Accuracy:9.8081 Epoch:2, Val Loss:0.1328, Val Accuracy:9.9782\n"
          ],
          "name": "stdout"
        },
        {
          "output_type": "display_data",
          "data": {
            "text/html": [
              "<br/>Waiting for W&B process to finish, PID 6303<br/>Program ended successfully."
            ],
            "text/plain": [
              "<IPython.core.display.HTML object>"
            ]
          },
          "metadata": {
            "tags": []
          }
        },
        {
          "output_type": "display_data",
          "data": {
            "application/vnd.jupyter.widget-view+json": {
              "model_id": "b8e6ce82a94049f0b0d1c4ea2377f58a",
              "version_minor": 0,
              "version_major": 2
            },
            "text/plain": [
              "VBox(children=(Label(value=' 0.07MB of 0.07MB uploaded (0.00MB deduped)\\r'), FloatProgress(value=1.0, max=1.0)…"
            ]
          },
          "metadata": {
            "tags": []
          }
        },
        {
          "output_type": "display_data",
          "data": {
            "text/html": [
              "Find user logs for this run at: <code>/content/wandb/run-20210315_213133-avck4nnn/logs/debug.log</code>"
            ],
            "text/plain": [
              "<IPython.core.display.HTML object>"
            ]
          },
          "metadata": {
            "tags": []
          }
        },
        {
          "output_type": "display_data",
          "data": {
            "text/html": [
              "Find internal logs for this run at: <code>/content/wandb/run-20210315_213133-avck4nnn/logs/debug-internal.log</code>"
            ],
            "text/plain": [
              "<IPython.core.display.HTML object>"
            ]
          },
          "metadata": {
            "tags": []
          }
        },
        {
          "output_type": "display_data",
          "data": {
            "text/html": [
              "<h3>Run summary:</h3><br/><style>\n",
              "    table.wandb td:nth-child(1) { padding: 0 10px; text-align: right }\n",
              "    </style><table class=\"wandb\">\n",
              "<tr><td>recon_loss</td><td>0.13098</td></tr><tr><td>pred_loss</td><td>2.30259</td></tr><tr><td>pred_acc</td><td>7.03125</td></tr><tr><td>total_loss</td><td>0.13098</td></tr><tr><td>epoch</td><td>1</td></tr><tr><td>_runtime</td><td>29</td></tr><tr><td>_timestamp</td><td>1615843922</td></tr><tr><td>_step</td><td>942</td></tr><tr><td>val_accuracy</td><td>9.97824</td></tr><tr><td>val_recon_loss</td><td>0.13285</td></tr><tr><td>val_prediction_loss</td><td>2.30258</td></tr><tr><td>val_total_loss</td><td>0.13285</td></tr></table>"
            ],
            "text/plain": [
              "<IPython.core.display.HTML object>"
            ]
          },
          "metadata": {
            "tags": []
          }
        },
        {
          "output_type": "display_data",
          "data": {
            "text/html": [
              "<h3>Run history:</h3><br/><style>\n",
              "    table.wandb td:nth-child(1) { padding: 0 10px; text-align: right }\n",
              "    </style><table class=\"wandb\">\n",
              "<tr><td>recon_loss</td><td>▃▆▃▂▄▃▆▄▃▅▄▄▂▄▄▅▁▄▇▄▂▄▃▅▃▆▅█▄▆▄▇▅▁▂▅▆▇▃▄</td></tr><tr><td>pred_loss</td><td>▇█▂▁▁▁▁▁▁▁▁▁▁▁▁▁▁▁▁▁▁▁▁▁▁▁▁▁▁▁▁▁▁▁▁▁▁▁▁▁</td></tr><tr><td>pred_acc</td><td>▃█▇▅▄▃▃▇▄▃▅▅▅▄▄▅▆▆▃█▇▅▅█▆▆█▄▃▁▇▆▆▃▄█▆▅▅▅</td></tr><tr><td>total_loss</td><td>▃▆▃▂▄▃▆▄▃▅▄▄▂▄▄▅▁▄▇▄▂▄▃▅▃▆▅█▄▆▄▇▅▁▂▅▆▇▃▄</td></tr><tr><td>epoch</td><td>▁▁▁▁▁▁▁▁▁▁▁▁▁▁▁▁▁▁▁▁████████████████████</td></tr><tr><td>_runtime</td><td>▁▁▁▂▂▂▂▂▂▂▃▃▃▃▃▄▄▄▄▄▅▅▅▅▅▅▆▆▆▆▇▇▇▇▇▇████</td></tr><tr><td>_timestamp</td><td>▁▁▁▂▂▂▂▂▂▂▃▃▃▃▃▄▄▄▄▄▅▅▅▅▅▅▆▆▆▆▇▇▇▇▇▇████</td></tr><tr><td>_step</td><td>▁▁▁▁▂▂▂▂▂▃▃▃▃▃▃▄▄▄▄▄▅▅▅▅▅▅▆▆▆▆▆▇▇▇▇▇▇███</td></tr><tr><td>val_accuracy</td><td>▁█</td></tr><tr><td>val_recon_loss</td><td>▁█</td></tr><tr><td>val_prediction_loss</td><td>▁▁</td></tr><tr><td>val_total_loss</td><td>▁█</td></tr></table><br/>"
            ],
            "text/plain": [
              "<IPython.core.display.HTML object>"
            ]
          },
          "metadata": {
            "tags": []
          }
        },
        {
          "output_type": "display_data",
          "data": {
            "text/html": [
              "Synced 5 W&B file(s), 4 media file(s), 0 artifact file(s) and 0 other file(s)"
            ],
            "text/plain": [
              "<IPython.core.display.HTML object>"
            ]
          },
          "metadata": {
            "tags": []
          }
        },
        {
          "output_type": "display_data",
          "data": {
            "text/html": [
              "\n",
              "                    <br/>Synced <strong style=\"color:#cdcd00\">volcanic-sweep-3</strong>: <a href=\"https://wandb.ai/nadav_bor/SmartAE/runs/avck4nnn\" target=\"_blank\">https://wandb.ai/nadav_bor/SmartAE/runs/avck4nnn</a><br/>\n",
              "                "
            ],
            "text/plain": [
              "<IPython.core.display.HTML object>"
            ]
          },
          "metadata": {
            "tags": []
          }
        },
        {
          "output_type": "stream",
          "text": [
            "\u001b[34m\u001b[1mwandb\u001b[0m: Agent Starting Run: 6zcqyvd7 with config:\n",
            "\u001b[34m\u001b[1mwandb\u001b[0m: \tepochs: 2\n",
            "\u001b[34m\u001b[1mwandb\u001b[0m: \thidden_size: 16\n",
            "\u001b[34m\u001b[1mwandb\u001b[0m: \tlearning_rate: 1e-05\n",
            "\u001b[34m\u001b[1mwandb\u001b[0m: \tpred_loss_weight: 0.05\n"
          ],
          "name": "stderr"
        },
        {
          "output_type": "display_data",
          "data": {
            "text/html": [
              "\n",
              "                Tracking run with wandb version 0.10.22<br/>\n",
              "                Syncing run <strong style=\"color:#cdcd00\">amber-sweep-4</strong> to <a href=\"https://wandb.ai\" target=\"_blank\">Weights & Biases</a> <a href=\"https://docs.wandb.com/integrations/jupyter.html\" target=\"_blank\">(Documentation)</a>.<br/>\n",
              "                Project page: <a href=\"https://wandb.ai/nadav_bor/SmartAE\" target=\"_blank\">https://wandb.ai/nadav_bor/SmartAE</a><br/>\n",
              "                Sweep page: <a href=\"https://wandb.ai/nadav_bor/SmartAE/sweeps/rpn1tygf\" target=\"_blank\">https://wandb.ai/nadav_bor/SmartAE/sweeps/rpn1tygf</a><br/>\n",
              "Run page: <a href=\"https://wandb.ai/nadav_bor/SmartAE/runs/6zcqyvd7\" target=\"_blank\">https://wandb.ai/nadav_bor/SmartAE/runs/6zcqyvd7</a><br/>\n",
              "                Run data is saved locally in <code>/content/wandb/run-20210315_213209-6zcqyvd7</code><br/><br/>\n",
              "            "
            ],
            "text/plain": [
              "<IPython.core.display.HTML object>"
            ]
          },
          "metadata": {
            "tags": []
          }
        },
        {
          "output_type": "stream",
          "text": [
            "config: {'epochs': 2, 'hidden_size': 16, 'learning_rate': 1e-05, 'pred_loss_weight': 0.05, 'seed': 42}\n"
          ],
          "name": "stdout"
        },
        {
          "output_type": "stream",
          "text": [
            "/usr/local/lib/python3.7/dist-packages/torch/nn/modules/module.py:795: UserWarning:\n",
            "\n",
            "Using a non-full backward hook when the forward contains multiple autograd Nodes is deprecated and will be removed in future versions. This hook will be missing some grad_input. Please use register_full_backward_hook to get the documented behavior.\n",
            "\n"
          ],
          "name": "stderr"
        },
        {
          "output_type": "stream",
          "text": [
            "Epoch:1, Train Loss:0.5275, Train Accuracy:10.7326 Epoch:1, Val Loss:0.5238, Val Accuracy:21.8157\n",
            "Epoch:2, Train Loss:0.5108, Train Accuracy:34.1868 Epoch:2, Val Loss:0.4857, Val Accuracy:30.8544\n"
          ],
          "name": "stdout"
        },
        {
          "output_type": "display_data",
          "data": {
            "text/html": [
              "<br/>Waiting for W&B process to finish, PID 6337<br/>Program ended successfully."
            ],
            "text/plain": [
              "<IPython.core.display.HTML object>"
            ]
          },
          "metadata": {
            "tags": []
          }
        },
        {
          "output_type": "display_data",
          "data": {
            "application/vnd.jupyter.widget-view+json": {
              "model_id": "287caae0cb0b4d73b8522099cf83e25d",
              "version_minor": 0,
              "version_major": 2
            },
            "text/plain": [
              "VBox(children=(Label(value=' 0.07MB of 0.07MB uploaded (0.00MB deduped)\\r'), FloatProgress(value=1.0, max=1.0)…"
            ]
          },
          "metadata": {
            "tags": []
          }
        },
        {
          "output_type": "display_data",
          "data": {
            "text/html": [
              "Find user logs for this run at: <code>/content/wandb/run-20210315_213209-6zcqyvd7/logs/debug.log</code>"
            ],
            "text/plain": [
              "<IPython.core.display.HTML object>"
            ]
          },
          "metadata": {
            "tags": []
          }
        },
        {
          "output_type": "display_data",
          "data": {
            "text/html": [
              "Find internal logs for this run at: <code>/content/wandb/run-20210315_213209-6zcqyvd7/logs/debug-internal.log</code>"
            ],
            "text/plain": [
              "<IPython.core.display.HTML object>"
            ]
          },
          "metadata": {
            "tags": []
          }
        },
        {
          "output_type": "display_data",
          "data": {
            "text/html": [
              "<h3>Run summary:</h3><br/><style>\n",
              "    table.wandb td:nth-child(1) { padding: 0 10px; text-align: right }\n",
              "    </style><table class=\"wandb\">\n",
              "<tr><td>recon_loss</td><td>0.39414</td></tr><tr><td>pred_loss</td><td>2.22213</td></tr><tr><td>pred_acc</td><td>29.6875</td></tr><tr><td>total_loss</td><td>0.48554</td></tr><tr><td>epoch</td><td>1</td></tr><tr><td>_runtime</td><td>31</td></tr><tr><td>_timestamp</td><td>1615843960</td></tr><tr><td>_step</td><td>942</td></tr><tr><td>val_accuracy</td><td>30.85443</td></tr><tr><td>val_recon_loss</td><td>0.39387</td></tr><tr><td>val_prediction_loss</td><td>2.23027</td></tr><tr><td>val_total_loss</td><td>0.48569</td></tr></table>"
            ],
            "text/plain": [
              "<IPython.core.display.HTML object>"
            ]
          },
          "metadata": {
            "tags": []
          }
        },
        {
          "output_type": "display_data",
          "data": {
            "text/html": [
              "<h3>Run history:</h3><br/><style>\n",
              "    table.wandb td:nth-child(1) { padding: 0 10px; text-align: right }\n",
              "    </style><table class=\"wandb\">\n",
              "<tr><td>recon_loss</td><td>███████████▇▇▇▇▇▇▇▇▇▇▇▇▇▇▇▆▆▆▆▆▅▅▅▄▄▃▃▂▁</td></tr><tr><td>pred_loss</td><td>▇██▇▇▇▇▆▆▆▆▆▆▅▆▅▆▅▆▅▄▄▄▄▄▅▃▃▃▄▃▃▂▄▃▁▂▃▄▄</td></tr><tr><td>pred_acc</td><td>▂▁▁▂▂▂▂▂▂▂▁▂▁▂▁▂▁▂▂▄▅▆█▇█▇▇▇▇▅▆▆▆▅▇▆▅▅▆▆</td></tr><tr><td>total_loss</td><td>████▇██▇▇▇▇▇▇▇▇▇▇▇▇▇▇▇▆▆▆▆▆▆▅▅▅▅▄▄▄▃▃▂▂▁</td></tr><tr><td>epoch</td><td>▁▁▁▁▁▁▁▁▁▁▁▁▁▁▁▁▁▁▁▁████████████████████</td></tr><tr><td>_runtime</td><td>▁▁▁▁▂▂▂▂▂▂▂▃▃▃▃▄▄▄▄▄▅▅▅▅▅▅▆▆▆▆▇▇▇▇▇▇▇███</td></tr><tr><td>_timestamp</td><td>▁▁▁▁▂▂▂▂▂▂▂▃▃▃▃▄▄▄▄▄▅▅▅▅▅▅▆▆▆▆▇▇▇▇▇▇▇███</td></tr><tr><td>_step</td><td>▁▁▁▁▂▂▂▂▂▃▃▃▃▃▃▄▄▄▄▄▅▅▅▅▅▅▆▆▆▆▆▇▇▇▇▇▇███</td></tr><tr><td>val_accuracy</td><td>▁█</td></tr><tr><td>val_recon_loss</td><td>█▁</td></tr><tr><td>val_prediction_loss</td><td>█▁</td></tr><tr><td>val_total_loss</td><td>█▁</td></tr></table><br/>"
            ],
            "text/plain": [
              "<IPython.core.display.HTML object>"
            ]
          },
          "metadata": {
            "tags": []
          }
        },
        {
          "output_type": "display_data",
          "data": {
            "text/html": [
              "Synced 5 W&B file(s), 4 media file(s), 0 artifact file(s) and 0 other file(s)"
            ],
            "text/plain": [
              "<IPython.core.display.HTML object>"
            ]
          },
          "metadata": {
            "tags": []
          }
        },
        {
          "output_type": "display_data",
          "data": {
            "text/html": [
              "\n",
              "                    <br/>Synced <strong style=\"color:#cdcd00\">amber-sweep-4</strong>: <a href=\"https://wandb.ai/nadav_bor/SmartAE/runs/6zcqyvd7\" target=\"_blank\">https://wandb.ai/nadav_bor/SmartAE/runs/6zcqyvd7</a><br/>\n",
              "                "
            ],
            "text/plain": [
              "<IPython.core.display.HTML object>"
            ]
          },
          "metadata": {
            "tags": []
          }
        },
        {
          "output_type": "stream",
          "text": [
            "\u001b[34m\u001b[1mwandb\u001b[0m: Agent Starting Run: 9zpih2mj with config:\n",
            "\u001b[34m\u001b[1mwandb\u001b[0m: \tepochs: 2\n",
            "\u001b[34m\u001b[1mwandb\u001b[0m: \thidden_size: 16\n",
            "\u001b[34m\u001b[1mwandb\u001b[0m: \tlearning_rate: 0.1\n",
            "\u001b[34m\u001b[1mwandb\u001b[0m: \tpred_loss_weight: 0.8\n"
          ],
          "name": "stderr"
        },
        {
          "output_type": "display_data",
          "data": {
            "text/html": [
              "\n",
              "                Tracking run with wandb version 0.10.22<br/>\n",
              "                Syncing run <strong style=\"color:#cdcd00\">upbeat-sweep-5</strong> to <a href=\"https://wandb.ai\" target=\"_blank\">Weights & Biases</a> <a href=\"https://docs.wandb.com/integrations/jupyter.html\" target=\"_blank\">(Documentation)</a>.<br/>\n",
              "                Project page: <a href=\"https://wandb.ai/nadav_bor/SmartAE\" target=\"_blank\">https://wandb.ai/nadav_bor/SmartAE</a><br/>\n",
              "                Sweep page: <a href=\"https://wandb.ai/nadav_bor/SmartAE/sweeps/rpn1tygf\" target=\"_blank\">https://wandb.ai/nadav_bor/SmartAE/sweeps/rpn1tygf</a><br/>\n",
              "Run page: <a href=\"https://wandb.ai/nadav_bor/SmartAE/runs/9zpih2mj\" target=\"_blank\">https://wandb.ai/nadav_bor/SmartAE/runs/9zpih2mj</a><br/>\n",
              "                Run data is saved locally in <code>/content/wandb/run-20210315_213246-9zpih2mj</code><br/><br/>\n",
              "            "
            ],
            "text/plain": [
              "<IPython.core.display.HTML object>"
            ]
          },
          "metadata": {
            "tags": []
          }
        },
        {
          "output_type": "stream",
          "text": [
            "config: {'epochs': 2, 'hidden_size': 16, 'learning_rate': 0.1, 'pred_loss_weight': 0.8, 'seed': 42}\n"
          ],
          "name": "stdout"
        },
        {
          "output_type": "stream",
          "text": [
            "/usr/local/lib/python3.7/dist-packages/torch/nn/modules/module.py:795: UserWarning:\n",
            "\n",
            "Using a non-full backward hook when the forward contains multiple autograd Nodes is deprecated and will be removed in future versions. This hook will be missing some grad_input. Please use register_full_backward_hook to get the documented behavior.\n",
            "\n"
          ],
          "name": "stderr"
        },
        {
          "output_type": "stream",
          "text": [
            "Epoch:1, Train Loss:2.0785, Train Accuracy:10.3845 Epoch:1, Val Loss:2.0851, Val Accuracy:11.2243\n",
            "Epoch:2, Train Loss:1.8827, Train Accuracy:10.1829 Epoch:2, Val Loss:1.8757, Val Accuracy:10.2057\n"
          ],
          "name": "stdout"
        },
        {
          "output_type": "display_data",
          "data": {
            "text/html": [
              "<br/>Waiting for W&B process to finish, PID 6371<br/>Program ended successfully."
            ],
            "text/plain": [
              "<IPython.core.display.HTML object>"
            ]
          },
          "metadata": {
            "tags": []
          }
        },
        {
          "output_type": "display_data",
          "data": {
            "application/vnd.jupyter.widget-view+json": {
              "model_id": "5a8a595c3b1c4a6fa0270e1daf6700f7",
              "version_minor": 0,
              "version_major": 2
            },
            "text/plain": [
              "VBox(children=(Label(value=' 0.07MB of 0.07MB uploaded (0.00MB deduped)\\r'), FloatProgress(value=1.0, max=1.0)…"
            ]
          },
          "metadata": {
            "tags": []
          }
        },
        {
          "output_type": "display_data",
          "data": {
            "text/html": [
              "Find user logs for this run at: <code>/content/wandb/run-20210315_213246-9zpih2mj/logs/debug.log</code>"
            ],
            "text/plain": [
              "<IPython.core.display.HTML object>"
            ]
          },
          "metadata": {
            "tags": []
          }
        },
        {
          "output_type": "display_data",
          "data": {
            "text/html": [
              "Find internal logs for this run at: <code>/content/wandb/run-20210315_213246-9zpih2mj/logs/debug-internal.log</code>"
            ],
            "text/plain": [
              "<IPython.core.display.HTML object>"
            ]
          },
          "metadata": {
            "tags": []
          }
        },
        {
          "output_type": "display_data",
          "data": {
            "text/html": [
              "<h3>Run summary:</h3><br/><style>\n",
              "    table.wandb td:nth-child(1) { padding: 0 10px; text-align: right }\n",
              "    </style><table class=\"wandb\">\n",
              "<tr><td>recon_loss</td><td>0.13187</td></tr><tr><td>pred_loss</td><td>2.33133</td></tr><tr><td>pred_acc</td><td>8.59375</td></tr><tr><td>total_loss</td><td>1.89144</td></tr><tr><td>epoch</td><td>1</td></tr><tr><td>_runtime</td><td>31</td></tr><tr><td>_timestamp</td><td>1615843997</td></tr><tr><td>_step</td><td>942</td></tr><tr><td>val_accuracy</td><td>10.2057</td></tr><tr><td>val_recon_loss</td><td>0.13291</td></tr><tr><td>val_prediction_loss</td><td>2.3114</td></tr><tr><td>val_total_loss</td><td>1.8757</td></tr></table>"
            ],
            "text/plain": [
              "<IPython.core.display.HTML object>"
            ]
          },
          "metadata": {
            "tags": []
          }
        },
        {
          "output_type": "display_data",
          "data": {
            "text/html": [
              "<h3>Run history:</h3><br/><style>\n",
              "    table.wandb td:nth-child(1) { padding: 0 10px; text-align: right }\n",
              "    </style><table class=\"wandb\">\n",
              "<tr><td>recon_loss</td><td>▅▃▄▂█▆▁▄▅▆▂▃▄▃▅▃▂▃▂▃▃▃▆▄▁▅▄▆▃▁▅▂▆▂▅▆▃▃▆▇</td></tr><tr><td>pred_loss</td><td>▅▃▂▁▅▂▃▃▂▄▄▆▂▂▃▃▃▂▄▃█▂▃▂▂▃▂▂▂▃▃▂▃▂▄▃▂▁▂▃</td></tr><tr><td>pred_acc</td><td>▄▃▇█▃▆▁▅▅▅▆▃▇▃▃▃▅▅▃▃▆▆▇▅▅▅▅▆▅▅▄▅▆▇▃▂▇▇▅▄</td></tr><tr><td>total_loss</td><td>▆▃▃▁▅▂▃▃▂▄▄▆▂▂▄▃▃▂▄▃█▂▃▂▂▃▂▂▂▃▃▂▃▂▄▃▂▁▂▃</td></tr><tr><td>epoch</td><td>▁▁▁▁▁▁▁▁▁▁▁▁▁▁▁▁▁▁▁▁████████████████████</td></tr><tr><td>_runtime</td><td>▁▁▁▂▂▂▂▂▂▂▃▃▃▃▃▄▄▄▄▄▅▅▅▅▅▅▆▆▆▆▇▇▇▇▇▇▇███</td></tr><tr><td>_timestamp</td><td>▁▁▁▂▂▂▂▂▂▂▃▃▃▃▃▄▄▄▄▄▅▅▅▅▅▅▆▆▆▆▇▇▇▇▇▇▇███</td></tr><tr><td>_step</td><td>▁▁▁▁▂▂▂▂▂▃▃▃▃▃▃▄▄▄▄▄▅▅▅▅▅▅▆▆▆▆▆▇▇▇▇▇▇███</td></tr><tr><td>val_accuracy</td><td>█▁</td></tr><tr><td>val_recon_loss</td><td>█▁</td></tr><tr><td>val_prediction_loss</td><td>█▁</td></tr><tr><td>val_total_loss</td><td>█▁</td></tr></table><br/>"
            ],
            "text/plain": [
              "<IPython.core.display.HTML object>"
            ]
          },
          "metadata": {
            "tags": []
          }
        },
        {
          "output_type": "display_data",
          "data": {
            "text/html": [
              "Synced 5 W&B file(s), 4 media file(s), 0 artifact file(s) and 0 other file(s)"
            ],
            "text/plain": [
              "<IPython.core.display.HTML object>"
            ]
          },
          "metadata": {
            "tags": []
          }
        },
        {
          "output_type": "display_data",
          "data": {
            "text/html": [
              "\n",
              "                    <br/>Synced <strong style=\"color:#cdcd00\">upbeat-sweep-5</strong>: <a href=\"https://wandb.ai/nadav_bor/SmartAE/runs/9zpih2mj\" target=\"_blank\">https://wandb.ai/nadav_bor/SmartAE/runs/9zpih2mj</a><br/>\n",
              "                "
            ],
            "text/plain": [
              "<IPython.core.display.HTML object>"
            ]
          },
          "metadata": {
            "tags": []
          }
        }
      ]
    },
    {
      "cell_type": "markdown",
      "metadata": {
        "id": "hmdAquilTYmQ"
      },
      "source": [
        ""
      ]
    },
    {
      "cell_type": "markdown",
      "metadata": {
        "id": "Kc35htNRX6cN"
      },
      "source": [
        "# Artifacts\n",
        "\n",
        "\"Git\" for files. Why is it better than just saving files?\n",
        "\n",
        "In order to log these datasets as Artifacts, we just need to\n",
        "\n",
        "* create a Run with wandb.init, (L3)\n",
        "* create an Artifact for the dataset (e.g. L7), and\n",
        "* save and log the associated files (L26, L31).\n"
      ]
    },
    {
      "cell_type": "code",
      "metadata": {
        "id": "cg10MAtgYGMy"
      },
      "source": [
        "def remove_digit(digit: int, dataset: list):\n",
        "  \"\"\"\n",
        "  Removes a digit from MNIST dataset\n",
        "  \"\"\"\n",
        "  dataset = list(filter(lambda x: x[1] != digit, dataset))\n",
        "  return dataset"
      ],
      "execution_count": null,
      "outputs": []
    },
    {
      "cell_type": "code",
      "metadata": {
        "colab": {
          "base_uri": "https://localhost:8080/",
          "height": 289,
          "referenced_widgets": [
            "f6c31311deee47478a9980c90b59fd8a",
            "33f3d51a19804000a81043f020021618",
            "f990375b001149c1ba261263260bbffa",
            "e6a547ea511b4cd7a99e6bfaff3cf9d9",
            "a8115b6b11cb4798868ea9332783a846",
            "31c67b481d924d2a9f5ed4fe30856c45",
            "fa5720bba8004fe184e78fa992b1c4a3",
            "b57b4ab0e75c4613871876605c896d5c"
          ]
        },
        "id": "zIkuWBQXaLOM",
        "outputId": "31a1261a-1768-4592-ae33-79c7859d5e65"
      },
      "source": [
        "with wandb.init(project=\"SmartAE\", job_type=\"dataset-creation\", name=\"dataset-creation\") as run:  # this will automatically terminate the run\n",
        "  \n",
        "  train_dataset = datasets.MNIST('data', train=True, download=True, transform=random_flips)\n",
        "  val_dataset = datasets.MNIST('data', train=False, download=True, transform=random_flips)\n",
        "\n",
        "  # Create our Artifact\n",
        "  raw_data = wandb.Artifact(\n",
        "      \"mnist-dataset\",  # the name of the artifact. Mandatory\n",
        "      type=\"dataset\",  # similar to job_type. Optional but recommended\n",
        "      description=\"MNIST dataset\",\n",
        "      metadata={  # As descriptive as possible\n",
        "          \"source\": \"torchvision\",\n",
        "            sizes: [len(train_dataset), len(val_dataset)]\n",
        "            }\n",
        "      )\n",
        "  \n",
        "  # Store a new file in the artifact, and write something into its contents.\n",
        "  with raw_data.new_file(\"train.p\", mode=\"wb\") as file:\n",
        "    pickle.dump(train_dataset, file)\n",
        "\n",
        "  with raw_data.new_file(\"val.p\", mode=\"wb\") as file:\n",
        "    pickle.dump(val_dataset, file)\n",
        "\n",
        "  # Save the artifact to W&B.\n",
        "  run.log_artifact(raw_data)\n"
      ],
      "execution_count": null,
      "outputs": [
        {
          "output_type": "stream",
          "text": [
            "\u001b[34m\u001b[1mwandb\u001b[0m: \u001b[33mWARNING\u001b[0m Ignored wandb.init() arg project when running a sweep\n"
          ],
          "name": "stderr"
        },
        {
          "output_type": "display_data",
          "data": {
            "text/html": [
              "\n",
              "                Tracking run with wandb version 0.10.22<br/>\n",
              "                Syncing run <strong style=\"color:#cdcd00\">dataset-creation</strong> to <a href=\"https://wandb.ai\" target=\"_blank\">Weights & Biases</a> <a href=\"https://docs.wandb.com/integrations/jupyter.html\" target=\"_blank\">(Documentation)</a>.<br/>\n",
              "                Project page: <a href=\"https://wandb.ai/nadav_bor/SmartAE\" target=\"_blank\">https://wandb.ai/nadav_bor/SmartAE</a><br/>\n",
              "                Sweep page: <a href=\"https://wandb.ai/nadav_bor/SmartAE/sweeps/rpn1tygf\" target=\"_blank\">https://wandb.ai/nadav_bor/SmartAE/sweeps/rpn1tygf</a><br/>\n",
              "Run page: <a href=\"https://wandb.ai/nadav_bor/SmartAE/runs/9zpih2mj\" target=\"_blank\">https://wandb.ai/nadav_bor/SmartAE/runs/9zpih2mj</a><br/>\n",
              "                Run data is saved locally in <code>/content/wandb/run-20210315_213321-9zpih2mj</code><br/><br/>\n",
              "            "
            ],
            "text/plain": [
              "<IPython.core.display.HTML object>"
            ]
          },
          "metadata": {
            "tags": []
          }
        },
        {
          "output_type": "display_data",
          "data": {
            "text/html": [
              "<br/>Waiting for W&B process to finish, PID 6403<br/>Program ended successfully."
            ],
            "text/plain": [
              "<IPython.core.display.HTML object>"
            ]
          },
          "metadata": {
            "tags": []
          }
        },
        {
          "output_type": "display_data",
          "data": {
            "application/vnd.jupyter.widget-view+json": {
              "model_id": "f6c31311deee47478a9980c90b59fd8a",
              "version_minor": 0,
              "version_major": 2
            },
            "text/plain": [
              "VBox(children=(Label(value=' 52.87MB of 52.87MB uploaded (0.00MB deduped)\\r'), FloatProgress(value=1.0, max=1.…"
            ]
          },
          "metadata": {
            "tags": []
          }
        },
        {
          "output_type": "display_data",
          "data": {
            "text/html": [
              "Find user logs for this run at: <code>/content/wandb/run-20210315_213321-9zpih2mj/logs/debug.log</code>"
            ],
            "text/plain": [
              "<IPython.core.display.HTML object>"
            ]
          },
          "metadata": {
            "tags": []
          }
        },
        {
          "output_type": "display_data",
          "data": {
            "text/html": [
              "Find internal logs for this run at: <code>/content/wandb/run-20210315_213321-9zpih2mj/logs/debug-internal.log</code>"
            ],
            "text/plain": [
              "<IPython.core.display.HTML object>"
            ]
          },
          "metadata": {
            "tags": []
          }
        },
        {
          "output_type": "display_data",
          "data": {
            "text/html": [
              "Synced 4 W&B file(s), 0 media file(s), 2 artifact file(s) and 0 other file(s)"
            ],
            "text/plain": [
              "<IPython.core.display.HTML object>"
            ]
          },
          "metadata": {
            "tags": []
          }
        },
        {
          "output_type": "display_data",
          "data": {
            "text/html": [
              "\n",
              "                    <br/>Synced <strong style=\"color:#cdcd00\">dataset-creation</strong>: <a href=\"https://wandb.ai/nadav_bor/SmartAE/runs/9zpih2mj\" target=\"_blank\">https://wandb.ai/nadav_bor/SmartAE/runs/9zpih2mj</a><br/>\n",
              "                "
            ],
            "text/plain": [
              "<IPython.core.display.HTML object>"
            ]
          },
          "metadata": {
            "tags": []
          }
        }
      ]
    },
    {
      "cell_type": "code",
      "metadata": {
        "colab": {
          "base_uri": "https://localhost:8080/",
          "height": 306,
          "referenced_widgets": [
            "c75272f8deb64b8aa733f8444da0afeb",
            "9aafa303cf2f4f57802b06439de372ea",
            "09d0e5fdb5d94505886da7c63448c0c4",
            "7f0207f762a74f9da018a98a2ecd2347",
            "76e2db736e244a4fb98d8f8a04163d53",
            "16af0f6f272c4290846486305c43941d",
            "09d06dc3848b47dcab893edcabf88604",
            "d6358b246c2747119ff76dd1bdb71257"
          ]
        },
        "id": "jczyIojWg95H",
        "outputId": "785ed1ac-4bf5-4e82-f156-6e6ca8177bb3"
      },
      "source": [
        "def read_artifact(data_dir: str, split: str):\n",
        "  filename = f\"{split}.p\"\n",
        "  data = pickle.load(open(os.path.join(data_dir, filename), \"rb\"))\n",
        "\n",
        "  return data\n",
        "\n",
        "\n",
        "with wandb.init(project=\"SmartAE\", job_type=\"dataset-manipulation\", name=\"dataset-manipulation\") as run:\n",
        "  removed_digits = {\"train\":4, \"val\": None}\n",
        "\n",
        "  # declare which artifact we'll be using\n",
        "  raw_data_artifact = run.use_artifact('mnist-dataset:latest')\n",
        "\n",
        "  # if need be, download the artifact. The return value is the path to the downloaded file\n",
        "  raw_dataset = raw_data_artifact.download() \n",
        "\n",
        "  processed_data = wandb.Artifact(\n",
        "            \"mnist-processed\",\n",
        "            type=\"dataset\",\n",
        "            description=\"processed MNIST dataset\",\n",
        "            metadata={\"removed_digit\": removed_digit})\n",
        "  \n",
        "  for split in [\"train\", \"val\"]:\n",
        "    raw_split = read_artifact(raw_dataset, split)\n",
        "    digit = removed_digit[split]\n",
        "    if digit is not None:\n",
        "      processed_dataset = remove_digit(dataset=raw_split, digit=removed_digit)\n",
        "\n",
        "    with processed_data.new_file(split + \".p\", mode=\"wb\") as file:\n",
        "      pickle.dump(val_dataset, file)\n",
        "\n",
        "  run.log_artifact(processed_data)"
      ],
      "execution_count": null,
      "outputs": [
        {
          "output_type": "stream",
          "text": [
            "\u001b[34m\u001b[1mwandb\u001b[0m: \u001b[33mWARNING\u001b[0m Ignored wandb.init() arg project when running a sweep\n"
          ],
          "name": "stderr"
        },
        {
          "output_type": "display_data",
          "data": {
            "text/html": [
              "\n",
              "                Tracking run with wandb version 0.10.22<br/>\n",
              "                Syncing run <strong style=\"color:#cdcd00\">dataset-manipulation</strong> to <a href=\"https://wandb.ai\" target=\"_blank\">Weights & Biases</a> <a href=\"https://docs.wandb.com/integrations/jupyter.html\" target=\"_blank\">(Documentation)</a>.<br/>\n",
              "                Project page: <a href=\"https://wandb.ai/nadav_bor/SmartAE\" target=\"_blank\">https://wandb.ai/nadav_bor/SmartAE</a><br/>\n",
              "                Sweep page: <a href=\"https://wandb.ai/nadav_bor/SmartAE/sweeps/rpn1tygf\" target=\"_blank\">https://wandb.ai/nadav_bor/SmartAE/sweeps/rpn1tygf</a><br/>\n",
              "Run page: <a href=\"https://wandb.ai/nadav_bor/SmartAE/runs/9zpih2mj\" target=\"_blank\">https://wandb.ai/nadav_bor/SmartAE/runs/9zpih2mj</a><br/>\n",
              "                Run data is saved locally in <code>/content/wandb/run-20210315_213331-9zpih2mj</code><br/><br/>\n",
              "            "
            ],
            "text/plain": [
              "<IPython.core.display.HTML object>"
            ]
          },
          "metadata": {
            "tags": []
          }
        },
        {
          "output_type": "stream",
          "text": [
            "\u001b[34m\u001b[1mwandb\u001b[0m: Downloading large artifact mnist-dataset:latest, 52.87MB. 2 files... "
          ],
          "name": "stderr"
        },
        {
          "output_type": "display_data",
          "data": {
            "text/html": [
              "<br/>Waiting for W&B process to finish, PID 6433<br/>Program ended successfully."
            ],
            "text/plain": [
              "<IPython.core.display.HTML object>"
            ]
          },
          "metadata": {
            "tags": []
          }
        },
        {
          "output_type": "display_data",
          "data": {
            "application/vnd.jupyter.widget-view+json": {
              "model_id": "c75272f8deb64b8aa733f8444da0afeb",
              "version_minor": 0,
              "version_major": 2
            },
            "text/plain": [
              "VBox(children=(Label(value=' 7.55MB of 7.55MB uploaded (0.00MB deduped)\\r'), FloatProgress(value=1.0, max=1.0)…"
            ]
          },
          "metadata": {
            "tags": []
          }
        },
        {
          "output_type": "display_data",
          "data": {
            "text/html": [
              "Find user logs for this run at: <code>/content/wandb/run-20210315_213331-9zpih2mj/logs/debug.log</code>"
            ],
            "text/plain": [
              "<IPython.core.display.HTML object>"
            ]
          },
          "metadata": {
            "tags": []
          }
        },
        {
          "output_type": "display_data",
          "data": {
            "text/html": [
              "Find internal logs for this run at: <code>/content/wandb/run-20210315_213331-9zpih2mj/logs/debug-internal.log</code>"
            ],
            "text/plain": [
              "<IPython.core.display.HTML object>"
            ]
          },
          "metadata": {
            "tags": []
          }
        },
        {
          "output_type": "display_data",
          "data": {
            "text/html": [
              "Synced 5 W&B file(s), 0 media file(s), 1 artifact file(s) and 0 other file(s)"
            ],
            "text/plain": [
              "<IPython.core.display.HTML object>"
            ]
          },
          "metadata": {
            "tags": []
          }
        },
        {
          "output_type": "display_data",
          "data": {
            "text/html": [
              "\n",
              "                    <br/>Synced <strong style=\"color:#cdcd00\">dataset-manipulation</strong>: <a href=\"https://wandb.ai/nadav_bor/SmartAE/runs/9zpih2mj\" target=\"_blank\">https://wandb.ai/nadav_bor/SmartAE/runs/9zpih2mj</a><br/>\n",
              "                "
            ],
            "text/plain": [
              "<IPython.core.display.HTML object>"
            ]
          },
          "metadata": {
            "tags": []
          }
        }
      ]
    },
    {
      "cell_type": "code",
      "metadata": {
        "colab": {
          "base_uri": "https://localhost:8080/",
          "height": 289,
          "referenced_widgets": [
            "d0ea9dc62f4f41e2b6c809a7cebf081e",
            "4298347b8616426aa580727516835c49",
            "04f21dc23fb54971a3958e1eb54c5bcc",
            "6a9a973e9b9e4be6812572441f20876b",
            "9265ffe8a70f468f9efb66bcbc50deac",
            "b2b6bf8a7b3d4ccab2cf77292051045d",
            "323fc120080a45c18bfdc527f963dcf4",
            "ee6a6ef2939a45d2b3a463ab9c03aec3"
          ]
        },
        "id": "RLLWAR3ko2q_",
        "outputId": "47ecb844-dcd2-4bae-f29d-09218c015c43"
      },
      "source": [
        "config_dict = {\n",
        "    \"learning_rate\": 1e-3,\n",
        "    \"batch_size\": 128,\n",
        "    \"epochs\": 5,\n",
        "    \"hidden_size\": 32,\n",
        "    \"pred_loss_weight\": 0.5,\n",
        "    \"seed\": 42\n",
        "}\n",
        "\n",
        "with wandb.init(project=\"SmartAE\", job_type=\"initialize-model\", name=\"initialize-model\", config=config_dict) as run:\n",
        "  config = wandb.config\n",
        "  model = SmartAutoEncoder(config.hidden_size).to(device)\n",
        "\n",
        "  # It make sense to also save the model as an artifact\n",
        "  model_artifact = wandb.Artifact(\n",
        "      \"SmartAutoEncoder\", type=\"model\",\n",
        "      description=\"A smart autoencoder\",\n",
        "      metadata=dict(config))\n",
        "\n",
        "  # another way to add a file to an Artifact\n",
        "  save_path = \"model.pt\"\n",
        "  torch.save(model, save_path)  # notice that this time we saved the entire model and not just state dict\n",
        "  model_artifact.add_file(save_path)\n",
        "  wandb.save(save_path)\n",
        "\n",
        "  run.log_artifact(model_artifact)"
      ],
      "execution_count": null,
      "outputs": [
        {
          "output_type": "stream",
          "text": [
            "\u001b[34m\u001b[1mwandb\u001b[0m: \u001b[33mWARNING\u001b[0m Ignored wandb.init() arg project when running a sweep\n"
          ],
          "name": "stderr"
        },
        {
          "output_type": "display_data",
          "data": {
            "text/html": [
              "\n",
              "                Tracking run with wandb version 0.10.22<br/>\n",
              "                Syncing run <strong style=\"color:#cdcd00\">initialize-model</strong> to <a href=\"https://wandb.ai\" target=\"_blank\">Weights & Biases</a> <a href=\"https://docs.wandb.com/integrations/jupyter.html\" target=\"_blank\">(Documentation)</a>.<br/>\n",
              "                Project page: <a href=\"https://wandb.ai/nadav_bor/SmartAE\" target=\"_blank\">https://wandb.ai/nadav_bor/SmartAE</a><br/>\n",
              "                Sweep page: <a href=\"https://wandb.ai/nadav_bor/SmartAE/sweeps/rpn1tygf\" target=\"_blank\">https://wandb.ai/nadav_bor/SmartAE/sweeps/rpn1tygf</a><br/>\n",
              "Run page: <a href=\"https://wandb.ai/nadav_bor/SmartAE/runs/9zpih2mj\" target=\"_blank\">https://wandb.ai/nadav_bor/SmartAE/runs/9zpih2mj</a><br/>\n",
              "                Run data is saved locally in <code>/content/wandb/run-20210315_213343-9zpih2mj</code><br/><br/>\n",
              "            "
            ],
            "text/plain": [
              "<IPython.core.display.HTML object>"
            ]
          },
          "metadata": {
            "tags": []
          }
        },
        {
          "output_type": "display_data",
          "data": {
            "text/html": [
              "<br/>Waiting for W&B process to finish, PID 6499<br/>Program ended successfully."
            ],
            "text/plain": [
              "<IPython.core.display.HTML object>"
            ]
          },
          "metadata": {
            "tags": []
          }
        },
        {
          "output_type": "display_data",
          "data": {
            "application/vnd.jupyter.widget-view+json": {
              "model_id": "d0ea9dc62f4f41e2b6c809a7cebf081e",
              "version_minor": 0,
              "version_major": 2
            },
            "text/plain": [
              "VBox(children=(Label(value=' 0.47MB of 0.47MB uploaded (0.00MB deduped)\\r'), FloatProgress(value=1.0, max=1.0)…"
            ]
          },
          "metadata": {
            "tags": []
          }
        },
        {
          "output_type": "display_data",
          "data": {
            "text/html": [
              "Find user logs for this run at: <code>/content/wandb/run-20210315_213343-9zpih2mj/logs/debug.log</code>"
            ],
            "text/plain": [
              "<IPython.core.display.HTML object>"
            ]
          },
          "metadata": {
            "tags": []
          }
        },
        {
          "output_type": "display_data",
          "data": {
            "text/html": [
              "Find internal logs for this run at: <code>/content/wandb/run-20210315_213343-9zpih2mj/logs/debug-internal.log</code>"
            ],
            "text/plain": [
              "<IPython.core.display.HTML object>"
            ]
          },
          "metadata": {
            "tags": []
          }
        },
        {
          "output_type": "display_data",
          "data": {
            "text/html": [
              "Synced 4 W&B file(s), 0 media file(s), 1 artifact file(s) and 1 other file(s)"
            ],
            "text/plain": [
              "<IPython.core.display.HTML object>"
            ]
          },
          "metadata": {
            "tags": []
          }
        },
        {
          "output_type": "display_data",
          "data": {
            "text/html": [
              "\n",
              "                    <br/>Synced <strong style=\"color:#cdcd00\">initialize-model</strong>: <a href=\"https://wandb.ai/nadav_bor/SmartAE/runs/9zpih2mj\" target=\"_blank\">https://wandb.ai/nadav_bor/SmartAE/runs/9zpih2mj</a><br/>\n",
              "                "
            ],
            "text/plain": [
              "<IPython.core.display.HTML object>"
            ]
          },
          "metadata": {
            "tags": []
          }
        }
      ]
    },
    {
      "cell_type": "code",
      "metadata": {
        "id": "26Y6-pTtrj2l"
      },
      "source": [
        "def fit_model_artifacts(run, num_epochs=5, learning_rate=1e-3, pred_loss_weight=1):\n",
        "\n",
        "    # loading the data\n",
        "    data = run.use_artifact('mnist-processed:latest')\n",
        "    data_dir = data.download()\n",
        "    training_dataset =  read_artifact(data_dir, \"train\")\n",
        "    validation_dataset = read_artifact(data_dir, \"val\")\n",
        "\n",
        "    train_loader = DataLoader(dataset=training_dataset, batch_size=batch_size, shuffle=True)\n",
        "    test_loader = DataLoader(dataset=validation_dataset, batch_size=batch_size, shuffle=False)\n",
        "\n",
        "    # loading the model\n",
        "    model_artifact = run.use_artifact(\"SmartAutoEncoder:latest\")\n",
        "    model_dir = model_artifact.download()\n",
        "    model_path = os.path.join(model_dir, \"model.pt\")\n",
        "    model = torch.load(model_path)\n",
        "\n",
        "    criterion = SmartAELoss(pred_loss_weight).to(device)\n",
        "    optimizer = torch.optim.Adam(model.parameters(),\n",
        "                                 lr=learning_rate, \n",
        "                                 weight_decay=1e-5)\n",
        "    \n",
        "    for epoch in range(num_epochs):\n",
        "        train_metrics = train(epoch, model, train_loader, criterion, optimizer)\n",
        "        val_metrics = validate(epoch, model, test_loader, criterion)\n",
        "\n",
        "        print('Epoch:{}, Train Loss:{:.4f}, Train Accuracy:{:.4f}'.format(epoch+1, train_metrics[\"total_loss\"], train_metrics[\"pred_acc\"]), end=\" \")\n",
        "        print('Epoch:{}, Val Loss:{:.4f}, Val Accuracy:{:.4f}'.format(epoch+1, val_metrics[\"total_loss\"], val_metrics[\"pred_acc\"]))\n",
        "    \n",
        "\n",
        "    scatter_plot = plot_tsne(model)\n",
        "    wandb.log({\"tsne_plot\": scatter_plot}) \n",
        "\n",
        "    # saving the trained model\n",
        "    model_artifact = wandb.Artifact(\n",
        "            \"trained-model\", type=\"model\",\n",
        "            description=\"trained smart AE\",\n",
        "            metadata=dict(config))\n",
        "\n",
        "    torch.save(model, \"trained_model.pt\")\n",
        "    model_artifact.add_file(\"trained_model.pt\")\n",
        "    wandb.save(\"trained_model.pt\")\n",
        "\n",
        "    run.log_artifact(model_artifact)\n",
        "    return model\n"
      ],
      "execution_count": null,
      "outputs": []
    },
    {
      "cell_type": "code",
      "metadata": {
        "colab": {
          "base_uri": "https://localhost:8080/",
          "height": 963,
          "referenced_widgets": [
            "458641f1e82f4b65a82e15a4c03cd078",
            "0e02cea021ab4935a0d96eb092174b82",
            "26d2bfe2af2d4b4cb4952f53e89eae29",
            "ac4046ca47234f1b87f2cce0b55fff30",
            "37785d4a79fd42c69829589fb6244b88",
            "db18966e70cb4e7fb186a66a07b689a6",
            "e5a4c3665c2e4cc18d3c287c456a42a4",
            "c10a1dc155274f7682ac3a91bb474ad5"
          ]
        },
        "id": "lTvg0Xelr1NP",
        "outputId": "8146775a-fc39-43b5-8705-3812d55ae9fb"
      },
      "source": [
        "with wandb.init(project=\"SmartAE\", job_type=\"train-model\", name=\"train-model\", config=config_dict) as run:\n",
        "  config = wandb.config\n",
        "  model = fit_model_artifacts(run, config.epochs, pred_loss_weight=config.pred_loss_weight, learning_rate=config.learning_rate)"
      ],
      "execution_count": null,
      "outputs": [
        {
          "output_type": "stream",
          "text": [
            "\u001b[34m\u001b[1mwandb\u001b[0m: \u001b[33mWARNING\u001b[0m Ignored wandb.init() arg project when running a sweep\n"
          ],
          "name": "stderr"
        },
        {
          "output_type": "display_data",
          "data": {
            "text/html": [
              "\n",
              "                Tracking run with wandb version 0.10.22<br/>\n",
              "                Syncing run <strong style=\"color:#cdcd00\">train-model</strong> to <a href=\"https://wandb.ai\" target=\"_blank\">Weights & Biases</a> <a href=\"https://docs.wandb.com/integrations/jupyter.html\" target=\"_blank\">(Documentation)</a>.<br/>\n",
              "                Project page: <a href=\"https://wandb.ai/nadav_bor/SmartAE\" target=\"_blank\">https://wandb.ai/nadav_bor/SmartAE</a><br/>\n",
              "                Sweep page: <a href=\"https://wandb.ai/nadav_bor/SmartAE/sweeps/rpn1tygf\" target=\"_blank\">https://wandb.ai/nadav_bor/SmartAE/sweeps/rpn1tygf</a><br/>\n",
              "Run page: <a href=\"https://wandb.ai/nadav_bor/SmartAE/runs/9zpih2mj\" target=\"_blank\">https://wandb.ai/nadav_bor/SmartAE/runs/9zpih2mj</a><br/>\n",
              "                Run data is saved locally in <code>/content/wandb/run-20210315_213350-9zpih2mj</code><br/><br/>\n",
              "            "
            ],
            "text/plain": [
              "<IPython.core.display.HTML object>"
            ]
          },
          "metadata": {
            "tags": []
          }
        },
        {
          "output_type": "stream",
          "text": [
            "Epoch:1, Train Loss:1.6146, Train Accuracy:66.8414 Epoch:1, Val Loss:0.5358, Val Accuracy:82.2290\n",
            "Epoch:2, Train Loss:0.3893, Train Accuracy:84.3948 Epoch:2, Val Loss:0.4217, Val Accuracy:84.8695\n"
          ],
          "name": "stdout"
        },
        {
          "output_type": "display_data",
          "data": {
            "text/html": [
              "<br/>Waiting for W&B process to finish, PID 6530<br/>Program ended successfully."
            ],
            "text/plain": [
              "<IPython.core.display.HTML object>"
            ]
          },
          "metadata": {
            "tags": []
          }
        },
        {
          "output_type": "display_data",
          "data": {
            "application/vnd.jupyter.widget-view+json": {
              "model_id": "458641f1e82f4b65a82e15a4c03cd078",
              "version_minor": 0,
              "version_major": 2
            },
            "text/plain": [
              "VBox(children=(Label(value=' 0.54MB of 0.54MB uploaded (0.00MB deduped)\\r'), FloatProgress(value=1.0, max=1.0)…"
            ]
          },
          "metadata": {
            "tags": []
          }
        },
        {
          "output_type": "display_data",
          "data": {
            "text/html": [
              "Find user logs for this run at: <code>/content/wandb/run-20210315_213350-9zpih2mj/logs/debug.log</code>"
            ],
            "text/plain": [
              "<IPython.core.display.HTML object>"
            ]
          },
          "metadata": {
            "tags": []
          }
        },
        {
          "output_type": "display_data",
          "data": {
            "text/html": [
              "Find internal logs for this run at: <code>/content/wandb/run-20210315_213350-9zpih2mj/logs/debug-internal.log</code>"
            ],
            "text/plain": [
              "<IPython.core.display.HTML object>"
            ]
          },
          "metadata": {
            "tags": []
          }
        },
        {
          "output_type": "display_data",
          "data": {
            "text/html": [
              "<h3>Run summary:</h3><br/><style>\n",
              "    table.wandb td:nth-child(1) { padding: 0 10px; text-align: right }\n",
              "    </style><table class=\"wandb\">\n",
              "<tr><td>recon_loss</td><td>0.09062</td></tr><tr><td>pred_loss</td><td>0.44532</td></tr><tr><td>pred_acc</td><td>10.9375</td></tr><tr><td>total_loss</td><td>0.37438</td></tr><tr><td>epoch</td><td>1</td></tr><tr><td>_runtime</td><td>15</td></tr><tr><td>_timestamp</td><td>1615844045</td></tr><tr><td>_step</td><td>162</td></tr><tr><td>val_accuracy</td><td>84.86946</td></tr><tr><td>val_recon_loss</td><td>0.09193</td></tr><tr><td>val_prediction_loss</td><td>0.50418</td></tr><tr><td>val_total_loss</td><td>0.42173</td></tr></table>"
            ],
            "text/plain": [
              "<IPython.core.display.HTML object>"
            ]
          },
          "metadata": {
            "tags": []
          }
        },
        {
          "output_type": "display_data",
          "data": {
            "text/html": [
              "<h3>Run history:</h3><br/><style>\n",
              "    table.wandb td:nth-child(1) { padding: 0 10px; text-align: right }\n",
              "    </style><table class=\"wandb\">\n",
              "<tr><td>recon_loss</td><td>█▅▆▆▆▆▆▆▇▆▆▆▅▅▄▃▃▃▂▃▃▃▂▃▂▂▂▂▂▂▁▁▂▂▂▂▂▂▁▁</td></tr><tr><td>pred_loss</td><td>█▁▁▁▁▁▁▁▁▁▁▁▁▁▁▁▁▁▁▁▁▁▁▁▁▁▁▁▁▁▁▁▁▁▁▁▁▁▁▁</td></tr><tr><td>pred_acc</td><td>▁▃▂▄▅▆▆▇▆▇▇▇▇▇▇▇▇▇▇▇▇▇▇▇██▇▇▇█▇█▇▇▇▇█▇█▁</td></tr><tr><td>total_loss</td><td>█▁▁▁▁▁▁▁▁▁▁▁▁▁▁▁▁▁▁▁▁▁▁▁▁▁▁▁▁▁▁▁▁▁▁▁▁▁▁▁</td></tr><tr><td>epoch</td><td>▁▁▁▁▁▁▁▁▁▁▁▁▁▁▁▁▁▁▁▁████████████████████</td></tr><tr><td>_runtime</td><td>▁▁▁▁▁▃▃▃▃▃▃▃▃▃▃▃▃▃▃▃▅▅▅▅▅▅▅▅▅▅▅▆▆▆▆▆▆▆▆█</td></tr><tr><td>_timestamp</td><td>▁▁▁▁▁▃▃▃▃▃▃▃▃▃▃▃▃▃▃▃▅▅▅▅▅▅▅▅▅▅▅▆▆▆▆▆▆▆▆█</td></tr><tr><td>_step</td><td>▁▁▁▂▂▂▂▂▂▃▃▃▃▃▃▄▄▄▄▄▅▅▅▅▅▅▆▆▆▆▆▇▇▇▇▇▇███</td></tr><tr><td>val_accuracy</td><td>▁█</td></tr><tr><td>val_recon_loss</td><td>█▁</td></tr><tr><td>val_prediction_loss</td><td>█▁</td></tr><tr><td>val_total_loss</td><td>█▁</td></tr></table><br/>"
            ],
            "text/plain": [
              "<IPython.core.display.HTML object>"
            ]
          },
          "metadata": {
            "tags": []
          }
        },
        {
          "output_type": "display_data",
          "data": {
            "text/html": [
              "Synced 5 W&B file(s), 3 media file(s), 1 artifact file(s) and 1 other file(s)"
            ],
            "text/plain": [
              "<IPython.core.display.HTML object>"
            ]
          },
          "metadata": {
            "tags": []
          }
        },
        {
          "output_type": "display_data",
          "data": {
            "text/html": [
              "\n",
              "                    <br/>Synced <strong style=\"color:#cdcd00\">train-model</strong>: <a href=\"https://wandb.ai/nadav_bor/SmartAE/runs/9zpih2mj\" target=\"_blank\">https://wandb.ai/nadav_bor/SmartAE/runs/9zpih2mj</a><br/>\n",
              "                "
            ],
            "text/plain": [
              "<IPython.core.display.HTML object>"
            ]
          },
          "metadata": {
            "tags": []
          }
        }
      ]
    }
  ]
}